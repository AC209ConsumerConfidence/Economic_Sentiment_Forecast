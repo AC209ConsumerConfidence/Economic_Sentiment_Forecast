{
 "cells": [
  {
   "cell_type": "code",
   "execution_count": 1,
   "metadata": {
    "collapsed": false
   },
   "outputs": [
    {
     "name": "stderr",
     "output_type": "stream",
     "text": [
      "/Users/kshain/anaconda/envs/AC209/lib/python2.7/site-packages/matplotlib/font_manager.py:273: UserWarning: Matplotlib is building the font cache using fc-list. This may take a moment.\n",
      "  warnings.warn('Matplotlib is building the font cache using fc-list. This may take a moment.')\n"
     ]
    }
   ],
   "source": [
    "import numpy as np\n",
    "import matplotlib\n",
    "import matplotlib.pyplot as plt\n",
    "import pandas as pd\n",
    "%matplotlib inline\n",
    "import datetime\n",
    "import csv\n",
    "import math\n",
    "import time\n",
    "from ProgressBar import ProgressBar\n",
    "\n",
    "import nltk\n",
    "import string\n",
    "from collections import defaultdict\n",
    "from sklearn.feature_extraction.text import CountVectorizer\n",
    "from sklearn.feature_extraction.text import TfidfVectorizer\n",
    "\n",
    "from sklearn.decomposition import LatentDirichletAllocation\n",
    "from sklearn.linear_model import Lasso"
   ]
  },
  {
   "cell_type": "markdown",
   "metadata": {},
   "source": [
    "The raw output from the NY Times API is stored as separate csv files for each year. We currently have all the data from 1997 onwards, but will just show a subset as an example here. The data includes the date of publication, article id, headline, and lead paragraph. We then stem the lead paragragh to increase the accuracy of the bag of words by eliminating meaningless variations of a word."
   ]
  },
  {
   "cell_type": "code",
   "execution_count": 17,
   "metadata": {
    "collapsed": true
   },
   "outputs": [],
   "source": [
    "all_data_list = []\n",
    "for year in range(1997,2007):\n",
    "    data = pd.read_csv('{}_Output.csv'.format(year), header=None)\n",
    "    all_data_list.append(data) # list of dataframes\n",
    "data = pd.concat(all_data_list, axis=0)\n",
    "data.columns = ['id','date','headline', 'lead']\n",
    "data['yearmonth'] = map(lambda x: x[:7], data.date)"
   ]
  },
  {
   "cell_type": "code",
   "execution_count": 18,
   "metadata": {
    "collapsed": true
   },
   "outputs": [],
   "source": [
    "def getStems(lead):\n",
    "    stemmer = nltk.stem.SnowballStemmer(\"english\")\n",
    "    tokens = nltk.word_tokenize(''.join(ch for ch in lead if ch not in set(string.punctuation)))\n",
    "    return map(lambda x: stemmer.stem(x.decode('utf-8')), tokens)"
   ]
  },
  {
   "cell_type": "code",
   "execution_count": 19,
   "metadata": {
    "collapsed": true
   },
   "outputs": [],
   "source": [
    "def joinstems(stemlist):\n",
    "    return ' '.join(stem for stem in stemlist)"
   ]
  },
  {
   "cell_type": "code",
   "execution_count": 20,
   "metadata": {
    "collapsed": true
   },
   "outputs": [],
   "source": [
    "stems = map(getStems, data.lead)"
   ]
  },
  {
   "cell_type": "code",
   "execution_count": 21,
   "metadata": {
    "collapsed": true
   },
   "outputs": [],
   "source": [
    "data['leadstems'] = map(joinstems, stems)"
   ]
  },
  {
   "cell_type": "code",
   "execution_count": 22,
   "metadata": {
    "collapsed": false
   },
   "outputs": [
    {
     "data": {
      "text/html": [
       "<div>\n",
       "<table border=\"1\" class=\"dataframe\">\n",
       "  <thead>\n",
       "    <tr style=\"text-align: right;\">\n",
       "      <th></th>\n",
       "      <th>id</th>\n",
       "      <th>date</th>\n",
       "      <th>headline</th>\n",
       "      <th>lead</th>\n",
       "      <th>yearmonth</th>\n",
       "      <th>leadstems</th>\n",
       "    </tr>\n",
       "  </thead>\n",
       "  <tbody>\n",
       "    <tr>\n",
       "      <th>0</th>\n",
       "      <td>52b86fb738f0d86bcb2a4e19</td>\n",
       "      <td>1997-01-01T00:00:00Z</td>\n",
       "      <td>Horizon Settles Billing Inquiry</td>\n",
       "      <td>The Horizon/CMS Health Care Corporation said t...</td>\n",
       "      <td>1997-01</td>\n",
       "      <td>the horizoncm health care corpor said today th...</td>\n",
       "    </tr>\n",
       "    <tr>\n",
       "      <th>1</th>\n",
       "      <td>4fd1f8368eb7c8105d753f3b</td>\n",
       "      <td>1997-01-08T00:00:00Z</td>\n",
       "      <td>Texaco Witness Is Said to Be Talking to U.S.</td>\n",
       "      <td>The central figure in the Texaco scandal has b...</td>\n",
       "      <td>1997-01</td>\n",
       "      <td>the central figur in the texaco scandal has be...</td>\n",
       "    </tr>\n",
       "    <tr>\n",
       "      <th>2</th>\n",
       "      <td>4fd1f8368eb7c8105d753f41</td>\n",
       "      <td>1997-01-08T00:00:00Z</td>\n",
       "      <td>14 sound stages will be built on speculation s...</td>\n",
       "      <td>A DEVELOPMENT partnership has acquired a site ...</td>\n",
       "      <td>1997-01</td>\n",
       "      <td>a develop partnership has acquir a site in thi...</td>\n",
       "    </tr>\n",
       "    <tr>\n",
       "      <th>3</th>\n",
       "      <td>4fd1fcc98eb7c8105d75be6c</td>\n",
       "      <td>1997-01-08T00:00:00Z</td>\n",
       "      <td>More rental car drivers will have the option o...</td>\n",
       "      <td>GETTING lost may become less of a problem for ...</td>\n",
       "      <td>1997-01</td>\n",
       "      <td>get lost may becom less of a problem for mani ...</td>\n",
       "    </tr>\n",
       "    <tr>\n",
       "      <th>4</th>\n",
       "      <td>4fd1cd7c8eb7c8105d704a32</td>\n",
       "      <td>1997-01-08T00:00:00Z</td>\n",
       "      <td>DELTA AIR LINES TO REALIGN ITS ROUTES</td>\n",
       "      <td>Delta Air Lines Inc. said yesterday that it wo...</td>\n",
       "      <td>1997-01</td>\n",
       "      <td>delta air line inc said yesterday that it woul...</td>\n",
       "    </tr>\n",
       "  </tbody>\n",
       "</table>\n",
       "</div>"
      ],
      "text/plain": [
       "                         id                  date  \\\n",
       "0  52b86fb738f0d86bcb2a4e19  1997-01-01T00:00:00Z   \n",
       "1  4fd1f8368eb7c8105d753f3b  1997-01-08T00:00:00Z   \n",
       "2  4fd1f8368eb7c8105d753f41  1997-01-08T00:00:00Z   \n",
       "3  4fd1fcc98eb7c8105d75be6c  1997-01-08T00:00:00Z   \n",
       "4  4fd1cd7c8eb7c8105d704a32  1997-01-08T00:00:00Z   \n",
       "\n",
       "                                            headline  \\\n",
       "0                    Horizon Settles Billing Inquiry   \n",
       "1       Texaco Witness Is Said to Be Talking to U.S.   \n",
       "2  14 sound stages will be built on speculation s...   \n",
       "3  More rental car drivers will have the option o...   \n",
       "4              DELTA AIR LINES TO REALIGN ITS ROUTES   \n",
       "\n",
       "                                                lead yearmonth  \\\n",
       "0  The Horizon/CMS Health Care Corporation said t...   1997-01   \n",
       "1  The central figure in the Texaco scandal has b...   1997-01   \n",
       "2  A DEVELOPMENT partnership has acquired a site ...   1997-01   \n",
       "3  GETTING lost may become less of a problem for ...   1997-01   \n",
       "4  Delta Air Lines Inc. said yesterday that it wo...   1997-01   \n",
       "\n",
       "                                           leadstems  \n",
       "0  the horizoncm health care corpor said today th...  \n",
       "1  the central figur in the texaco scandal has be...  \n",
       "2  a develop partnership has acquir a site in thi...  \n",
       "3  get lost may becom less of a problem for mani ...  \n",
       "4  delta air line inc said yesterday that it woul...  "
      ]
     },
     "execution_count": 22,
     "metadata": {},
     "output_type": "execute_result"
    }
   ],
   "source": [
    "data.head()"
   ]
  },
  {
   "cell_type": "markdown",
   "metadata": {},
   "source": [
    "## Count vectorizing\n",
    "We will perform topic modeling as a means of feature reduction. Using individual stems as the features led to a high dimensional problem where none of the stems were correlated with CCI beyond the noise. Therefore, we will extract how much each document corresponds to a given topic and then try using those topics as the features to a model."
   ]
  },
  {
   "cell_type": "code",
   "execution_count": 23,
   "metadata": {
    "collapsed": true
   },
   "outputs": [],
   "source": [
    "countVec = CountVectorizer(stop_words='english', max_df=0.8, min_df=.005, strip_accents='unicode')\n",
    "wordMatrix = countVec.fit_transform(data.leadstems)\n",
    "unigramVocab = countVec.get_feature_names()"
   ]
  },
  {
   "cell_type": "code",
   "execution_count": 24,
   "metadata": {
    "collapsed": true
   },
   "outputs": [],
   "source": [
    "lda = LatentDirichletAllocation(n_topics=10)\n",
    "ldaDocs = lda.fit_transform(wordMatrix)"
   ]
  },
  {
   "cell_type": "code",
   "execution_count": 25,
   "metadata": {
    "collapsed": true
   },
   "outputs": [],
   "source": [
    "num_top_words = 10\n",
    "topic_words = []\n",
    "\n",
    "for topic in lda.components_:\n",
    "    word_idx = np.argsort(topic)[::-1][0:num_top_words]\n",
    "    topic_words.append([unigramVocab[i] for i in word_idx])"
   ]
  },
  {
   "cell_type": "code",
   "execution_count": 26,
   "metadata": {
    "collapsed": false
   },
   "outputs": [
    {
     "data": {
      "text/html": [
       "<div>\n",
       "<table border=\"1\" class=\"dataframe\">\n",
       "  <thead>\n",
       "    <tr style=\"text-align: right;\">\n",
       "      <th></th>\n",
       "      <th>Stem 1</th>\n",
       "      <th>Stem 2</th>\n",
       "      <th>Stem 3</th>\n",
       "      <th>Stem 4</th>\n",
       "      <th>Stem 5</th>\n",
       "      <th>Stem 6</th>\n",
       "      <th>Stem 7</th>\n",
       "      <th>Stem 8</th>\n",
       "      <th>Stem 9</th>\n",
       "      <th>Stem 10</th>\n",
       "    </tr>\n",
       "  </thead>\n",
       "  <tbody>\n",
       "    <tr>\n",
       "      <th>Topic 1</th>\n",
       "      <td>stock</td>\n",
       "      <td>percent</td>\n",
       "      <td>market</td>\n",
       "      <td>rate</td>\n",
       "      <td>price</td>\n",
       "      <td>week</td>\n",
       "      <td>investor</td>\n",
       "      <td>report</td>\n",
       "      <td>trade</td>\n",
       "      <td>index</td>\n",
       "    </tr>\n",
       "    <tr>\n",
       "      <th>Topic 2</th>\n",
       "      <td>bank</td>\n",
       "      <td>cut</td>\n",
       "      <td>euro</td>\n",
       "      <td>dollar</td>\n",
       "      <td>job</td>\n",
       "      <td>said</td>\n",
       "      <td>european</td>\n",
       "      <td>union</td>\n",
       "      <td>worker</td>\n",
       "      <td>japan</td>\n",
       "    </tr>\n",
       "    <tr>\n",
       "      <th>Topic 3</th>\n",
       "      <td>bond</td>\n",
       "      <td>rate</td>\n",
       "      <td>ago</td>\n",
       "      <td>buyer</td>\n",
       "      <td>10yr</td>\n",
       "      <td>music</td>\n",
       "      <td>tbill</td>\n",
       "      <td>sourc</td>\n",
       "      <td>500</td>\n",
       "      <td>percent</td>\n",
       "    </tr>\n",
       "    <tr>\n",
       "      <th>Topic 4</th>\n",
       "      <td>percent</td>\n",
       "      <td>said</td>\n",
       "      <td>million</td>\n",
       "      <td>year</td>\n",
       "      <td>share</td>\n",
       "      <td>sale</td>\n",
       "      <td>compani</td>\n",
       "      <td>quarter</td>\n",
       "      <td>cent</td>\n",
       "      <td>profit</td>\n",
       "    </tr>\n",
       "    <tr>\n",
       "      <th>Topic 5</th>\n",
       "      <td>execut</td>\n",
       "      <td>chief</td>\n",
       "      <td>mr</td>\n",
       "      <td>new</td>\n",
       "      <td>compani</td>\n",
       "      <td>group</td>\n",
       "      <td>york</td>\n",
       "      <td>presid</td>\n",
       "      <td>offic</td>\n",
       "      <td>account</td>\n",
       "    </tr>\n",
       "    <tr>\n",
       "      <th>Topic 6</th>\n",
       "      <td>compani</td>\n",
       "      <td>said</td>\n",
       "      <td>feder</td>\n",
       "      <td>internet</td>\n",
       "      <td>file</td>\n",
       "      <td>court</td>\n",
       "      <td>secur</td>\n",
       "      <td>commiss</td>\n",
       "      <td>state</td>\n",
       "      <td>servic</td>\n",
       "    </tr>\n",
       "    <tr>\n",
       "      <th>Topic 7</th>\n",
       "      <td>oil</td>\n",
       "      <td>state</td>\n",
       "      <td>unit</td>\n",
       "      <td>china</td>\n",
       "      <td>govern</td>\n",
       "      <td>demand</td>\n",
       "      <td>price</td>\n",
       "      <td>countri</td>\n",
       "      <td>energi</td>\n",
       "      <td>gas</td>\n",
       "    </tr>\n",
       "    <tr>\n",
       "      <th>Topic 8</th>\n",
       "      <td>compani</td>\n",
       "      <td>said</td>\n",
       "      <td>million</td>\n",
       "      <td>billion</td>\n",
       "      <td>share</td>\n",
       "      <td>base</td>\n",
       "      <td>yesterday</td>\n",
       "      <td>unit</td>\n",
       "      <td>buy</td>\n",
       "      <td>offer</td>\n",
       "    </tr>\n",
       "    <tr>\n",
       "      <th>Topic 9</th>\n",
       "      <td>year</td>\n",
       "      <td>time</td>\n",
       "      <td>airlin</td>\n",
       "      <td>busi</td>\n",
       "      <td>like</td>\n",
       "      <td>say</td>\n",
       "      <td>peopl</td>\n",
       "      <td>week</td>\n",
       "      <td>new</td>\n",
       "      <td>mani</td>\n",
       "    </tr>\n",
       "    <tr>\n",
       "      <th>Topic 10</th>\n",
       "      <td>fund</td>\n",
       "      <td>comput</td>\n",
       "      <td>compani</td>\n",
       "      <td>drug</td>\n",
       "      <td>product</td>\n",
       "      <td>technolog</td>\n",
       "      <td>softwar</td>\n",
       "      <td>use</td>\n",
       "      <td>said</td>\n",
       "      <td>market</td>\n",
       "    </tr>\n",
       "  </tbody>\n",
       "</table>\n",
       "</div>"
      ],
      "text/plain": [
       "           Stem 1   Stem 2   Stem 3    Stem 4   Stem 5     Stem 6     Stem 7  \\\n",
       "Topic 1     stock  percent   market      rate    price       week   investor   \n",
       "Topic 2      bank      cut     euro    dollar      job       said   european   \n",
       "Topic 3      bond     rate      ago     buyer     10yr      music      tbill   \n",
       "Topic 4   percent     said  million      year    share       sale    compani   \n",
       "Topic 5    execut    chief       mr       new  compani      group       york   \n",
       "Topic 6   compani     said    feder  internet     file      court      secur   \n",
       "Topic 7       oil    state     unit     china   govern     demand      price   \n",
       "Topic 8   compani     said  million   billion    share       base  yesterday   \n",
       "Topic 9      year     time   airlin      busi     like        say      peopl   \n",
       "Topic 10     fund   comput  compani      drug  product  technolog    softwar   \n",
       "\n",
       "           Stem 8  Stem 9  Stem 10  \n",
       "Topic 1    report   trade    index  \n",
       "Topic 2     union  worker    japan  \n",
       "Topic 3     sourc     500  percent  \n",
       "Topic 4   quarter    cent   profit  \n",
       "Topic 5    presid   offic  account  \n",
       "Topic 6   commiss   state   servic  \n",
       "Topic 7   countri  energi      gas  \n",
       "Topic 8      unit     buy    offer  \n",
       "Topic 9      week     new     mani  \n",
       "Topic 10      use    said   market  "
      ]
     },
     "execution_count": 26,
     "metadata": {},
     "output_type": "execute_result"
    }
   ],
   "source": [
    "topicDF = pd.DataFrame(topic_words)\n",
    "topicDF.index = ['Topic {}'.format(i) for i in range(1,11)]\n",
    "topicDF.columns = ['Stem {}'.format(i) for i in range(1,11)]\n",
    "topicDF"
   ]
  },
  {
   "cell_type": "markdown",
   "metadata": {},
   "source": [
    "It is interesting that the topics we find seem to make some sense. You can see how some articles fall into more banking, stock market, technology, advertising, etc. so the topics reflect words from those subject areas."
   ]
  },
  {
   "cell_type": "markdown",
   "metadata": {},
   "source": [
    "## Group by month\n",
    "Then, I'll group the articles by month and find the average topics by month."
   ]
  },
  {
   "cell_type": "code",
   "execution_count": 27,
   "metadata": {
    "collapsed": true
   },
   "outputs": [],
   "source": [
    "grouped = data.groupby('yearmonth')"
   ]
  },
  {
   "cell_type": "code",
   "execution_count": 28,
   "metadata": {
    "collapsed": true
   },
   "outputs": [],
   "source": [
    "topicsByMonth = np.zeros((len(grouped.groups.keys()),ldaDocs.shape[1]))\n",
    "for i, month in enumerate(np.sort(grouped.groups.keys())):\n",
    "    topicsByMonth[i] = np.mean(ldaDocs[grouped.get_group(month).index], axis=0)"
   ]
  },
  {
   "cell_type": "code",
   "execution_count": 29,
   "metadata": {
    "collapsed": false
   },
   "outputs": [
    {
     "data": {
      "text/plain": [
       "<matplotlib.legend.Legend at 0x114ea5250>"
      ]
     },
     "execution_count": 29,
     "metadata": {},
     "output_type": "execute_result"
    },
    {
     "data": {
      "image/png": "[encoded data removed]",
      "text/plain": [
       "<matplotlib.figure.Figure at 0x114ea5190>"
      ]
     },
     "metadata": {},
     "output_type": "display_data"
    }
   ],
   "source": [
    "for topic in range(topicsByMonth.shape[1]):\n",
    "    plt.plot(topicsByMonth[:,topic], label='Topic {}'.format(topic+1))\n",
    "plt.legend(loc='best')"
   ]
  },
  {
   "cell_type": "markdown",
   "metadata": {},
   "source": [
    "We can see that the topics are highly seasonal, as one might expect. Therefore, it is probably a good idea to include the topics lagged by 12 months in our final model."
   ]
  },
  {
   "cell_type": "code",
   "execution_count": null,
   "metadata": {
    "collapsed": true
   },
   "outputs": [],
   "source": []
  }
 ],
 "metadata": {
  "kernelspec": {
   "display_name": "Python [conda env:AC209]",
   "language": "python",
   "name": "conda-env-AC209-py"
  },
  "language_info": {
   "codemirror_mode": {
    "name": "ipython",
    "version": 2
   },
   "file_extension": ".py",
   "mimetype": "text/x-python",
   "name": "python",
   "nbconvert_exporter": "python",
   "pygments_lexer": "ipython2",
   "version": "2.7.12"
  }
 },
 "nbformat": 4,
 "nbformat_minor": 0
}
