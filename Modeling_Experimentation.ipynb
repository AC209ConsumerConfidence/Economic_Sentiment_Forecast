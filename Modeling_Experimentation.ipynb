{
 "cells": [
  {
   "cell_type": "code",
   "execution_count": 57,
   "metadata": {
    "collapsed": false
   },
   "outputs": [],
   "source": [
    "import numpy as np\n",
    "import matplotlib\n",
    "import matplotlib.pyplot as plt\n",
    "import pandas as pd\n",
    "%matplotlib inline\n",
    "import datetime\n",
    "import csv\n",
    "import math\n",
    "import time\n",
    "from ProgressBar import ProgressBar\n",
    "import scipy\n",
    "import pickle\n",
    "import cPickle\n",
    "\n",
    "\n",
    "import nltk\n",
    "import string\n",
    "from collections import defaultdict\n",
    "from sklearn.feature_extraction.text import CountVectorizer\n",
    "from sklearn.feature_extraction.text import TfidfVectorizer\n",
    "\n",
    "from sklearn.decomposition import LatentDirichletAllocation\n",
    "from sklearn.linear_model import Lasso\n",
    "from sklearn.cross_validation import train_test_split"
   ]
  },
  {
   "cell_type": "code",
   "execution_count": 7,
   "metadata": {
    "collapsed": true
   },
   "outputs": [],
   "source": [
    "def save_sparse_csr(filename,array):\n",
    "    np.savez(filename,data = array.data ,indices=array.indices,\n",
    "             indptr =array.indptr, shape=array.shape )\n",
    "\n",
    "def load_sparse_csr(filename):\n",
    "    loader = np.load(filename)\n",
    "    return scipy.sparse.csr_matrix((  loader['data'], loader['indices'], loader['indptr']),\n",
    "                         shape = loader['shape'])"
   ]
  },
  {
   "cell_type": "markdown",
   "metadata": {},
   "source": [
    "# Load CCI data"
   ]
  },
  {
   "cell_type": "code",
   "execution_count": 77,
   "metadata": {
    "collapsed": false
   },
   "outputs": [
    {
     "data": {
      "text/html": [
       "<div>\n",
       "<table border=\"1\" class=\"dataframe\">\n",
       "  <thead>\n",
       "    <tr style=\"text-align: right;\">\n",
       "      <th></th>\n",
       "      <th>CCI</th>\n",
       "    </tr>\n",
       "    <tr>\n",
       "      <th>TIME</th>\n",
       "      <th></th>\n",
       "    </tr>\n",
       "  </thead>\n",
       "  <tbody>\n",
       "    <tr>\n",
       "      <th>1960-01</th>\n",
       "      <td>101.5840</td>\n",
       "    </tr>\n",
       "    <tr>\n",
       "      <th>1960-02</th>\n",
       "      <td>101.3255</td>\n",
       "    </tr>\n",
       "    <tr>\n",
       "      <th>1960-03</th>\n",
       "      <td>101.1023</td>\n",
       "    </tr>\n",
       "    <tr>\n",
       "      <th>1960-04</th>\n",
       "      <td>100.9791</td>\n",
       "    </tr>\n",
       "    <tr>\n",
       "      <th>1960-05</th>\n",
       "      <td>101.0102</td>\n",
       "    </tr>\n",
       "  </tbody>\n",
       "</table>\n",
       "</div>"
      ],
      "text/plain": [
       "              CCI\n",
       "TIME             \n",
       "1960-01  101.5840\n",
       "1960-02  101.3255\n",
       "1960-03  101.1023\n",
       "1960-04  100.9791\n",
       "1960-05  101.0102"
      ]
     },
     "execution_count": 77,
     "metadata": {},
     "output_type": "execute_result"
    }
   ],
   "source": [
    "CCI = pd.read_csv('CCI.csv')[['TIME','Value']]\n",
    "CCI.set_index('TIME', inplace=True)\n",
    "CCI.columns = ['CCI']\n",
    "CCI.head()"
   ]
  },
  {
   "cell_type": "code",
   "execution_count": 82,
   "metadata": {
    "collapsed": true
   },
   "outputs": [],
   "source": [
    "CCIlimited = CCI.iloc[np.where(CCI.index=='1990-01')[0][0]:(np.where(CCI.index=='2016-09')[0]+1)[0]]"
   ]
  },
  {
   "cell_type": "markdown",
   "metadata": {},
   "source": [
    "# Load LDA data"
   ]
  },
  {
   "cell_type": "code",
   "execution_count": 6,
   "metadata": {
    "collapsed": false
   },
   "outputs": [],
   "source": [
    "num_topics=10\n",
    "lda = LatentDirichletAllocation(n_topics=num_topics)"
   ]
  },
  {
   "cell_type": "code",
   "execution_count": 8,
   "metadata": {
    "collapsed": true
   },
   "outputs": [],
   "source": [
    "wordMatrix = load_sparse_csr('unigramWordMatrix.npz')"
   ]
  },
  {
   "cell_type": "code",
   "execution_count": 9,
   "metadata": {
    "collapsed": false
   },
   "outputs": [
    {
     "ename": "KeyboardInterrupt",
     "evalue": "",
     "output_type": "error",
     "traceback": [
      "\u001b[0;31m---------------------------------------------------------------------------\u001b[0m",
      "\u001b[0;31mKeyboardInterrupt\u001b[0m                         Traceback (most recent call last)",
      "\u001b[0;32m<ipython-input-9-a02b66105e8a>\u001b[0m in \u001b[0;36m<module>\u001b[0;34m()\u001b[0m\n\u001b[0;32m----> 1\u001b[0;31m \u001b[0mldaDocs\u001b[0m \u001b[0;34m=\u001b[0m \u001b[0mlda\u001b[0m\u001b[0;34m.\u001b[0m\u001b[0mfit_transform\u001b[0m\u001b[0;34m(\u001b[0m\u001b[0mwordMatrix\u001b[0m\u001b[0;34m)\u001b[0m\u001b[0;34m\u001b[0m\u001b[0m\n\u001b[0m",
      "\u001b[0;32m/Users/kshain/anaconda/envs/AC209/lib/python2.7/site-packages/sklearn/base.pyc\u001b[0m in \u001b[0;36mfit_transform\u001b[0;34m(self, X, y, **fit_params)\u001b[0m\n\u001b[1;32m    453\u001b[0m         \u001b[0;32mif\u001b[0m \u001b[0my\u001b[0m \u001b[0;32mis\u001b[0m \u001b[0mNone\u001b[0m\u001b[0;34m:\u001b[0m\u001b[0;34m\u001b[0m\u001b[0m\n\u001b[1;32m    454\u001b[0m             \u001b[0;31m# fit method of arity 1 (unsupervised transformation)\u001b[0m\u001b[0;34m\u001b[0m\u001b[0;34m\u001b[0m\u001b[0m\n\u001b[0;32m--> 455\u001b[0;31m             \u001b[0;32mreturn\u001b[0m \u001b[0mself\u001b[0m\u001b[0;34m.\u001b[0m\u001b[0mfit\u001b[0m\u001b[0;34m(\u001b[0m\u001b[0mX\u001b[0m\u001b[0;34m,\u001b[0m \u001b[0;34m**\u001b[0m\u001b[0mfit_params\u001b[0m\u001b[0;34m)\u001b[0m\u001b[0;34m.\u001b[0m\u001b[0mtransform\u001b[0m\u001b[0;34m(\u001b[0m\u001b[0mX\u001b[0m\u001b[0;34m)\u001b[0m\u001b[0;34m\u001b[0m\u001b[0m\n\u001b[0m\u001b[1;32m    456\u001b[0m         \u001b[0;32melse\u001b[0m\u001b[0;34m:\u001b[0m\u001b[0;34m\u001b[0m\u001b[0m\n\u001b[1;32m    457\u001b[0m             \u001b[0;31m# fit method of arity 2 (supervised transformation)\u001b[0m\u001b[0;34m\u001b[0m\u001b[0;34m\u001b[0m\u001b[0m\n",
      "\u001b[0;32m/Users/kshain/anaconda/envs/AC209/lib/python2.7/site-packages/sklearn/decomposition/online_lda.pyc\u001b[0m in \u001b[0;36mfit\u001b[0;34m(self, X, y)\u001b[0m\n\u001b[1;32m    509\u001b[0m                     \u001b[0;32mfor\u001b[0m \u001b[0midx_slice\u001b[0m \u001b[0;32min\u001b[0m \u001b[0mgen_batches\u001b[0m\u001b[0;34m(\u001b[0m\u001b[0mn_samples\u001b[0m\u001b[0;34m,\u001b[0m \u001b[0mbatch_size\u001b[0m\u001b[0;34m)\u001b[0m\u001b[0;34m:\u001b[0m\u001b[0;34m\u001b[0m\u001b[0m\n\u001b[1;32m    510\u001b[0m                         self._em_step(X[idx_slice, :], total_samples=n_samples,\n\u001b[0;32m--> 511\u001b[0;31m                                       batch_update=False, parallel=parallel)\n\u001b[0m\u001b[1;32m    512\u001b[0m                 \u001b[0;32melse\u001b[0m\u001b[0;34m:\u001b[0m\u001b[0;34m\u001b[0m\u001b[0m\n\u001b[1;32m    513\u001b[0m                     \u001b[0;31m# batch update\u001b[0m\u001b[0;34m\u001b[0m\u001b[0;34m\u001b[0m\u001b[0m\n",
      "\u001b[0;32m/Users/kshain/anaconda/envs/AC209/lib/python2.7/site-packages/sklearn/decomposition/online_lda.pyc\u001b[0m in \u001b[0;36m_em_step\u001b[0;34m(self, X, total_samples, batch_update, parallel)\u001b[0m\n\u001b[1;32m    403\u001b[0m         \u001b[0;31m# E-step\u001b[0m\u001b[0;34m\u001b[0m\u001b[0;34m\u001b[0m\u001b[0m\n\u001b[1;32m    404\u001b[0m         _, suff_stats = self._e_step(X, cal_sstats=True, random_init=True,\n\u001b[0;32m--> 405\u001b[0;31m                                      parallel=parallel)\n\u001b[0m\u001b[1;32m    406\u001b[0m \u001b[0;34m\u001b[0m\u001b[0m\n\u001b[1;32m    407\u001b[0m         \u001b[0;31m# M-step\u001b[0m\u001b[0;34m\u001b[0m\u001b[0;34m\u001b[0m\u001b[0m\n",
      "\u001b[0;32m/Users/kshain/anaconda/envs/AC209/lib/python2.7/site-packages/sklearn/decomposition/online_lda.pyc\u001b[0m in \u001b[0;36m_e_step\u001b[0;34m(self, X, cal_sstats, random_init, parallel)\u001b[0m\n\u001b[1;32m    356\u001b[0m                                               \u001b[0mself\u001b[0m\u001b[0;34m.\u001b[0m\u001b[0mmean_change_tol\u001b[0m\u001b[0;34m,\u001b[0m \u001b[0mcal_sstats\u001b[0m\u001b[0;34m,\u001b[0m\u001b[0;34m\u001b[0m\u001b[0m\n\u001b[1;32m    357\u001b[0m                                               random_state)\n\u001b[0;32m--> 358\u001b[0;31m             for idx_slice in gen_even_slices(X.shape[0], n_jobs))\n\u001b[0m\u001b[1;32m    359\u001b[0m \u001b[0;34m\u001b[0m\u001b[0m\n\u001b[1;32m    360\u001b[0m         \u001b[0;31m# merge result\u001b[0m\u001b[0;34m\u001b[0m\u001b[0;34m\u001b[0m\u001b[0m\n",
      "\u001b[0;32m/Users/kshain/anaconda/envs/AC209/lib/python2.7/site-packages/sklearn/externals/joblib/parallel.pyc\u001b[0m in \u001b[0;36m__call__\u001b[0;34m(self, iterable)\u001b[0m\n\u001b[1;32m    798\u001b[0m             \u001b[0;31m# was dispatched. In particular this covers the edge\u001b[0m\u001b[0;34m\u001b[0m\u001b[0;34m\u001b[0m\u001b[0m\n\u001b[1;32m    799\u001b[0m             \u001b[0;31m# case of Parallel used with an exhausted iterator.\u001b[0m\u001b[0;34m\u001b[0m\u001b[0;34m\u001b[0m\u001b[0m\n\u001b[0;32m--> 800\u001b[0;31m             \u001b[0;32mwhile\u001b[0m \u001b[0mself\u001b[0m\u001b[0;34m.\u001b[0m\u001b[0mdispatch_one_batch\u001b[0m\u001b[0;34m(\u001b[0m\u001b[0miterator\u001b[0m\u001b[0;34m)\u001b[0m\u001b[0;34m:\u001b[0m\u001b[0;34m\u001b[0m\u001b[0m\n\u001b[0m\u001b[1;32m    801\u001b[0m                 \u001b[0mself\u001b[0m\u001b[0;34m.\u001b[0m\u001b[0m_iterating\u001b[0m \u001b[0;34m=\u001b[0m \u001b[0mTrue\u001b[0m\u001b[0;34m\u001b[0m\u001b[0m\n\u001b[1;32m    802\u001b[0m             \u001b[0;32melse\u001b[0m\u001b[0;34m:\u001b[0m\u001b[0;34m\u001b[0m\u001b[0m\n",
      "\u001b[0;32m/Users/kshain/anaconda/envs/AC209/lib/python2.7/site-packages/sklearn/externals/joblib/parallel.pyc\u001b[0m in \u001b[0;36mdispatch_one_batch\u001b[0;34m(self, iterator)\u001b[0m\n\u001b[1;32m    656\u001b[0m                 \u001b[0;32mreturn\u001b[0m \u001b[0mFalse\u001b[0m\u001b[0;34m\u001b[0m\u001b[0m\n\u001b[1;32m    657\u001b[0m             \u001b[0;32melse\u001b[0m\u001b[0;34m:\u001b[0m\u001b[0;34m\u001b[0m\u001b[0m\n\u001b[0;32m--> 658\u001b[0;31m                 \u001b[0mself\u001b[0m\u001b[0;34m.\u001b[0m\u001b[0m_dispatch\u001b[0m\u001b[0;34m(\u001b[0m\u001b[0mtasks\u001b[0m\u001b[0;34m)\u001b[0m\u001b[0;34m\u001b[0m\u001b[0m\n\u001b[0m\u001b[1;32m    659\u001b[0m                 \u001b[0;32mreturn\u001b[0m \u001b[0mTrue\u001b[0m\u001b[0;34m\u001b[0m\u001b[0m\n\u001b[1;32m    660\u001b[0m \u001b[0;34m\u001b[0m\u001b[0m\n",
      "\u001b[0;32m/Users/kshain/anaconda/envs/AC209/lib/python2.7/site-packages/sklearn/externals/joblib/parallel.pyc\u001b[0m in \u001b[0;36m_dispatch\u001b[0;34m(self, batch)\u001b[0m\n\u001b[1;32m    564\u001b[0m \u001b[0;34m\u001b[0m\u001b[0m\n\u001b[1;32m    565\u001b[0m         \u001b[0;32mif\u001b[0m \u001b[0mself\u001b[0m\u001b[0;34m.\u001b[0m\u001b[0m_pool\u001b[0m \u001b[0;32mis\u001b[0m \u001b[0mNone\u001b[0m\u001b[0;34m:\u001b[0m\u001b[0;34m\u001b[0m\u001b[0m\n\u001b[0;32m--> 566\u001b[0;31m             \u001b[0mjob\u001b[0m \u001b[0;34m=\u001b[0m \u001b[0mImmediateComputeBatch\u001b[0m\u001b[0;34m(\u001b[0m\u001b[0mbatch\u001b[0m\u001b[0;34m)\u001b[0m\u001b[0;34m\u001b[0m\u001b[0m\n\u001b[0m\u001b[1;32m    567\u001b[0m             \u001b[0mself\u001b[0m\u001b[0;34m.\u001b[0m\u001b[0m_jobs\u001b[0m\u001b[0;34m.\u001b[0m\u001b[0mappend\u001b[0m\u001b[0;34m(\u001b[0m\u001b[0mjob\u001b[0m\u001b[0;34m)\u001b[0m\u001b[0;34m\u001b[0m\u001b[0m\n\u001b[1;32m    568\u001b[0m             \u001b[0mself\u001b[0m\u001b[0;34m.\u001b[0m\u001b[0mn_dispatched_batches\u001b[0m \u001b[0;34m+=\u001b[0m \u001b[0;36m1\u001b[0m\u001b[0;34m\u001b[0m\u001b[0m\n",
      "\u001b[0;32m/Users/kshain/anaconda/envs/AC209/lib/python2.7/site-packages/sklearn/externals/joblib/parallel.pyc\u001b[0m in \u001b[0;36m__init__\u001b[0;34m(self, batch)\u001b[0m\n\u001b[1;32m    178\u001b[0m         \u001b[0;31m# Don't delay the application, to avoid keeping the input\u001b[0m\u001b[0;34m\u001b[0m\u001b[0;34m\u001b[0m\u001b[0m\n\u001b[1;32m    179\u001b[0m         \u001b[0;31m# arguments in memory\u001b[0m\u001b[0;34m\u001b[0m\u001b[0;34m\u001b[0m\u001b[0m\n\u001b[0;32m--> 180\u001b[0;31m         \u001b[0mself\u001b[0m\u001b[0;34m.\u001b[0m\u001b[0mresults\u001b[0m \u001b[0;34m=\u001b[0m \u001b[0mbatch\u001b[0m\u001b[0;34m(\u001b[0m\u001b[0;34m)\u001b[0m\u001b[0;34m\u001b[0m\u001b[0m\n\u001b[0m\u001b[1;32m    181\u001b[0m \u001b[0;34m\u001b[0m\u001b[0m\n\u001b[1;32m    182\u001b[0m     \u001b[0;32mdef\u001b[0m \u001b[0mget\u001b[0m\u001b[0;34m(\u001b[0m\u001b[0mself\u001b[0m\u001b[0;34m)\u001b[0m\u001b[0;34m:\u001b[0m\u001b[0;34m\u001b[0m\u001b[0m\n",
      "\u001b[0;32m/Users/kshain/anaconda/envs/AC209/lib/python2.7/site-packages/sklearn/externals/joblib/parallel.pyc\u001b[0m in \u001b[0;36m__call__\u001b[0;34m(self)\u001b[0m\n\u001b[1;32m     70\u001b[0m \u001b[0;34m\u001b[0m\u001b[0m\n\u001b[1;32m     71\u001b[0m     \u001b[0;32mdef\u001b[0m \u001b[0m__call__\u001b[0m\u001b[0;34m(\u001b[0m\u001b[0mself\u001b[0m\u001b[0;34m)\u001b[0m\u001b[0;34m:\u001b[0m\u001b[0;34m\u001b[0m\u001b[0m\n\u001b[0;32m---> 72\u001b[0;31m         \u001b[0;32mreturn\u001b[0m \u001b[0;34m[\u001b[0m\u001b[0mfunc\u001b[0m\u001b[0;34m(\u001b[0m\u001b[0;34m*\u001b[0m\u001b[0margs\u001b[0m\u001b[0;34m,\u001b[0m \u001b[0;34m**\u001b[0m\u001b[0mkwargs\u001b[0m\u001b[0;34m)\u001b[0m \u001b[0;32mfor\u001b[0m \u001b[0mfunc\u001b[0m\u001b[0;34m,\u001b[0m \u001b[0margs\u001b[0m\u001b[0;34m,\u001b[0m \u001b[0mkwargs\u001b[0m \u001b[0;32min\u001b[0m \u001b[0mself\u001b[0m\u001b[0;34m.\u001b[0m\u001b[0mitems\u001b[0m\u001b[0;34m]\u001b[0m\u001b[0;34m\u001b[0m\u001b[0m\n\u001b[0m\u001b[1;32m     73\u001b[0m \u001b[0;34m\u001b[0m\u001b[0m\n\u001b[1;32m     74\u001b[0m     \u001b[0;32mdef\u001b[0m \u001b[0m__len__\u001b[0m\u001b[0;34m(\u001b[0m\u001b[0mself\u001b[0m\u001b[0;34m)\u001b[0m\u001b[0;34m:\u001b[0m\u001b[0;34m\u001b[0m\u001b[0m\n",
      "\u001b[0;32m/Users/kshain/anaconda/envs/AC209/lib/python2.7/site-packages/sklearn/decomposition/online_lda.pyc\u001b[0m in \u001b[0;36m_update_doc_distribution\u001b[0;34m(X, exp_topic_word_distr, doc_topic_prior, max_iters, mean_change_tol, cal_sstats, random_state)\u001b[0m\n\u001b[1;32m    104\u001b[0m         \u001b[0;31m# The next one is a copy, since the inner loop overwrites it.\u001b[0m\u001b[0;34m\u001b[0m\u001b[0;34m\u001b[0m\u001b[0m\n\u001b[1;32m    105\u001b[0m         \u001b[0mexp_doc_topic_d\u001b[0m \u001b[0;34m=\u001b[0m \u001b[0mexp_doc_topic\u001b[0m\u001b[0;34m[\u001b[0m\u001b[0midx_d\u001b[0m\u001b[0;34m,\u001b[0m \u001b[0;34m:\u001b[0m\u001b[0;34m]\u001b[0m\u001b[0;34m.\u001b[0m\u001b[0mcopy\u001b[0m\u001b[0;34m(\u001b[0m\u001b[0;34m)\u001b[0m\u001b[0;34m\u001b[0m\u001b[0m\n\u001b[0;32m--> 106\u001b[0;31m         \u001b[0mexp_topic_word_d\u001b[0m \u001b[0;34m=\u001b[0m \u001b[0mexp_topic_word_distr\u001b[0m\u001b[0;34m[\u001b[0m\u001b[0;34m:\u001b[0m\u001b[0;34m,\u001b[0m \u001b[0mids\u001b[0m\u001b[0;34m]\u001b[0m\u001b[0;34m\u001b[0m\u001b[0m\n\u001b[0m\u001b[1;32m    107\u001b[0m \u001b[0;34m\u001b[0m\u001b[0m\n\u001b[1;32m    108\u001b[0m         \u001b[0;31m# Iterate between `doc_topic_d` and `norm_phi` until convergence\u001b[0m\u001b[0;34m\u001b[0m\u001b[0;34m\u001b[0m\u001b[0m\n",
      "\u001b[0;31mKeyboardInterrupt\u001b[0m: "
     ]
    }
   ],
   "source": [
    "ldaDocs = lda.fit_transform(wordMatrix)"
   ]
  },
  {
   "cell_type": "code",
   "execution_count": 11,
   "metadata": {
    "collapsed": false
   },
   "outputs": [],
   "source": [
    "topicsByMonth = np.load('topicsByMonth.npy')"
   ]
  },
  {
   "cell_type": "markdown",
   "metadata": {},
   "source": [
    "# Assemble the features"
   ]
  },
  {
   "cell_type": "code",
   "execution_count": 97,
   "metadata": {
    "collapsed": false
   },
   "outputs": [
    {
     "data": {
      "text/html": [
       "<div>\n",
       "<table border=\"1\" class=\"dataframe\">\n",
       "  <thead>\n",
       "    <tr style=\"text-align: right;\">\n",
       "      <th></th>\n",
       "      <th>Topic_1</th>\n",
       "      <th>Topic_2</th>\n",
       "      <th>Topic_3</th>\n",
       "      <th>Topic_4</th>\n",
       "      <th>Topic_5</th>\n",
       "      <th>Topic_6</th>\n",
       "      <th>Topic_7</th>\n",
       "      <th>Topic_8</th>\n",
       "      <th>Topic_9</th>\n",
       "      <th>Topic_10</th>\n",
       "    </tr>\n",
       "    <tr>\n",
       "      <th>TIME</th>\n",
       "      <th></th>\n",
       "      <th></th>\n",
       "      <th></th>\n",
       "      <th></th>\n",
       "      <th></th>\n",
       "      <th></th>\n",
       "      <th></th>\n",
       "      <th></th>\n",
       "      <th></th>\n",
       "      <th></th>\n",
       "    </tr>\n",
       "  </thead>\n",
       "  <tbody>\n",
       "    <tr>\n",
       "      <th>1990-01</th>\n",
       "      <td>0.695090</td>\n",
       "      <td>0.652963</td>\n",
       "      <td>1.612820</td>\n",
       "      <td>0.881739</td>\n",
       "      <td>0.806933</td>\n",
       "      <td>0.768514</td>\n",
       "      <td>1.578718</td>\n",
       "      <td>1.196660</td>\n",
       "      <td>10.205738</td>\n",
       "      <td>1.360887</td>\n",
       "    </tr>\n",
       "    <tr>\n",
       "      <th>1990-02</th>\n",
       "      <td>0.680714</td>\n",
       "      <td>0.540261</td>\n",
       "      <td>1.404959</td>\n",
       "      <td>0.809531</td>\n",
       "      <td>0.837775</td>\n",
       "      <td>0.674393</td>\n",
       "      <td>1.405153</td>\n",
       "      <td>1.207867</td>\n",
       "      <td>11.122098</td>\n",
       "      <td>1.293593</td>\n",
       "    </tr>\n",
       "    <tr>\n",
       "      <th>1990-03</th>\n",
       "      <td>0.776482</td>\n",
       "      <td>0.697811</td>\n",
       "      <td>1.602870</td>\n",
       "      <td>0.972046</td>\n",
       "      <td>1.211075</td>\n",
       "      <td>0.890776</td>\n",
       "      <td>1.657627</td>\n",
       "      <td>1.389039</td>\n",
       "      <td>8.920756</td>\n",
       "      <td>1.436530</td>\n",
       "    </tr>\n",
       "    <tr>\n",
       "      <th>1990-04</th>\n",
       "      <td>0.615586</td>\n",
       "      <td>0.523080</td>\n",
       "      <td>1.297542</td>\n",
       "      <td>0.793232</td>\n",
       "      <td>1.309289</td>\n",
       "      <td>1.286157</td>\n",
       "      <td>1.244166</td>\n",
       "      <td>1.454499</td>\n",
       "      <td>9.202706</td>\n",
       "      <td>1.241686</td>\n",
       "    </tr>\n",
       "    <tr>\n",
       "      <th>1990-05</th>\n",
       "      <td>0.650422</td>\n",
       "      <td>0.617450</td>\n",
       "      <td>1.527278</td>\n",
       "      <td>0.869329</td>\n",
       "      <td>1.480203</td>\n",
       "      <td>1.489422</td>\n",
       "      <td>1.615994</td>\n",
       "      <td>1.461718</td>\n",
       "      <td>7.798623</td>\n",
       "      <td>1.339317</td>\n",
       "    </tr>\n",
       "  </tbody>\n",
       "</table>\n",
       "</div>"
      ],
      "text/plain": [
       "          Topic_1   Topic_2   Topic_3   Topic_4   Topic_5   Topic_6   Topic_7  \\\n",
       "TIME                                                                            \n",
       "1990-01  0.695090  0.652963  1.612820  0.881739  0.806933  0.768514  1.578718   \n",
       "1990-02  0.680714  0.540261  1.404959  0.809531  0.837775  0.674393  1.405153   \n",
       "1990-03  0.776482  0.697811  1.602870  0.972046  1.211075  0.890776  1.657627   \n",
       "1990-04  0.615586  0.523080  1.297542  0.793232  1.309289  1.286157  1.244166   \n",
       "1990-05  0.650422  0.617450  1.527278  0.869329  1.480203  1.489422  1.615994   \n",
       "\n",
       "          Topic_8    Topic_9  Topic_10  \n",
       "TIME                                    \n",
       "1990-01  1.196660  10.205738  1.360887  \n",
       "1990-02  1.207867  11.122098  1.293593  \n",
       "1990-03  1.389039   8.920756  1.436530  \n",
       "1990-04  1.454499   9.202706  1.241686  \n",
       "1990-05  1.461718   7.798623  1.339317  "
      ]
     },
     "execution_count": 97,
     "metadata": {},
     "output_type": "execute_result"
    }
   ],
   "source": [
    "allPredictors = pd.DataFrame(topicsByMonth)\n",
    "allPredictors.columns = ['Topic_{}'.format(i) for i in range(1,(10+1))]\n",
    "allPredictors.index = CCIlimited.index\n",
    "allPredictors.head()"
   ]
  },
  {
   "cell_type": "code",
   "execution_count": 100,
   "metadata": {
    "collapsed": true
   },
   "outputs": [],
   "source": [
    "allPredictorsCCI = pd.concat([CCIlimited, allPredictors], axis=1)"
   ]
  },
  {
   "cell_type": "code",
   "execution_count": 103,
   "metadata": {
    "collapsed": true
   },
   "outputs": [],
   "source": [
    "def applyShifts(df, shifts):\n",
    "    finaldf = df\n",
    "    for i in shifts:\n",
    "        newdf = df.shift(periods=i)\n",
    "        newdf.columns = [s + '_lag_{}'.format(i) for s in df.columns]\n",
    "        finaldf = pd.concat([finaldf, newdf], axis=1)\n",
    "    finaldf = finaldf.dropna(how=\"any\", axis=0)\n",
    "    return finaldf"
   ]
  },
  {
   "cell_type": "code",
   "execution_count": 139,
   "metadata": {
    "collapsed": true
   },
   "outputs": [],
   "source": [
    "allPredictors_withLags = applyShifts(allPredictors, [1,12,13])"
   ]
  },
  {
   "cell_type": "code",
   "execution_count": 140,
   "metadata": {
    "collapsed": false
   },
   "outputs": [],
   "source": [
    "allPredictorsCCI_withLags = applyShifts(allPredictorsCCI, [1,2,12,13,14]) # Uses lagged CCI"
   ]
  },
  {
   "cell_type": "code",
   "execution_count": 141,
   "metadata": {
    "collapsed": false
   },
   "outputs": [
    {
     "data": {
      "text/html": [
       "<div>\n",
       "<table border=\"1\" class=\"dataframe\">\n",
       "  <thead>\n",
       "    <tr style=\"text-align: right;\">\n",
       "      <th></th>\n",
       "      <th>CCI</th>\n",
       "      <th>Topic_1</th>\n",
       "      <th>Topic_2</th>\n",
       "      <th>Topic_3</th>\n",
       "      <th>Topic_4</th>\n",
       "      <th>Topic_5</th>\n",
       "      <th>Topic_6</th>\n",
       "      <th>Topic_7</th>\n",
       "      <th>Topic_8</th>\n",
       "      <th>Topic_9</th>\n",
       "      <th>...</th>\n",
       "      <th>Topic_1_lag_14</th>\n",
       "      <th>Topic_2_lag_14</th>\n",
       "      <th>Topic_3_lag_14</th>\n",
       "      <th>Topic_4_lag_14</th>\n",
       "      <th>Topic_5_lag_14</th>\n",
       "      <th>Topic_6_lag_14</th>\n",
       "      <th>Topic_7_lag_14</th>\n",
       "      <th>Topic_8_lag_14</th>\n",
       "      <th>Topic_9_lag_14</th>\n",
       "      <th>Topic_10_lag_14</th>\n",
       "    </tr>\n",
       "    <tr>\n",
       "      <th>TIME</th>\n",
       "      <th></th>\n",
       "      <th></th>\n",
       "      <th></th>\n",
       "      <th></th>\n",
       "      <th></th>\n",
       "      <th></th>\n",
       "      <th></th>\n",
       "      <th></th>\n",
       "      <th></th>\n",
       "      <th></th>\n",
       "      <th></th>\n",
       "      <th></th>\n",
       "      <th></th>\n",
       "      <th></th>\n",
       "      <th></th>\n",
       "      <th></th>\n",
       "      <th></th>\n",
       "      <th></th>\n",
       "      <th></th>\n",
       "      <th></th>\n",
       "      <th></th>\n",
       "    </tr>\n",
       "  </thead>\n",
       "  <tbody>\n",
       "    <tr>\n",
       "      <th>1991-03</th>\n",
       "      <td>99.25845</td>\n",
       "      <td>0.651389</td>\n",
       "      <td>0.506475</td>\n",
       "      <td>1.264501</td>\n",
       "      <td>0.685694</td>\n",
       "      <td>0.766073</td>\n",
       "      <td>0.665447</td>\n",
       "      <td>1.247060</td>\n",
       "      <td>1.252197</td>\n",
       "      <td>11.888972</td>\n",
       "      <td>...</td>\n",
       "      <td>0.695090</td>\n",
       "      <td>0.652963</td>\n",
       "      <td>1.612820</td>\n",
       "      <td>0.881739</td>\n",
       "      <td>0.806933</td>\n",
       "      <td>0.768514</td>\n",
       "      <td>1.578718</td>\n",
       "      <td>1.196660</td>\n",
       "      <td>10.205738</td>\n",
       "      <td>1.360887</td>\n",
       "    </tr>\n",
       "    <tr>\n",
       "      <th>1991-04</th>\n",
       "      <td>99.46318</td>\n",
       "      <td>0.626874</td>\n",
       "      <td>0.543955</td>\n",
       "      <td>1.354595</td>\n",
       "      <td>0.842407</td>\n",
       "      <td>0.833072</td>\n",
       "      <td>0.643905</td>\n",
       "      <td>1.331632</td>\n",
       "      <td>1.261559</td>\n",
       "      <td>11.486755</td>\n",
       "      <td>...</td>\n",
       "      <td>0.680714</td>\n",
       "      <td>0.540261</td>\n",
       "      <td>1.404959</td>\n",
       "      <td>0.809531</td>\n",
       "      <td>0.837775</td>\n",
       "      <td>0.674393</td>\n",
       "      <td>1.405153</td>\n",
       "      <td>1.207867</td>\n",
       "      <td>11.122098</td>\n",
       "      <td>1.293593</td>\n",
       "    </tr>\n",
       "    <tr>\n",
       "      <th>1991-05</th>\n",
       "      <td>99.44612</td>\n",
       "      <td>0.823252</td>\n",
       "      <td>0.676102</td>\n",
       "      <td>1.495341</td>\n",
       "      <td>0.874310</td>\n",
       "      <td>1.164054</td>\n",
       "      <td>0.878346</td>\n",
       "      <td>1.598711</td>\n",
       "      <td>1.347254</td>\n",
       "      <td>9.257493</td>\n",
       "      <td>...</td>\n",
       "      <td>0.776482</td>\n",
       "      <td>0.697811</td>\n",
       "      <td>1.602870</td>\n",
       "      <td>0.972046</td>\n",
       "      <td>1.211075</td>\n",
       "      <td>0.890776</td>\n",
       "      <td>1.657627</td>\n",
       "      <td>1.389039</td>\n",
       "      <td>8.920756</td>\n",
       "      <td>1.436530</td>\n",
       "    </tr>\n",
       "    <tr>\n",
       "      <th>1991-06</th>\n",
       "      <td>99.51149</td>\n",
       "      <td>0.788818</td>\n",
       "      <td>0.656855</td>\n",
       "      <td>1.678050</td>\n",
       "      <td>0.992233</td>\n",
       "      <td>1.265443</td>\n",
       "      <td>0.996644</td>\n",
       "      <td>1.635461</td>\n",
       "      <td>1.303222</td>\n",
       "      <td>8.752645</td>\n",
       "      <td>...</td>\n",
       "      <td>0.615586</td>\n",
       "      <td>0.523080</td>\n",
       "      <td>1.297542</td>\n",
       "      <td>0.793232</td>\n",
       "      <td>1.309289</td>\n",
       "      <td>1.286157</td>\n",
       "      <td>1.244166</td>\n",
       "      <td>1.454499</td>\n",
       "      <td>9.202706</td>\n",
       "      <td>1.241686</td>\n",
       "    </tr>\n",
       "    <tr>\n",
       "      <th>1991-07</th>\n",
       "      <td>99.57294</td>\n",
       "      <td>0.685575</td>\n",
       "      <td>0.618746</td>\n",
       "      <td>1.439939</td>\n",
       "      <td>0.925509</td>\n",
       "      <td>1.133617</td>\n",
       "      <td>0.978196</td>\n",
       "      <td>1.486801</td>\n",
       "      <td>1.621665</td>\n",
       "      <td>9.170263</td>\n",
       "      <td>...</td>\n",
       "      <td>0.650422</td>\n",
       "      <td>0.617450</td>\n",
       "      <td>1.527278</td>\n",
       "      <td>0.869329</td>\n",
       "      <td>1.480203</td>\n",
       "      <td>1.489422</td>\n",
       "      <td>1.615994</td>\n",
       "      <td>1.461718</td>\n",
       "      <td>7.798623</td>\n",
       "      <td>1.339317</td>\n",
       "    </tr>\n",
       "  </tbody>\n",
       "</table>\n",
       "<p>5 rows × 66 columns</p>\n",
       "</div>"
      ],
      "text/plain": [
       "              CCI   Topic_1   Topic_2   Topic_3   Topic_4   Topic_5   Topic_6  \\\n",
       "TIME                                                                            \n",
       "1991-03  99.25845  0.651389  0.506475  1.264501  0.685694  0.766073  0.665447   \n",
       "1991-04  99.46318  0.626874  0.543955  1.354595  0.842407  0.833072  0.643905   \n",
       "1991-05  99.44612  0.823252  0.676102  1.495341  0.874310  1.164054  0.878346   \n",
       "1991-06  99.51149  0.788818  0.656855  1.678050  0.992233  1.265443  0.996644   \n",
       "1991-07  99.57294  0.685575  0.618746  1.439939  0.925509  1.133617  0.978196   \n",
       "\n",
       "          Topic_7   Topic_8    Topic_9       ...         Topic_1_lag_14  \\\n",
       "TIME                                         ...                          \n",
       "1991-03  1.247060  1.252197  11.888972       ...               0.695090   \n",
       "1991-04  1.331632  1.261559  11.486755       ...               0.680714   \n",
       "1991-05  1.598711  1.347254   9.257493       ...               0.776482   \n",
       "1991-06  1.635461  1.303222   8.752645       ...               0.615586   \n",
       "1991-07  1.486801  1.621665   9.170263       ...               0.650422   \n",
       "\n",
       "         Topic_2_lag_14  Topic_3_lag_14  Topic_4_lag_14  Topic_5_lag_14  \\\n",
       "TIME                                                                      \n",
       "1991-03        0.652963        1.612820        0.881739        0.806933   \n",
       "1991-04        0.540261        1.404959        0.809531        0.837775   \n",
       "1991-05        0.697811        1.602870        0.972046        1.211075   \n",
       "1991-06        0.523080        1.297542        0.793232        1.309289   \n",
       "1991-07        0.617450        1.527278        0.869329        1.480203   \n",
       "\n",
       "         Topic_6_lag_14  Topic_7_lag_14  Topic_8_lag_14  Topic_9_lag_14  \\\n",
       "TIME                                                                      \n",
       "1991-03        0.768514        1.578718        1.196660       10.205738   \n",
       "1991-04        0.674393        1.405153        1.207867       11.122098   \n",
       "1991-05        0.890776        1.657627        1.389039        8.920756   \n",
       "1991-06        1.286157        1.244166        1.454499        9.202706   \n",
       "1991-07        1.489422        1.615994        1.461718        7.798623   \n",
       "\n",
       "         Topic_10_lag_14  \n",
       "TIME                      \n",
       "1991-03         1.360887  \n",
       "1991-04         1.293593  \n",
       "1991-05         1.436530  \n",
       "1991-06         1.241686  \n",
       "1991-07         1.339317  \n",
       "\n",
       "[5 rows x 66 columns]"
      ]
     },
     "execution_count": 141,
     "metadata": {},
     "output_type": "execute_result"
    }
   ],
   "source": [
    "allPredictorsCCI_withLags.head()"
   ]
  },
  {
   "cell_type": "markdown",
   "metadata": {},
   "source": [
    "# Modeling"
   ]
  },
  {
   "cell_type": "code",
   "execution_count": 168,
   "metadata": {
    "collapsed": true
   },
   "outputs": [],
   "source": [
    "y = CCIlimited.iloc[np.where(CCIlimited.index=='1991-02')[0][0]:(np.where(CCIlimited.index=='2016-09')[0]+1)[0]]"
   ]
  },
  {
   "cell_type": "code",
   "execution_count": 173,
   "metadata": {
    "collapsed": false
   },
   "outputs": [],
   "source": [
    "y_train, y_test, X_train, X_test = train_test_split(y, allPredictors_withLags, train_size=0.8)"
   ]
  },
  {
   "cell_type": "code",
   "execution_count": 174,
   "metadata": {
    "collapsed": true
   },
   "outputs": [],
   "source": [
    "lasso = Lasso(alpha=.1)"
   ]
  },
  {
   "cell_type": "code",
   "execution_count": 175,
   "metadata": {
    "collapsed": false
   },
   "outputs": [
    {
     "data": {
      "text/plain": [
       "Lasso(alpha=0.1, copy_X=True, fit_intercept=True, max_iter=1000,\n",
       "   normalize=False, positive=False, precompute=False, random_state=None,\n",
       "   selection='cyclic', tol=0.0001, warm_start=False)"
      ]
     },
     "execution_count": 175,
     "metadata": {},
     "output_type": "execute_result"
    }
   ],
   "source": [
    "lasso.fit(X_train, y_train)"
   ]
  },
  {
   "cell_type": "code",
   "execution_count": 176,
   "metadata": {
    "collapsed": false
   },
   "outputs": [
    {
     "data": {
      "text/plain": [
       "0.06586465897098015"
      ]
     },
     "execution_count": 176,
     "metadata": {},
     "output_type": "execute_result"
    }
   ],
   "source": [
    "lasso.score(X_test, y_test)"
   ]
  },
  {
   "cell_type": "code",
   "execution_count": 109,
   "metadata": {
    "collapsed": false
   },
   "outputs": [],
   "source": [
    "y = allPredictorsCCI_withLags.CCI\n",
    "X = allPredictorsCCI_withLags.drop(['CCI'], axis=1)"
   ]
  },
  {
   "cell_type": "code",
   "execution_count": 113,
   "metadata": {
    "collapsed": true
   },
   "outputs": [],
   "source": [
    "y_train, y_test, X_train, X_test = train_test_split(y, X, train_size=0.8)"
   ]
  },
  {
   "cell_type": "code",
   "execution_count": 114,
   "metadata": {
    "collapsed": true
   },
   "outputs": [],
   "source": [
    "lasso = Lasso(alpha=.01)"
   ]
  },
  {
   "cell_type": "code",
   "execution_count": 115,
   "metadata": {
    "collapsed": false
   },
   "outputs": [
    {
     "data": {
      "text/plain": [
       "Lasso(alpha=0.01, copy_X=True, fit_intercept=True, max_iter=1000,\n",
       "   normalize=False, positive=False, precompute=False, random_state=None,\n",
       "   selection='cyclic', tol=0.0001, warm_start=False)"
      ]
     },
     "execution_count": 115,
     "metadata": {},
     "output_type": "execute_result"
    }
   ],
   "source": [
    "lasso.fit(X_train, y_train)"
   ]
  },
  {
   "cell_type": "code",
   "execution_count": 116,
   "metadata": {
    "collapsed": false
   },
   "outputs": [
    {
     "data": {
      "text/plain": [
       "0.98229630244570887"
      ]
     },
     "execution_count": 116,
     "metadata": {},
     "output_type": "execute_result"
    }
   ],
   "source": [
    "lasso.score(X_test, y_test)"
   ]
  },
  {
   "cell_type": "code",
   "execution_count": 119,
   "metadata": {
    "collapsed": false
   },
   "outputs": [
    {
     "data": {
      "text/plain": [
       "array([  0.00000000e+00,   0.00000000e+00,   0.00000000e+00,\n",
       "         0.00000000e+00,   0.00000000e+00,   0.00000000e+00,\n",
       "         4.45763009e-03,  -0.00000000e+00,  -3.72963293e-03,\n",
       "         0.00000000e+00,   1.23185967e+00,   0.00000000e+00,\n",
       "         0.00000000e+00,   0.00000000e+00,   0.00000000e+00,\n",
       "         0.00000000e+00,   0.00000000e+00,   0.00000000e+00,\n",
       "         0.00000000e+00,  -6.71150402e-03,   0.00000000e+00,\n",
       "        -2.55494248e-01,   0.00000000e+00,   0.00000000e+00,\n",
       "         0.00000000e+00,   0.00000000e+00,   0.00000000e+00,\n",
       "         3.15796295e-02,   0.00000000e+00,   0.00000000e+00,\n",
       "        -0.00000000e+00,   0.00000000e+00,   0.00000000e+00,\n",
       "        -0.00000000e+00,  -0.00000000e+00,  -6.76699089e-03,\n",
       "        -0.00000000e+00,  -0.00000000e+00,  -0.00000000e+00,\n",
       "        -0.00000000e+00,  -0.00000000e+00,   1.60872249e-04,\n",
       "        -0.00000000e+00,   0.00000000e+00,  -0.00000000e+00,\n",
       "        -0.00000000e+00,  -0.00000000e+00,  -0.00000000e+00,\n",
       "         0.00000000e+00,   0.00000000e+00,  -0.00000000e+00,\n",
       "         0.00000000e+00,   3.80596722e-03,  -0.00000000e+00,\n",
       "         0.00000000e+00,   0.00000000e+00,   0.00000000e+00,\n",
       "         0.00000000e+00,   0.00000000e+00,   0.00000000e+00,\n",
       "         0.00000000e+00,   0.00000000e+00,   0.00000000e+00,\n",
       "         1.13820345e-02,   0.00000000e+00])"
      ]
     },
     "execution_count": 119,
     "metadata": {},
     "output_type": "execute_result"
    }
   ],
   "source": [
    "lasso.coef_"
   ]
  },
  {
   "cell_type": "code",
   "execution_count": null,
   "metadata": {
    "collapsed": true
   },
   "outputs": [],
   "source": []
  }
 ],
 "metadata": {
  "anaconda-cloud": {},
  "kernelspec": {
   "display_name": "Python [conda env:AC209]",
   "language": "python",
   "name": "conda-env-AC209-py"
  },
  "language_info": {
   "codemirror_mode": {
    "name": "ipython",
    "version": 2
   },
   "file_extension": ".py",
   "mimetype": "text/x-python",
   "name": "python",
   "nbconvert_exporter": "python",
   "pygments_lexer": "ipython2",
   "version": "2.7.12"
  }
 },
 "nbformat": 4,
 "nbformat_minor": 0
}
