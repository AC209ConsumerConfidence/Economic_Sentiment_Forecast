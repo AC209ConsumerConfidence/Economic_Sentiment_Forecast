{
 "cells": [
  {
   "cell_type": "code",
   "execution_count": 62,
   "metadata": {
    "collapsed": false
   },
   "outputs": [],
   "source": [
    "import numpy as np\n",
    "import matplotlib\n",
    "import matplotlib.pyplot as plt\n",
    "import pandas as pd\n",
    "%matplotlib inline\n",
    "import datetime\n",
    "import csv\n",
    "import math\n",
    "import time\n",
    "from ProgressBar import ProgressBar\n",
    "\n",
    "import nltk\n",
    "import string\n",
    "from collections import defaultdict\n",
    "from sklearn.feature_extraction.text import CountVectorizer\n",
    "from sklearn.feature_extraction.text import TfidfVectorizer\n",
    "\n",
    "from sklearn.decomposition import LatentDirichletAllocation\n",
    "from sklearn.linear_model import Lasso"
   ]
  },
  {
   "cell_type": "code",
   "execution_count": 22,
   "metadata": {
    "collapsed": true
   },
   "outputs": [],
   "source": [
    "all_data_list = []\n",
    "for year in range(1997,2007):\n",
    "    data = pd.read_csv('{}_Output.csv'.format(year), header=None)\n",
    "    all_data_list.append(data) # list of dataframes\n",
    "data = pd.concat(all_data_list, axis=0)\n",
    "data.columns = ['id','date','headline', 'lead']"
   ]
  },
  {
   "cell_type": "code",
   "execution_count": 23,
   "metadata": {
    "collapsed": true
   },
   "outputs": [],
   "source": [
    "data['yearmonth'] = map(lambda x: x[:7], data.date)"
   ]
  },
  {
   "cell_type": "code",
   "execution_count": 24,
   "metadata": {
    "collapsed": true
   },
   "outputs": [],
   "source": [
    "def getStems(lead):\n",
    "    stemmer = nltk.stem.SnowballStemmer(\"english\")\n",
    "    tokens = nltk.word_tokenize(''.join(ch for ch in lead if ch not in set(string.punctuation)))\n",
    "    return map(lambda x: stemmer.stem(x.decode('utf-8')), tokens)"
   ]
  },
  {
   "cell_type": "code",
   "execution_count": 25,
   "metadata": {
    "collapsed": true
   },
   "outputs": [],
   "source": [
    "def joinstems(stemlist):\n",
    "    return ' '.join(stem for stem in stemlist)"
   ]
  },
  {
   "cell_type": "code",
   "execution_count": 26,
   "metadata": {
    "collapsed": true
   },
   "outputs": [],
   "source": [
    "stems = map(getStems, data.lead)"
   ]
  },
  {
   "cell_type": "code",
   "execution_count": 27,
   "metadata": {
    "collapsed": true
   },
   "outputs": [],
   "source": [
    "data['leadstems'] = map(joinstems, stems)"
   ]
  },
  {
   "cell_type": "code",
   "execution_count": 28,
   "metadata": {
    "collapsed": true
   },
   "outputs": [],
   "source": [
    "countVec = CountVectorizer(stop_words='english', max_df=0.8, min_df=.005, strip_accents='unicode')\n",
    "wordMatrix = countVec.fit_transform(data.leadstems)"
   ]
  },
  {
   "cell_type": "code",
   "execution_count": 29,
   "metadata": {
    "collapsed": true
   },
   "outputs": [],
   "source": [
    "unigramVocab = countVec.get_feature_names()"
   ]
  },
  {
   "cell_type": "code",
   "execution_count": 30,
   "metadata": {
    "collapsed": true
   },
   "outputs": [],
   "source": [
    "lda = LatentDirichletAllocation(n_topics=10)"
   ]
  },
  {
   "cell_type": "code",
   "execution_count": 41,
   "metadata": {
    "collapsed": true
   },
   "outputs": [],
   "source": [
    "ldaDocs = lda.fit_transform(wordMatrix)"
   ]
  },
  {
   "cell_type": "code",
   "execution_count": 49,
   "metadata": {
    "collapsed": false
   },
   "outputs": [
    {
     "data": {
      "text/plain": [
       "array([[ 9311.26920099,  7930.08686652,  1550.73609563,  4712.01505464,\n",
       "         6186.66128937,  2646.42174912,  8083.54457943,  3914.98264499,\n",
       "         5403.65219996,  5188.63031933],\n",
       "       [ 7685.23340941,  6888.50405784,  1556.63843699,  5360.47934504,\n",
       "         4747.30652328,  2738.15384425,  7839.16203017,  3457.70953608,\n",
       "         4752.99846099,  4678.81435594],\n",
       "       [ 7972.61082997,  6432.14596008,  1445.52245549,  5013.77046658,\n",
       "         4251.39260053,  2521.83235214,  7945.97525243,  4384.34869188,\n",
       "         4386.02249602,  5028.37889487],\n",
       "       [ 9737.29313872,  6999.31005759,  1724.58886741,  4935.60944363,\n",
       "         6410.1928017 ,  2994.64566509,  8993.80980056,  3841.88215867,\n",
       "         4620.32864211,  5572.33942451],\n",
       "       [ 9342.14453334,  6414.5080085 ,  1731.09020409,  4943.35436657,\n",
       "         4504.07705077,  2789.01227145,  8585.02330807,  4237.72681206,\n",
       "         4036.59581365,  4801.46763149]])"
      ]
     },
     "execution_count": 49,
     "metadata": {},
     "output_type": "execute_result"
    }
   ],
   "source": [
    "ldaDocs[:5]"
   ]
  },
  {
   "cell_type": "code",
   "execution_count": 33,
   "metadata": {
    "collapsed": false
   },
   "outputs": [
    {
     "data": {
      "text/plain": [
       "(10, 1404)"
      ]
     },
     "execution_count": 33,
     "metadata": {},
     "output_type": "execute_result"
    }
   ],
   "source": [
    "lda.components_.shape"
   ]
  },
  {
   "cell_type": "code",
   "execution_count": 34,
   "metadata": {
    "collapsed": false
   },
   "outputs": [],
   "source": [
    "num_top_words = 10\n",
    "topic_words = []\n",
    "\n",
    "for topic in lda.components_:\n",
    "    word_idx = np.argsort(topic)[::-1][0:num_top_words]\n",
    "    topic_words.append([unigramVocab[i] for i in word_idx])"
   ]
  },
  {
   "cell_type": "code",
   "execution_count": 39,
   "metadata": {
    "collapsed": false
   },
   "outputs": [
    {
     "data": {
      "text/html": [
       "<div>\n",
       "<table border=\"1\" class=\"dataframe\">\n",
       "  <thead>\n",
       "    <tr style=\"text-align: right;\">\n",
       "      <th></th>\n",
       "      <th>Stem 1</th>\n",
       "      <th>Stem 2</th>\n",
       "      <th>Stem 3</th>\n",
       "      <th>Stem 4</th>\n",
       "      <th>Stem 5</th>\n",
       "      <th>Stem 6</th>\n",
       "      <th>Stem 7</th>\n",
       "      <th>Stem 8</th>\n",
       "      <th>Stem 9</th>\n",
       "      <th>Stem 10</th>\n",
       "    </tr>\n",
       "  </thead>\n",
       "  <tbody>\n",
       "    <tr>\n",
       "      <th>Topic 1</th>\n",
       "      <td>bank</td>\n",
       "      <td>billion</td>\n",
       "      <td>compani</td>\n",
       "      <td>said</td>\n",
       "      <td>exchang</td>\n",
       "      <td>invest</td>\n",
       "      <td>secur</td>\n",
       "      <td>firm</td>\n",
       "      <td>bid</td>\n",
       "      <td>offer</td>\n",
       "    </tr>\n",
       "    <tr>\n",
       "      <th>Topic 2</th>\n",
       "      <td>feder</td>\n",
       "      <td>year</td>\n",
       "      <td>court</td>\n",
       "      <td>compani</td>\n",
       "      <td>like</td>\n",
       "      <td>time</td>\n",
       "      <td>say</td>\n",
       "      <td>busi</td>\n",
       "      <td>peopl</td>\n",
       "      <td>use</td>\n",
       "    </tr>\n",
       "    <tr>\n",
       "      <th>Topic 3</th>\n",
       "      <td>said</td>\n",
       "      <td>unit</td>\n",
       "      <td>compani</td>\n",
       "      <td>cut</td>\n",
       "      <td>state</td>\n",
       "      <td>oil</td>\n",
       "      <td>airlin</td>\n",
       "      <td>euro</td>\n",
       "      <td>investig</td>\n",
       "      <td>european</td>\n",
       "    </tr>\n",
       "    <tr>\n",
       "      <th>Topic 4</th>\n",
       "      <td>new</td>\n",
       "      <td>york</td>\n",
       "      <td>group</td>\n",
       "      <td>account</td>\n",
       "      <td>agenc</td>\n",
       "      <td>advertis</td>\n",
       "      <td>media</td>\n",
       "      <td>unit</td>\n",
       "      <td>million</td>\n",
       "      <td>offic</td>\n",
       "    </tr>\n",
       "    <tr>\n",
       "      <th>Topic 5</th>\n",
       "      <td>fund</td>\n",
       "      <td>bond</td>\n",
       "      <td>ago</td>\n",
       "      <td>rate</td>\n",
       "      <td>10yr</td>\n",
       "      <td>tbill</td>\n",
       "      <td>digit</td>\n",
       "      <td>sourc</td>\n",
       "      <td>year</td>\n",
       "      <td>buyer</td>\n",
       "    </tr>\n",
       "    <tr>\n",
       "      <th>Topic 6</th>\n",
       "      <td>million</td>\n",
       "      <td>percent</td>\n",
       "      <td>said</td>\n",
       "      <td>year</td>\n",
       "      <td>share</td>\n",
       "      <td>quarter</td>\n",
       "      <td>profit</td>\n",
       "      <td>sale</td>\n",
       "      <td>compani</td>\n",
       "      <td>cent</td>\n",
       "    </tr>\n",
       "    <tr>\n",
       "      <th>Topic 7</th>\n",
       "      <td>internet</td>\n",
       "      <td>comput</td>\n",
       "      <td>network</td>\n",
       "      <td>onlin</td>\n",
       "      <td>compani</td>\n",
       "      <td>televis</td>\n",
       "      <td>bankruptci</td>\n",
       "      <td>softwar</td>\n",
       "      <td>british</td>\n",
       "      <td>offer</td>\n",
       "    </tr>\n",
       "    <tr>\n",
       "      <th>Topic 8</th>\n",
       "      <td>percent</td>\n",
       "      <td>market</td>\n",
       "      <td>price</td>\n",
       "      <td>stock</td>\n",
       "      <td>rate</td>\n",
       "      <td>drug</td>\n",
       "      <td>week</td>\n",
       "      <td>month</td>\n",
       "      <td>year</td>\n",
       "      <td>economi</td>\n",
       "    </tr>\n",
       "    <tr>\n",
       "      <th>Topic 9</th>\n",
       "      <td>execut</td>\n",
       "      <td>mr</td>\n",
       "      <td>chief</td>\n",
       "      <td>compani</td>\n",
       "      <td>said</td>\n",
       "      <td>presid</td>\n",
       "      <td>chairman</td>\n",
       "      <td>offic</td>\n",
       "      <td>manag</td>\n",
       "      <td>year</td>\n",
       "    </tr>\n",
       "    <tr>\n",
       "      <th>Topic 10</th>\n",
       "      <td>million</td>\n",
       "      <td>compani</td>\n",
       "      <td>said</td>\n",
       "      <td>share</td>\n",
       "      <td>base</td>\n",
       "      <td>yesterday</td>\n",
       "      <td>buy</td>\n",
       "      <td>agre</td>\n",
       "      <td>percent</td>\n",
       "      <td>stock</td>\n",
       "    </tr>\n",
       "  </tbody>\n",
       "</table>\n",
       "</div>"
      ],
      "text/plain": [
       "            Stem 1   Stem 2   Stem 3   Stem 4   Stem 5     Stem 6      Stem 7  \\\n",
       "Topic 1       bank  billion  compani     said  exchang     invest       secur   \n",
       "Topic 2      feder     year    court  compani     like       time         say   \n",
       "Topic 3       said     unit  compani      cut    state        oil      airlin   \n",
       "Topic 4        new     york    group  account    agenc   advertis       media   \n",
       "Topic 5       fund     bond      ago     rate     10yr      tbill       digit   \n",
       "Topic 6    million  percent     said     year    share    quarter      profit   \n",
       "Topic 7   internet   comput  network    onlin  compani    televis  bankruptci   \n",
       "Topic 8    percent   market    price    stock     rate       drug        week   \n",
       "Topic 9     execut       mr    chief  compani     said     presid    chairman   \n",
       "Topic 10   million  compani     said    share     base  yesterday         buy   \n",
       "\n",
       "           Stem 8    Stem 9   Stem 10  \n",
       "Topic 1      firm       bid     offer  \n",
       "Topic 2      busi     peopl       use  \n",
       "Topic 3      euro  investig  european  \n",
       "Topic 4      unit   million     offic  \n",
       "Topic 5     sourc      year     buyer  \n",
       "Topic 6      sale   compani      cent  \n",
       "Topic 7   softwar   british     offer  \n",
       "Topic 8     month      year   economi  \n",
       "Topic 9     offic     manag      year  \n",
       "Topic 10     agre   percent     stock  "
      ]
     },
     "execution_count": 39,
     "metadata": {},
     "output_type": "execute_result"
    }
   ],
   "source": [
    "topicDF = pd.DataFrame(topic_words)\n",
    "topicDF.index = ['Topic {}'.format(i) for i in range(1,11)]\n",
    "topicDF.columns = ['Stem {}'.format(i) for i in range(1,11)]\n",
    "topicDF"
   ]
  },
  {
   "cell_type": "markdown",
   "metadata": {},
   "source": [
    "## Group by month"
   ]
  },
  {
   "cell_type": "code",
   "execution_count": 40,
   "metadata": {
    "collapsed": true
   },
   "outputs": [],
   "source": [
    "grouped = data.groupby('yearmonth')"
   ]
  },
  {
   "cell_type": "code",
   "execution_count": 89,
   "metadata": {
    "collapsed": true
   },
   "outputs": [],
   "source": [
    "topicsByMonth = np.zeros((len(grouped.groups.keys()),ldaDocs.shape[1]))\n",
    "for i, month in enumerate(np.sort(grouped.groups.keys())):\n",
    "    topicsByMonth[i] = np.mean(ldaDocs[grouped.get_group(month).index], axis=0)"
   ]
  },
  {
   "cell_type": "code",
   "execution_count": 90,
   "metadata": {
    "collapsed": false
   },
   "outputs": [
    {
     "data": {
      "text/plain": [
       "(120, 10)"
      ]
     },
     "execution_count": 90,
     "metadata": {},
     "output_type": "execute_result"
    }
   ],
   "source": [
    "topicsByMonth.shape"
   ]
  },
  {
   "cell_type": "code",
   "execution_count": 91,
   "metadata": {
    "collapsed": false
   },
   "outputs": [
    {
     "data": {
      "text/plain": [
       "<matplotlib.legend.Legend at 0x11a19b210>"
      ]
     },
     "execution_count": 91,
     "metadata": {},
     "output_type": "execute_result"
    },
    {
     "data": {
      "image/png": "[encoded data removed]",
      "text/plain": [
       "<matplotlib.figure.Figure at 0x11a19b2d0>"
      ]
     },
     "metadata": {},
     "output_type": "display_data"
    }
   ],
   "source": [
    "for topic in range(topicsByMonth.shape[1]):\n",
    "    plt.plot(topicsByMonth[:,topic], label='Topic {}'.format(topic+1))\n",
    "plt.legend(loc='best')"
   ]
  },
  {
   "cell_type": "code",
   "execution_count": 92,
   "metadata": {
    "collapsed": false
   },
   "outputs": [
    {
     "data": {
      "text/plain": [
       "array([[ 2.99975417,  5.36728806,  3.71410122, ...,  6.78337224,\n",
       "         2.63345958,  8.30456716],\n",
       "       [ 2.9327754 ,  5.2450864 ,  3.49061144, ...,  6.66747328,\n",
       "         3.36327245,  7.99958561],\n",
       "       [ 2.81876934,  5.14562217,  3.15006391, ...,  5.61160324,\n",
       "         3.13291441,  7.36478763],\n",
       "       ..., \n",
       "       [ 3.0121292 ,  4.67361621,  2.98751598, ...,  5.37396196,\n",
       "         2.66208786,  8.03832937],\n",
       "       [ 3.02557302,  4.67934198,  3.11341553, ...,  5.21753301,\n",
       "         2.83139309,  8.43440842],\n",
       "       [ 2.84948611,  4.43209019,  3.06755375, ...,  4.70358733,\n",
       "         2.8186472 ,  8.14258842]])"
      ]
     },
     "execution_count": 92,
     "metadata": {},
     "output_type": "execute_result"
    }
   ],
   "source": [
    "topicsByMonth"
   ]
  },
  {
   "cell_type": "markdown",
   "metadata": {},
   "source": [
    "## CCI"
   ]
  },
  {
   "cell_type": "code",
   "execution_count": 56,
   "metadata": {
    "collapsed": false
   },
   "outputs": [
    {
     "data": {
      "text/html": [
       "<div>\n",
       "<table border=\"1\" class=\"dataframe\">\n",
       "  <thead>\n",
       "    <tr style=\"text-align: right;\">\n",
       "      <th></th>\n",
       "      <th>Value</th>\n",
       "    </tr>\n",
       "    <tr>\n",
       "      <th>TIME</th>\n",
       "      <th></th>\n",
       "    </tr>\n",
       "  </thead>\n",
       "  <tbody>\n",
       "    <tr>\n",
       "      <th>1960-01</th>\n",
       "      <td>101.5840</td>\n",
       "    </tr>\n",
       "    <tr>\n",
       "      <th>1960-02</th>\n",
       "      <td>101.3255</td>\n",
       "    </tr>\n",
       "    <tr>\n",
       "      <th>1960-03</th>\n",
       "      <td>101.1023</td>\n",
       "    </tr>\n",
       "    <tr>\n",
       "      <th>1960-04</th>\n",
       "      <td>100.9791</td>\n",
       "    </tr>\n",
       "    <tr>\n",
       "      <th>1960-05</th>\n",
       "      <td>101.0102</td>\n",
       "    </tr>\n",
       "  </tbody>\n",
       "</table>\n",
       "</div>"
      ],
      "text/plain": [
       "            Value\n",
       "TIME             \n",
       "1960-01  101.5840\n",
       "1960-02  101.3255\n",
       "1960-03  101.1023\n",
       "1960-04  100.9791\n",
       "1960-05  101.0102"
      ]
     },
     "execution_count": 56,
     "metadata": {},
     "output_type": "execute_result"
    }
   ],
   "source": [
    "CCI = pd.read_csv('CCI.csv')[['TIME','Value']]\n",
    "CCI.set_index('TIME', inplace=True)\n",
    "CCI.head()"
   ]
  },
  {
   "cell_type": "code",
   "execution_count": 57,
   "metadata": {
    "collapsed": true
   },
   "outputs": [],
   "source": [
    "CCIlimited = CCI.iloc[np.where(CCI.index=='1997-01')[0][0]:(np.where(CCI.index=='2006-12')[0]+1)[0]]"
   ]
  },
  {
   "cell_type": "code",
   "execution_count": 58,
   "metadata": {
    "collapsed": false
   },
   "outputs": [
    {
     "data": {
      "text/plain": [
       "(120, 1)"
      ]
     },
     "execution_count": 58,
     "metadata": {},
     "output_type": "execute_result"
    }
   ],
   "source": [
    "CCIlimited.shape"
   ]
  },
  {
   "cell_type": "markdown",
   "metadata": {},
   "source": [
    "## Assembling predictors"
   ]
  },
  {
   "cell_type": "code",
   "execution_count": 93,
   "metadata": {
    "collapsed": true
   },
   "outputs": [],
   "source": [
    "X = topicsByMonth"
   ]
  },
  {
   "cell_type": "code",
   "execution_count": 94,
   "metadata": {
    "collapsed": false
   },
   "outputs": [
    {
     "data": {
      "text/plain": [
       "(120, 10)"
      ]
     },
     "execution_count": 94,
     "metadata": {},
     "output_type": "execute_result"
    }
   ],
   "source": [
    "X.shape"
   ]
  },
  {
   "cell_type": "code",
   "execution_count": 95,
   "metadata": {
    "collapsed": true
   },
   "outputs": [],
   "source": [
    "y = CCIlimited.Value.values"
   ]
  },
  {
   "cell_type": "code",
   "execution_count": 96,
   "metadata": {
    "collapsed": false
   },
   "outputs": [
    {
     "data": {
      "text/plain": [
       "[<matplotlib.lines.Line2D at 0x11a9dbf10>]"
      ]
     },
     "execution_count": 96,
     "metadata": {},
     "output_type": "execute_result"
    },
    {
     "data": {
      "image/png": "[encoded data removed]",
      "text/plain": [
       "<matplotlib.figure.Figure at 0x11a8a4dd0>"
      ]
     },
     "metadata": {},
     "output_type": "display_data"
    }
   ],
   "source": [
    "plt.plot(y)"
   ]
  },
  {
   "cell_type": "code",
   "execution_count": 97,
   "metadata": {
    "collapsed": true
   },
   "outputs": [],
   "source": [
    "lasso = Lasso(alpha=10)"
   ]
  },
  {
   "cell_type": "code",
   "execution_count": 98,
   "metadata": {
    "collapsed": false
   },
   "outputs": [
    {
     "data": {
      "text/plain": [
       "-6.8486976598013873"
      ]
     },
     "execution_count": 98,
     "metadata": {},
     "output_type": "execute_result"
    }
   ],
   "source": [
    "lasso.fit(X[:-10,:],y[:-10])\n",
    "pred = lasso.predict(X[-10:,:])\n",
    "lasso.score(X[-10:,:],y[-10:])"
   ]
  },
  {
   "cell_type": "code",
   "execution_count": 99,
   "metadata": {
    "collapsed": false
   },
   "outputs": [
    {
     "data": {
      "text/plain": [
       "(10, 10)"
      ]
     },
     "execution_count": 99,
     "metadata": {},
     "output_type": "execute_result"
    }
   ],
   "source": [
    "X[-10:,:].shape"
   ]
  },
  {
   "cell_type": "code",
   "execution_count": 100,
   "metadata": {
    "collapsed": false
   },
   "outputs": [
    {
     "data": {
      "text/plain": [
       "[<matplotlib.lines.Line2D at 0x11a9f7ed0>]"
      ]
     },
     "execution_count": 100,
     "metadata": {},
     "output_type": "execute_result"
    },
    {
     "data": {
      "image/png": "[encoded data removed]",
      "text/plain": [
       "<matplotlib.figure.Figure at 0x11a9f7950>"
      ]
     },
     "metadata": {},
     "output_type": "display_data"
    }
   ],
   "source": [
    "plt.plot(np.concatenate((np.mean(y)*np.ones(110),pred)))\n",
    "plt.plot(y)"
   ]
  },
  {
   "cell_type": "code",
   "execution_count": null,
   "metadata": {
    "collapsed": true
   },
   "outputs": [],
   "source": []
  }
 ],
 "metadata": {
  "kernelspec": {
   "display_name": "Python [conda env:AC209]",
   "language": "python",
   "name": "conda-env-AC209-py"
  },
  "language_info": {
   "codemirror_mode": {
    "name": "ipython",
    "version": 2
   },
   "file_extension": ".py",
   "mimetype": "text/x-python",
   "name": "python",
   "nbconvert_exporter": "python",
   "pygments_lexer": "ipython2",
   "version": "2.7.12"
  }
 },
 "nbformat": 4,
 "nbformat_minor": 0
}
