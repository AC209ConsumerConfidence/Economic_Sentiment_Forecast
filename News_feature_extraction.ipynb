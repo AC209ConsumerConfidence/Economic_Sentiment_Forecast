{
 "cells": [
  {
   "cell_type": "code",
   "execution_count": 4,
   "metadata": {
    "collapsed": false
   },
   "outputs": [],
   "source": [
    "import numpy as np\n",
    "import matplotlib\n",
    "import matplotlib.pyplot as plt\n",
    "import pandas as pd\n",
    "%matplotlib inline\n",
    "import datetime\n",
    "import csv\n",
    "import math\n",
    "import time\n",
    "from ProgressBar import ProgressBar\n",
    "\n",
    "import nltk\n",
    "import string"
   ]
  },
  {
   "cell_type": "code",
   "execution_count": 3,
   "metadata": {
    "collapsed": false
   },
   "outputs": [
    {
     "data": {
      "text/html": [
       "<div>\n",
       "<table border=\"1\" class=\"dataframe\">\n",
       "  <thead>\n",
       "    <tr style=\"text-align: right;\">\n",
       "      <th></th>\n",
       "      <th>id</th>\n",
       "      <th>date</th>\n",
       "      <th>headline</th>\n",
       "      <th>lead</th>\n",
       "    </tr>\n",
       "  </thead>\n",
       "  <tbody>\n",
       "    <tr>\n",
       "      <th>0</th>\n",
       "      <td>4fd233bf8eb7c8105d7c430b</td>\n",
       "      <td>2000-01-08T00:00:00Z</td>\n",
       "      <td>THE MARKETS: COMMODITIES</td>\n",
       "      <td>CRUDE OIL FALLS. Crude oil declined more than ...</td>\n",
       "    </tr>\n",
       "    <tr>\n",
       "      <th>1</th>\n",
       "      <td>4fd237718eb7c8105d7c9aa8</td>\n",
       "      <td>2000-01-08T00:00:00Z</td>\n",
       "      <td>DIMINISHED BRAZILIAN INFLATION</td>\n",
       "      <td>Concern over Brazilian price increases eased a...</td>\n",
       "    </tr>\n",
       "    <tr>\n",
       "      <th>2</th>\n",
       "      <td>4fd21c448eb7c8105d79c973</td>\n",
       "      <td>2000-01-08T00:00:00Z</td>\n",
       "      <td>Merrill Lynch Reimburses Client For Loss Linke...</td>\n",
       "      <td>Merrill Lynch &amp; Company said today that it rei...</td>\n",
       "    </tr>\n",
       "    <tr>\n",
       "      <th>3</th>\n",
       "      <td>4fd1f22e8eb7c8105d7496d1</td>\n",
       "      <td>2000-01-08T00:00:00Z</td>\n",
       "      <td>NEW UNICOM-PECO MERGER TERMS INCLUDE STOCK BUY...</td>\n",
       "      <td>The Unicom Corporation and the Peco Energy Com...</td>\n",
       "    </tr>\n",
       "    <tr>\n",
       "      <th>4</th>\n",
       "      <td>4fd203328eb7c8105d768db0</td>\n",
       "      <td>2000-01-08T00:00:00Z</td>\n",
       "      <td>SYSCO AGREES TO BUY FRUIT AND VEGETABLE DISTRI...</td>\n",
       "      <td>The Sysco Corporation, North America's largest...</td>\n",
       "    </tr>\n",
       "  </tbody>\n",
       "</table>\n",
       "</div>"
      ],
      "text/plain": [
       "                         id                  date  \\\n",
       "0  4fd233bf8eb7c8105d7c430b  2000-01-08T00:00:00Z   \n",
       "1  4fd237718eb7c8105d7c9aa8  2000-01-08T00:00:00Z   \n",
       "2  4fd21c448eb7c8105d79c973  2000-01-08T00:00:00Z   \n",
       "3  4fd1f22e8eb7c8105d7496d1  2000-01-08T00:00:00Z   \n",
       "4  4fd203328eb7c8105d768db0  2000-01-08T00:00:00Z   \n",
       "\n",
       "                                            headline  \\\n",
       "0                           THE MARKETS: COMMODITIES   \n",
       "1                     DIMINISHED BRAZILIAN INFLATION   \n",
       "2  Merrill Lynch Reimburses Client For Loss Linke...   \n",
       "3  NEW UNICOM-PECO MERGER TERMS INCLUDE STOCK BUY...   \n",
       "4  SYSCO AGREES TO BUY FRUIT AND VEGETABLE DISTRI...   \n",
       "\n",
       "                                                lead  \n",
       "0  CRUDE OIL FALLS. Crude oil declined more than ...  \n",
       "1  Concern over Brazilian price increases eased a...  \n",
       "2  Merrill Lynch & Company said today that it rei...  \n",
       "3  The Unicom Corporation and the Peco Energy Com...  \n",
       "4  The Sysco Corporation, North America's largest...  "
      ]
     },
     "execution_count": 3,
     "metadata": {},
     "output_type": "execute_result"
    }
   ],
   "source": [
    "data = pd.read_csv('2000_Output.csv', header=None)\n",
    "data.columns = ['id','date','headline', 'lead']\n",
    "data.head()"
   ]
  },
  {
   "cell_type": "code",
   "execution_count": 5,
   "metadata": {
    "collapsed": true
   },
   "outputs": [],
   "source": [
    "def getStems(lead):\n",
    "    stemmer = nltk.stem.SnowballStemmer(\"english\")\n",
    "    tokens = nltk.word_tokenize(''.join(ch for ch in lead if ch not in set(string.punctuation)))\n",
    "    return map(lambda x: stemmer.stem(x), tokens)"
   ]
  },
  {
   "cell_type": "code",
   "execution_count": 6,
   "metadata": {
    "collapsed": true
   },
   "outputs": [],
   "source": [
    "stems = map(getStems, data.lead)"
   ]
  },
  {
   "cell_type": "code",
   "execution_count": 7,
   "metadata": {
    "collapsed": true
   },
   "outputs": [],
   "source": [
    "def getBigrams(stems):\n",
    "    finder = nltk.collocations.BigramCollocationFinder.from_words(stems)\n",
    "    return(finder.ngram_fd.items())"
   ]
  },
  {
   "cell_type": "code",
   "execution_count": 8,
   "metadata": {
    "collapsed": true
   },
   "outputs": [],
   "source": [
    "bigramList = map(getBigrams, stems)"
   ]
  },
  {
   "cell_type": "code",
   "execution_count": 9,
   "metadata": {
    "collapsed": true
   },
   "outputs": [],
   "source": [
    "flatBigrams = [item for sublist in bigramList for item in sublist]"
   ]
  },
  {
   "cell_type": "code",
   "execution_count": 10,
   "metadata": {
    "collapsed": true
   },
   "outputs": [],
   "source": [
    "def reduceByKey(toIterate):\n",
    "    d = {}\n",
    "    for i, (key, value) in enumerate(toIterate):\n",
    "        if i%1000==0:\n",
    "            print i\n",
    "        if key in d.keys():\n",
    "            d[key] = d[key]+value\n",
    "        else:\n",
    "            d[key] = value\n",
    "    return list(d.items())"
   ]
  },
  {
   "cell_type": "code",
   "execution_count": 11,
   "metadata": {
    "collapsed": false
   },
   "outputs": [
    {
     "data": {
      "text/plain": [
       "1386999"
      ]
     },
     "execution_count": 11,
     "metadata": {},
     "output_type": "execute_result"
    }
   ],
   "source": [
    "len(flatBigrams)"
   ]
  },
  {
   "cell_type": "code",
   "execution_count": null,
   "metadata": {
    "collapsed": false
   },
   "outputs": [
    {
     "name": "stdout",
     "output_type": "stream",
     "text": [
      "0\n",
      "1000\n",
      "2000\n",
      "3000\n",
      "4000\n",
      "5000\n",
      "6000\n",
      "7000\n",
      "8000\n",
      "9000\n",
      "10000\n",
      "11000\n",
      "12000\n",
      "13000\n",
      "14000\n",
      "15000\n",
      "16000\n",
      "17000\n",
      "18000\n",
      "19000\n",
      "20000\n",
      "21000\n",
      "22000\n",
      "23000\n",
      "24000\n",
      "25000\n",
      "26000\n",
      "27000\n",
      "28000\n",
      "29000\n",
      "30000\n",
      "31000\n",
      "32000\n",
      "33000\n",
      "34000\n",
      "35000\n",
      "36000\n",
      "37000\n",
      "38000\n",
      "39000\n",
      "40000\n",
      "41000\n",
      "42000\n",
      "43000\n",
      "44000\n",
      "45000\n",
      "46000\n",
      "47000\n",
      "48000\n",
      "49000\n",
      "50000\n",
      "51000\n",
      "52000\n",
      "53000\n",
      "54000\n",
      "55000\n",
      "56000\n",
      "57000\n",
      "58000\n",
      "59000\n",
      "60000\n",
      "61000\n",
      "62000\n",
      "63000\n",
      "64000\n",
      "65000\n",
      "66000\n",
      "67000\n",
      "68000\n",
      "69000\n",
      "70000\n",
      "71000\n",
      "72000\n",
      "73000\n"
     ]
    }
   ],
   "source": [
    "summedBigrams = reduceByKey(flatBigrams)"
   ]
  },
  {
   "cell_type": "code",
   "execution_count": null,
   "metadata": {
    "collapsed": true
   },
   "outputs": [],
   "source": [
    "%store summedBigrams"
   ]
  },
  {
   "cell_type": "code",
   "execution_count": null,
   "metadata": {
    "collapsed": true
   },
   "outputs": [],
   "source": [
    "def xLogX(x):\n",
    "    if x==0:\n",
    "        return 0\n",
    "    else:\n",
    "        return x * np.log(x)\n",
    "    \n",
    "def entropy(things):\n",
    "    theSum = 0\n",
    "    theResult = 0\n",
    "    for thing in things:\n",
    "        theResult += xLogX(thing)\n",
    "        theSum += thing;\n",
    "\n",
    "    return xLogX(theSum) - theResult;\n",
    "\n",
    "def logLikelihoodRatio(k11, k12, k21, k22):\n",
    "    rowEntropy = entropy([k11 + k12, k21 + k22]);\n",
    "    columnEntropy = entropy([k11 + k21, k12 + k22]);\n",
    "    matrixEntropy = entropy([k11, k12, k21, k22]);\n",
    "    return(2.0 * (rowEntropy + columnEntropy - matrixEntropy))\n",
    "\n",
    "def getLLR(summedBigram):\n",
    "    k11 = summedBigram[1]\n",
    "    stem1 = summedBigram[0][0]\n",
    "    stem2 = summedBigram[0][1]\n",
    "    k12 = bigrams1Dict[stem1] - k11\n",
    "    k21 = bigrams2Dict[stem2] - k11\n",
    "    k22 = totalBigrams - k11 - k12 - k21\n",
    "    return(logLikelihoodRatio(k11, k12, k21, k22))"
   ]
  },
  {
   "cell_type": "code",
   "execution_count": null,
   "metadata": {
    "collapsed": true
   },
   "outputs": [],
   "source": [
    "bigrams1 = map(lambda x: (x[0][0], x[1]), summedBigrams)\n",
    "summedBigrams1= reduceByKey(bigrams1)"
   ]
  },
  {
   "cell_type": "code",
   "execution_count": null,
   "metadata": {
    "collapsed": true
   },
   "outputs": [],
   "source": [
    "bigrams2 = map(lambda x: (x[0][1], x[1]), summedBigrams)\n",
    "summedBigrams2= reduceByKey(bigrams2)"
   ]
  },
  {
   "cell_type": "code",
   "execution_count": null,
   "metadata": {
    "collapsed": true
   },
   "outputs": [],
   "source": [
    "bigrams1Dict = dict(summedBigrams1)\n",
    "bigrams2Dict = dict(summedBigrams2)"
   ]
  },
  {
   "cell_type": "code",
   "execution_count": null,
   "metadata": {
    "collapsed": true
   },
   "outputs": [],
   "source": [
    "onlyValues = np.array(map(lambda x: x[1], summedBigrams))\n",
    "totalBigrams = onlyValues.sum()"
   ]
  },
  {
   "cell_type": "code",
   "execution_count": null,
   "metadata": {
    "collapsed": true
   },
   "outputs": [],
   "source": [
    "LLRs = map(getLLR, summedBigrams)"
   ]
  },
  {
   "cell_type": "code",
   "execution_count": null,
   "metadata": {
    "collapsed": true
   },
   "outputs": [],
   "source": [
    "plt.hist(LLRs, bins=5000);\n",
    "plt.xlim((0,50))\n",
    "plt.xlabel('Log-likelihood Ratio')\n",
    "plt.ylabel('Counts')\n",
    "plt.title('Distribution of Bigram Log-Likelihood Ratios')"
   ]
  },
  {
   "cell_type": "code",
   "execution_count": null,
   "metadata": {
    "collapsed": true
   },
   "outputs": [],
   "source": [
    "bigramVocab = np.array(summedBigrams)[list(np.where(np.array(LLRs)>25)[0])]"
   ]
  }
 ],
 "metadata": {
  "anaconda-cloud": {},
  "kernelspec": {
   "display_name": "Python [conda env:AC209]",
   "language": "python",
   "name": "conda-env-AC209-py"
  },
  "language_info": {
   "codemirror_mode": {
    "name": "ipython",
    "version": 2
   },
   "file_extension": ".py",
   "mimetype": "text/x-python",
   "name": "python",
   "nbconvert_exporter": "python",
   "pygments_lexer": "ipython2",
   "version": "2.7.12"
  }
 },
 "nbformat": 4,
 "nbformat_minor": 0
}
