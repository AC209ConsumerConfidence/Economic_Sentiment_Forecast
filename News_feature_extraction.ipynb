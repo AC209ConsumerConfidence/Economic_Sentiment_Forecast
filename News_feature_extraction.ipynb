{
 "cells": [
  {
   "cell_type": "code",
   "execution_count": 1,
   "metadata": {
    "collapsed": false
   },
   "outputs": [
    {
     "name": "stderr",
     "output_type": "stream",
     "text": [
      "/Users/kshain/anaconda/envs/AC209/lib/python2.7/site-packages/matplotlib/font_manager.py:273: UserWarning: Matplotlib is building the font cache using fc-list. This may take a moment.\n",
      "  warnings.warn('Matplotlib is building the font cache using fc-list. This may take a moment.')\n"
     ]
    }
   ],
   "source": [
    "import numpy as np\n",
    "import matplotlib\n",
    "import matplotlib.pyplot as plt\n",
    "import pandas as pd\n",
    "%matplotlib inline\n",
    "import datetime\n",
    "import csv\n",
    "import math\n",
    "import time\n",
    "from ProgressBar import ProgressBar\n",
    "\n",
    "import nltk\n",
    "import string\n",
    "from collections import defaultdict\n",
    "from sklearn.feature_extraction.text import CountVectorizer\n",
    "from sklearn.feature_extraction.text import TfidfVectorizer"
   ]
  },
  {
   "cell_type": "code",
   "execution_count": 414,
   "metadata": {
    "collapsed": false
   },
   "outputs": [
    {
     "data": {
      "text/html": [
       "<div>\n",
       "<table border=\"1\" class=\"dataframe\">\n",
       "  <thead>\n",
       "    <tr style=\"text-align: right;\">\n",
       "      <th></th>\n",
       "      <th>id</th>\n",
       "      <th>date</th>\n",
       "      <th>headline</th>\n",
       "      <th>lead</th>\n",
       "    </tr>\n",
       "  </thead>\n",
       "  <tbody>\n",
       "    <tr>\n",
       "      <th>0</th>\n",
       "      <td>4fd24bbc8eb7c8105d7eafa0</td>\n",
       "      <td>2004-01-08T00:00:00Z</td>\n",
       "      <td>COMPANY BRIEFS</td>\n",
       "      <td>Great Atlantic &amp; Pacific Tea Co., Montvale, N....</td>\n",
       "    </tr>\n",
       "    <tr>\n",
       "      <th>1</th>\n",
       "      <td>4fd23a1e8eb7c8105d7ce71a</td>\n",
       "      <td>2004-01-08T00:00:00Z</td>\n",
       "      <td>How to Grow Without a Lot of Capital</td>\n",
       "      <td>David Hartstein wanted to make his KaBloom cha...</td>\n",
       "    </tr>\n",
       "    <tr>\n",
       "      <th>2</th>\n",
       "      <td>4fd23c148eb7c8105d7d1641</td>\n",
       "      <td>2004-01-08T00:00:00Z</td>\n",
       "      <td>Trials, Trials, Trials, and Then What?</td>\n",
       "      <td>With the trials of iconic corporate executives...</td>\n",
       "    </tr>\n",
       "    <tr>\n",
       "      <th>3</th>\n",
       "      <td>4fd23c148eb7c8105d7d164a</td>\n",
       "      <td>2004-01-08T00:00:00Z</td>\n",
       "      <td>Economic Scene; After 40 years, what are some ...</td>\n",
       "      <td>''THIS administration today, here and now, dec...</td>\n",
       "    </tr>\n",
       "    <tr>\n",
       "      <th>4</th>\n",
       "      <td>4fd27aa38eb7c8105d83f1d1</td>\n",
       "      <td>2004-01-08T00:00:00Z</td>\n",
       "      <td>Technology Briefing | Software: Veritas To Buy...</td>\n",
       "      <td>The Veritas Software Corporation plans to expa...</td>\n",
       "    </tr>\n",
       "  </tbody>\n",
       "</table>\n",
       "</div>"
      ],
      "text/plain": [
       "                         id                  date  \\\n",
       "0  4fd24bbc8eb7c8105d7eafa0  2004-01-08T00:00:00Z   \n",
       "1  4fd23a1e8eb7c8105d7ce71a  2004-01-08T00:00:00Z   \n",
       "2  4fd23c148eb7c8105d7d1641  2004-01-08T00:00:00Z   \n",
       "3  4fd23c148eb7c8105d7d164a  2004-01-08T00:00:00Z   \n",
       "4  4fd27aa38eb7c8105d83f1d1  2004-01-08T00:00:00Z   \n",
       "\n",
       "                                            headline  \\\n",
       "0                                     COMPANY BRIEFS   \n",
       "1               How to Grow Without a Lot of Capital   \n",
       "2             Trials, Trials, Trials, and Then What?   \n",
       "3  Economic Scene; After 40 years, what are some ...   \n",
       "4  Technology Briefing | Software: Veritas To Buy...   \n",
       "\n",
       "                                                lead  \n",
       "0  Great Atlantic & Pacific Tea Co., Montvale, N....  \n",
       "1  David Hartstein wanted to make his KaBloom cha...  \n",
       "2  With the trials of iconic corporate executives...  \n",
       "3  ''THIS administration today, here and now, dec...  \n",
       "4  The Veritas Software Corporation plans to expa...  "
      ]
     },
     "execution_count": 414,
     "metadata": {},
     "output_type": "execute_result"
    }
   ],
   "source": [
    "data = pd.read_csv('2004_Output.csv', header=None)\n",
    "data.columns = ['id','date','headline', 'lead']\n",
    "data.head()"
   ]
  },
  {
   "cell_type": "code",
   "execution_count": 437,
   "metadata": {
    "collapsed": true
   },
   "outputs": [],
   "source": [
    "from nltk.corpus import wordnet\n",
    "\n",
    "def get_wordnet_pos(treebank_tag):\n",
    "\n",
    "    if treebank_tag.startswith('J'):\n",
    "        return wordnet.ADJ\n",
    "    elif treebank_tag.startswith('V'):\n",
    "        return wordnet.VERB\n",
    "    elif treebank_tag.startswith('N'):\n",
    "        return wordnet.NOUN\n",
    "    elif treebank_tag.startswith('R'):\n",
    "        return wordnet.ADV\n",
    "    else:\n",
    "        return wordnet.NOUN"
   ]
  },
  {
   "cell_type": "code",
   "execution_count": 463,
   "metadata": {
    "collapsed": false
   },
   "outputs": [],
   "source": [
    "def getLemmatized(lead):\n",
    "    tokens = nltk.word_tokenize(''.join(ch for ch in lead if ch not in set(string.punctuation)))\n",
    "    tags = nltk.pos_tag(tokens)\n",
    "    tags = map(lambda x: x[1], tags)\n",
    "    lemmaTags = map(get_wordnet_pos, tags)\n",
    "    wordnet_lemmatizer = nltk.stem.WordNetLemmatizer()\n",
    "    return map(lambda x: wordnet_lemmatizer.lemmatize(x[0].decode('utf-8'), x[1]), zip(tokens, lemmaTags))"
   ]
  },
  {
   "cell_type": "code",
   "execution_count": 465,
   "metadata": {
    "collapsed": false
   },
   "outputs": [],
   "source": [
    "data['leadLemmas'] = map(getLemmatized, data.lead)"
   ]
  },
  {
   "cell_type": "code",
   "execution_count": 466,
   "metadata": {
    "collapsed": false
   },
   "outputs": [
    {
     "data": {
      "text/html": [
       "<div>\n",
       "<table border=\"1\" class=\"dataframe\">\n",
       "  <thead>\n",
       "    <tr style=\"text-align: right;\">\n",
       "      <th></th>\n",
       "      <th>id</th>\n",
       "      <th>date</th>\n",
       "      <th>headline</th>\n",
       "      <th>lead</th>\n",
       "      <th>leadLemmas</th>\n",
       "    </tr>\n",
       "  </thead>\n",
       "  <tbody>\n",
       "    <tr>\n",
       "      <th>0</th>\n",
       "      <td>4fd24bbc8eb7c8105d7eafa0</td>\n",
       "      <td>2004-01-08T00:00:00Z</td>\n",
       "      <td>COMPANY BRIEFS</td>\n",
       "      <td>Great Atlantic &amp; Pacific Tea Co., Montvale, N....</td>\n",
       "      <td>[Great, Atlantic, Pacific, Tea, Co, Montvale, ...</td>\n",
       "    </tr>\n",
       "    <tr>\n",
       "      <th>1</th>\n",
       "      <td>4fd23a1e8eb7c8105d7ce71a</td>\n",
       "      <td>2004-01-08T00:00:00Z</td>\n",
       "      <td>How to Grow Without a Lot of Capital</td>\n",
       "      <td>David Hartstein wanted to make his KaBloom cha...</td>\n",
       "      <td>[David, Hartstein, want, to, make, his, KaBloo...</td>\n",
       "    </tr>\n",
       "    <tr>\n",
       "      <th>2</th>\n",
       "      <td>4fd23c148eb7c8105d7d1641</td>\n",
       "      <td>2004-01-08T00:00:00Z</td>\n",
       "      <td>Trials, Trials, Trials, and Then What?</td>\n",
       "      <td>With the trials of iconic corporate executives...</td>\n",
       "      <td>[With, the, trial, of, iconic, corporate, exec...</td>\n",
       "    </tr>\n",
       "    <tr>\n",
       "      <th>3</th>\n",
       "      <td>4fd23c148eb7c8105d7d164a</td>\n",
       "      <td>2004-01-08T00:00:00Z</td>\n",
       "      <td>Economic Scene; After 40 years, what are some ...</td>\n",
       "      <td>''THIS administration today, here and now, dec...</td>\n",
       "      <td>[THIS, administration, today, here, and, now, ...</td>\n",
       "    </tr>\n",
       "    <tr>\n",
       "      <th>4</th>\n",
       "      <td>4fd27aa38eb7c8105d83f1d1</td>\n",
       "      <td>2004-01-08T00:00:00Z</td>\n",
       "      <td>Technology Briefing | Software: Veritas To Buy...</td>\n",
       "      <td>The Veritas Software Corporation plans to expa...</td>\n",
       "      <td>[The, Veritas, Software, Corporation, plan, to...</td>\n",
       "    </tr>\n",
       "  </tbody>\n",
       "</table>\n",
       "</div>"
      ],
      "text/plain": [
       "                         id                  date  \\\n",
       "0  4fd24bbc8eb7c8105d7eafa0  2004-01-08T00:00:00Z   \n",
       "1  4fd23a1e8eb7c8105d7ce71a  2004-01-08T00:00:00Z   \n",
       "2  4fd23c148eb7c8105d7d1641  2004-01-08T00:00:00Z   \n",
       "3  4fd23c148eb7c8105d7d164a  2004-01-08T00:00:00Z   \n",
       "4  4fd27aa38eb7c8105d83f1d1  2004-01-08T00:00:00Z   \n",
       "\n",
       "                                            headline  \\\n",
       "0                                     COMPANY BRIEFS   \n",
       "1               How to Grow Without a Lot of Capital   \n",
       "2             Trials, Trials, Trials, and Then What?   \n",
       "3  Economic Scene; After 40 years, what are some ...   \n",
       "4  Technology Briefing | Software: Veritas To Buy...   \n",
       "\n",
       "                                                lead  \\\n",
       "0  Great Atlantic & Pacific Tea Co., Montvale, N....   \n",
       "1  David Hartstein wanted to make his KaBloom cha...   \n",
       "2  With the trials of iconic corporate executives...   \n",
       "3  ''THIS administration today, here and now, dec...   \n",
       "4  The Veritas Software Corporation plans to expa...   \n",
       "\n",
       "                                          leadLemmas  \n",
       "0  [Great, Atlantic, Pacific, Tea, Co, Montvale, ...  \n",
       "1  [David, Hartstein, want, to, make, his, KaBloo...  \n",
       "2  [With, the, trial, of, iconic, corporate, exec...  \n",
       "3  [THIS, administration, today, here, and, now, ...  \n",
       "4  [The, Veritas, Software, Corporation, plan, to...  "
      ]
     },
     "execution_count": 466,
     "metadata": {},
     "output_type": "execute_result"
    }
   ],
   "source": [
    "data.head()"
   ]
  },
  {
   "cell_type": "code",
   "execution_count": 2,
   "metadata": {
    "collapsed": false
   },
   "outputs": [],
   "source": [
    "all_data_list = []\n",
    "for year in range(2000,2007):\n",
    "    data = pd.read_csv('{}_Output.csv'.format(year), header=None)\n",
    "    all_data_list.append(data) # list of dataframes\n",
    "data = pd.concat(all_data_list, axis=0)\n",
    "data.columns = ['id','date','headline', 'lead']"
   ]
  },
  {
   "cell_type": "code",
   "execution_count": 470,
   "metadata": {
    "collapsed": true
   },
   "outputs": [],
   "source": [
    "data['yearmonth'] = map(lambda x: x[:7], data.date)"
   ]
  },
  {
   "cell_type": "code",
   "execution_count": null,
   "metadata": {
    "collapsed": true
   },
   "outputs": [],
   "source": []
  },
  {
   "cell_type": "code",
   "execution_count": 3,
   "metadata": {
    "collapsed": true
   },
   "outputs": [],
   "source": [
    "def getStems(lead):\n",
    "    stemmer = nltk.stem.SnowballStemmer(\"english\")\n",
    "    tokens = nltk.word_tokenize(''.join(ch for ch in lead if ch not in set(string.punctuation)))\n",
    "    return map(lambda x: stemmer.stem(x.decode('utf-8')), tokens)"
   ]
  },
  {
   "cell_type": "code",
   "execution_count": 4,
   "metadata": {
    "collapsed": true
   },
   "outputs": [],
   "source": [
    "def joinstems(stemlist):\n",
    "    return ' '.join(stem for stem in stemlist)"
   ]
  },
  {
   "cell_type": "code",
   "execution_count": 5,
   "metadata": {
    "collapsed": false
   },
   "outputs": [],
   "source": [
    "stems = map(getStems, data.lead)"
   ]
  },
  {
   "cell_type": "code",
   "execution_count": 6,
   "metadata": {
    "collapsed": true
   },
   "outputs": [],
   "source": [
    "data['leadstems'] = map(joinstems, stems)"
   ]
  },
  {
   "cell_type": "code",
   "execution_count": 211,
   "metadata": {
    "collapsed": true
   },
   "outputs": [],
   "source": [
    "def getBigrams(stems):\n",
    "    finder = nltk.collocations.BigramCollocationFinder.from_words(stems)\n",
    "    return(finder.ngram_fd.items())"
   ]
  },
  {
   "cell_type": "code",
   "execution_count": 212,
   "metadata": {
    "collapsed": true
   },
   "outputs": [],
   "source": [
    "bigramList = map(getBigrams, stems)"
   ]
  },
  {
   "cell_type": "code",
   "execution_count": 213,
   "metadata": {
    "collapsed": true
   },
   "outputs": [],
   "source": [
    "flatBigrams = [item for sublist in bigramList for item in sublist]"
   ]
  },
  {
   "cell_type": "code",
   "execution_count": 214,
   "metadata": {
    "collapsed": true
   },
   "outputs": [],
   "source": [
    "def reduceByKey(toIterate):\n",
    "    d = defaultdict(int)\n",
    "    for i, (key, value) in enumerate(toIterate):\n",
    "        d[key] += value\n",
    "    return list(d.items())"
   ]
  },
  {
   "cell_type": "code",
   "execution_count": 215,
   "metadata": {
    "collapsed": false
   },
   "outputs": [
    {
     "data": {
      "text/plain": [
       "9917550"
      ]
     },
     "execution_count": 215,
     "metadata": {},
     "output_type": "execute_result"
    }
   ],
   "source": [
    "len(flatBigrams)"
   ]
  },
  {
   "cell_type": "code",
   "execution_count": 216,
   "metadata": {
    "collapsed": false
   },
   "outputs": [],
   "source": [
    "summedBigrams = reduceByKey(flatBigrams)"
   ]
  },
  {
   "cell_type": "code",
   "execution_count": 217,
   "metadata": {
    "collapsed": true
   },
   "outputs": [],
   "source": [
    "def xLogX(x):\n",
    "    if x==0:\n",
    "        return 0\n",
    "    else:\n",
    "        return x * np.log(x)\n",
    "    \n",
    "def entropy(things):\n",
    "    theSum = 0\n",
    "    theResult = 0\n",
    "    for thing in things:\n",
    "        theResult += xLogX(thing)\n",
    "        theSum += thing;\n",
    "\n",
    "    return xLogX(theSum) - theResult;\n",
    "\n",
    "def logLikelihoodRatio(k11, k12, k21, k22):\n",
    "    rowEntropy = entropy([k11 + k12, k21 + k22]);\n",
    "    columnEntropy = entropy([k11 + k21, k12 + k22]);\n",
    "    matrixEntropy = entropy([k11, k12, k21, k22]);\n",
    "    return(2.0 * (rowEntropy + columnEntropy - matrixEntropy))\n",
    "\n",
    "def getLLR(summedBigram):\n",
    "    k11 = summedBigram[1]\n",
    "    stem1 = summedBigram[0][0]\n",
    "    stem2 = summedBigram[0][1]\n",
    "    k12 = bigrams1Dict[stem1] - k11\n",
    "    k21 = bigrams2Dict[stem2] - k11\n",
    "    k22 = totalBigrams - k11 - k12 - k21\n",
    "    return(logLikelihoodRatio(k11, k12, k21, k22))"
   ]
  },
  {
   "cell_type": "code",
   "execution_count": 218,
   "metadata": {
    "collapsed": true
   },
   "outputs": [],
   "source": [
    "bigrams1 = map(lambda x: (x[0][0], x[1]), summedBigrams)\n",
    "summedBigrams1= reduceByKey(bigrams1)"
   ]
  },
  {
   "cell_type": "code",
   "execution_count": 219,
   "metadata": {
    "collapsed": true
   },
   "outputs": [],
   "source": [
    "bigrams2 = map(lambda x: (x[0][1], x[1]), summedBigrams)\n",
    "summedBigrams2= reduceByKey(bigrams2)"
   ]
  },
  {
   "cell_type": "code",
   "execution_count": 220,
   "metadata": {
    "collapsed": true
   },
   "outputs": [],
   "source": [
    "bigrams1Dict = dict(summedBigrams1)\n",
    "bigrams2Dict = dict(summedBigrams2)"
   ]
  },
  {
   "cell_type": "code",
   "execution_count": 221,
   "metadata": {
    "collapsed": true
   },
   "outputs": [],
   "source": [
    "onlyValues = np.array(map(lambda x: x[1], summedBigrams))\n",
    "totalBigrams = onlyValues.sum()"
   ]
  },
  {
   "cell_type": "code",
   "execution_count": 222,
   "metadata": {
    "collapsed": true
   },
   "outputs": [],
   "source": [
    "LLRs = map(getLLR, summedBigrams)"
   ]
  },
  {
   "cell_type": "code",
   "execution_count": 223,
   "metadata": {
    "collapsed": false
   },
   "outputs": [
    {
     "data": {
      "text/plain": [
       "<matplotlib.text.Text at 0x19d714d50>"
      ]
     },
     "execution_count": 223,
     "metadata": {},
     "output_type": "execute_result"
    },
    {
     "data": {
      "image/png": "[encoded data removed]",
      "text/plain": [
       "<matplotlib.figure.Figure at 0x19aa6eb10>"
      ]
     },
     "metadata": {},
     "output_type": "display_data"
    }
   ],
   "source": [
    "plt.hist(LLRs, bins=20000);\n",
    "plt.xlim((0,100))\n",
    "plt.xlabel('Log-likelihood Ratio')\n",
    "plt.ylabel('Counts')\n",
    "plt.title('Distribution of Bigram Log-Likelihood Ratios')"
   ]
  },
  {
   "cell_type": "code",
   "execution_count": 273,
   "metadata": {
    "collapsed": true
   },
   "outputs": [],
   "source": [
    "bigramVocab = np.array(summedBigrams)[list(np.where(np.array(LLRs)>500)[0])]"
   ]
  },
  {
   "cell_type": "code",
   "execution_count": 274,
   "metadata": {
    "collapsed": false
   },
   "outputs": [
    {
     "data": {
      "text/plain": [
       "array([(u'new', u'york'), 14885], dtype=object)"
      ]
     },
     "execution_count": 274,
     "metadata": {},
     "output_type": "execute_result"
    }
   ],
   "source": [
    "np.array(summedBigrams)[np.argmax(np.array(LLRs))]"
   ]
  },
  {
   "cell_type": "code",
   "execution_count": 322,
   "metadata": {
    "collapsed": false
   },
   "outputs": [
    {
     "data": {
      "text/plain": [
       "6463"
      ]
     },
     "execution_count": 322,
     "metadata": {},
     "output_type": "execute_result"
    }
   ],
   "source": [
    "len(bigramVocab)"
   ]
  },
  {
   "cell_type": "code",
   "execution_count": 320,
   "metadata": {
    "collapsed": true
   },
   "outputs": [],
   "source": [
    "stopwords = ['the','a','an','and','it','this','that','he','I','she','of','is']"
   ]
  },
  {
   "cell_type": "code",
   "execution_count": 321,
   "metadata": {
    "collapsed": false
   },
   "outputs": [],
   "source": [
    "bigramVocab = [bigram for bigram in bigramVocab if (set(bigram[0]).isdisjoint(stopwords))]"
   ]
  },
  {
   "cell_type": "code",
   "execution_count": 329,
   "metadata": {
    "collapsed": false
   },
   "outputs": [
    {
     "data": {
      "text/plain": [
       "array([(u'feder', u'regul'), 636], dtype=object)"
      ]
     },
     "execution_count": 329,
     "metadata": {},
     "output_type": "execute_result"
    }
   ],
   "source": [
    "bigramVocab[1900]"
   ]
  },
  {
   "cell_type": "code",
   "execution_count": 236,
   "metadata": {
    "collapsed": false
   },
   "outputs": [
    {
     "data": {
      "text/plain": [
       "array([(u'of', u'the'), 65772], dtype=object)"
      ]
     },
     "execution_count": 236,
     "metadata": {},
     "output_type": "execute_result"
    }
   ],
   "source": [
    "np.array(bigramVocab)[np.argmax(np.array(map(lambda x: x[1], bigramVocab)))]"
   ]
  },
  {
   "cell_type": "code",
   "execution_count": 237,
   "metadata": {
    "collapsed": false
   },
   "outputs": [
    {
     "data": {
      "image/png": "[encoded data removed]",
      "text/plain": [
       "<matplotlib.figure.Figure at 0x1fd345c90>"
      ]
     },
     "metadata": {},
     "output_type": "display_data"
    }
   ],
   "source": [
    "plt.hist(map(lambda x: x[1], bigramVocab), bins=10000);\n",
    "plt.xlim((0,1000));"
   ]
  },
  {
   "cell_type": "code",
   "execution_count": 361,
   "metadata": {
    "collapsed": true
   },
   "outputs": [],
   "source": [
    "bigramVocab = map(lambda x: x[0][0]+' '+x[0][1], list(bigramVocab))"
   ]
  },
  {
   "cell_type": "code",
   "execution_count": 239,
   "metadata": {
    "collapsed": false
   },
   "outputs": [],
   "source": [
    "from nltk.stem.snowball import SnowballStemmer\n",
    "\n",
    "stemmer = SnowballStemmer('english')\n",
    "analyzer = CountVectorizer().build_analyzer()\n",
    "\n",
    "def stem_words(doc):\n",
    "    return (stemmer.stem(w) for w in analyzer(doc))"
   ]
  },
  {
   "cell_type": "code",
   "execution_count": 395,
   "metadata": {
    "collapsed": false
   },
   "outputs": [],
   "source": [
    "countVec = CountVectorizer(stop_words='english', max_df=0.8, min_df=.005, strip_accents='unicode')\n",
    "wordMatrix = countVec.fit_transform(data.leadstems)\n",
    "unigramVocab = countVec.get_feature_names()"
   ]
  },
  {
   "cell_type": "code",
   "execution_count": 396,
   "metadata": {
    "collapsed": false
   },
   "outputs": [],
   "source": [
    "totalVocab = unigramVocab + bigramVocab"
   ]
  },
  {
   "cell_type": "code",
   "execution_count": 397,
   "metadata": {
    "collapsed": false
   },
   "outputs": [
    {
     "data": {
      "text/plain": [
       "1407"
      ]
     },
     "execution_count": 397,
     "metadata": {},
     "output_type": "execute_result"
    }
   ],
   "source": [
    "len(unigramVocab)"
   ]
  },
  {
   "cell_type": "code",
   "execution_count": 398,
   "metadata": {
    "collapsed": false
   },
   "outputs": [
    {
     "data": {
      "text/plain": [
       "6463"
      ]
     },
     "execution_count": 398,
     "metadata": {},
     "output_type": "execute_result"
    }
   ],
   "source": [
    "len(bigramVocab)"
   ]
  },
  {
   "cell_type": "code",
   "execution_count": 399,
   "metadata": {
    "collapsed": false
   },
   "outputs": [
    {
     "data": {
      "text/plain": [
       "7870"
      ]
     },
     "execution_count": 399,
     "metadata": {},
     "output_type": "execute_result"
    }
   ],
   "source": [
    "len(totalVocab)"
   ]
  },
  {
   "cell_type": "code",
   "execution_count": 400,
   "metadata": {
    "collapsed": false
   },
   "outputs": [],
   "source": [
    "countVecAll = CountVectorizer(ngram_range = (1,2), vocabulary = totalVocab)\n",
    "wordMatrix = countVecAll.fit_transform(data.leadstems)"
   ]
  },
  {
   "cell_type": "code",
   "execution_count": 401,
   "metadata": {
    "collapsed": false
   },
   "outputs": [
    {
     "data": {
      "text/plain": [
       "6474051"
      ]
     },
     "execution_count": 401,
     "metadata": {},
     "output_type": "execute_result"
    }
   ],
   "source": [
    "np.sum(wordMatrix)"
   ]
  },
  {
   "cell_type": "code",
   "execution_count": 402,
   "metadata": {
    "collapsed": false
   },
   "outputs": [
    {
     "data": {
      "text/plain": [
       "(126110, 7870)"
      ]
     },
     "execution_count": 402,
     "metadata": {},
     "output_type": "execute_result"
    }
   ],
   "source": [
    "wordMatrix.shape"
   ]
  },
  {
   "cell_type": "code",
   "execution_count": 403,
   "metadata": {
    "collapsed": true
   },
   "outputs": [],
   "source": [
    "grouped = data.groupby('yearmonth')"
   ]
  },
  {
   "cell_type": "code",
   "execution_count": 404,
   "metadata": {
    "collapsed": true
   },
   "outputs": [],
   "source": [
    "wordsByMonth = np.zeros((len(grouped.groups.keys()),wordMatrix.shape[1]))\n",
    "for i, month in enumerate(np.sort(grouped.groups.keys())):\n",
    "    wordsByMonth[i] = np.sum(wordMatrix[grouped.get_group(month).index], axis=0)"
   ]
  },
  {
   "cell_type": "code",
   "execution_count": 405,
   "metadata": {
    "collapsed": false
   },
   "outputs": [
    {
     "data": {
      "text/plain": [
       "(84, 7870)"
      ]
     },
     "execution_count": 405,
     "metadata": {},
     "output_type": "execute_result"
    }
   ],
   "source": [
    "wordsByMonth.shape"
   ]
  },
  {
   "cell_type": "code",
   "execution_count": 406,
   "metadata": {
    "collapsed": false
   },
   "outputs": [
    {
     "data": {
      "text/plain": [
       "[<matplotlib.lines.Line2D at 0x2aab45e90>]"
      ]
     },
     "execution_count": 406,
     "metadata": {},
     "output_type": "execute_result"
    },
    {
     "data": {
      "image/png": "[encoded data removed]",
      "text/plain": [
       "<matplotlib.figure.Figure at 0x2aace8890>"
      ]
     },
     "metadata": {},
     "output_type": "display_data"
    }
   ],
   "source": [
    "plt.plot(wordsByMonth[:,150])"
   ]
  },
  {
   "cell_type": "code",
   "execution_count": 407,
   "metadata": {
    "collapsed": false
   },
   "outputs": [
    {
     "data": {
      "text/plain": [
       "0.30542596962546137"
      ]
     },
     "execution_count": 407,
     "metadata": {},
     "output_type": "execute_result"
    }
   ],
   "source": [
    "float(np.sum(wordsByMonth==0))/(wordsByMonth.shape[0]*wordsByMonth.shape[1])"
   ]
  },
  {
   "cell_type": "code",
   "execution_count": 408,
   "metadata": {
    "collapsed": false
   },
   "outputs": [
    {
     "data": {
      "text/plain": [
       "u'appear'"
      ]
     },
     "execution_count": 408,
     "metadata": {},
     "output_type": "execute_result"
    }
   ],
   "source": [
    "countVecAll.get_feature_names()[150]"
   ]
  },
  {
   "cell_type": "code",
   "execution_count": 409,
   "metadata": {
    "collapsed": false
   },
   "outputs": [
    {
     "data": {
      "text/plain": [
       "[u'10',\n",
       " u'100',\n",
       " u'1000',\n",
       " u'10yr',\n",
       " u'11',\n",
       " u'12',\n",
       " u'125',\n",
       " u'13',\n",
       " u'14',\n",
       " u'15',\n",
       " u'150',\n",
       " u'16',\n",
       " u'17',\n",
       " u'175',\n",
       " u'18',\n",
       " u'19',\n",
       " u'1990s',\n",
       " u'1996',\n",
       " u'1997',\n",
       " u'1998',\n",
       " u'1999',\n",
       " u'20',\n",
       " u'200',\n",
       " u'2000',\n",
       " u'2001',\n",
       " u'2002',\n",
       " u'2003',\n",
       " u'2004',\n",
       " u'2005',\n",
       " u'2006',\n",
       " u'21',\n",
       " u'22',\n",
       " u'23',\n",
       " u'24',\n",
       " u'25',\n",
       " u'250',\n",
       " u'26',\n",
       " u'27',\n",
       " u'28',\n",
       " u'29',\n",
       " u'30',\n",
       " u'300',\n",
       " u'30yr',\n",
       " u'31',\n",
       " u'32',\n",
       " u'33',\n",
       " u'34',\n",
       " u'35',\n",
       " u'36',\n",
       " u'37',\n",
       " u'38',\n",
       " u'39',\n",
       " u'3month',\n",
       " u'40',\n",
       " u'400',\n",
       " u'41',\n",
       " u'42',\n",
       " u'425',\n",
       " u'43',\n",
       " u'44',\n",
       " u'45',\n",
       " u'450',\n",
       " u'46',\n",
       " u'47',\n",
       " u'475',\n",
       " u'48',\n",
       " u'49',\n",
       " u'50',\n",
       " u'500',\n",
       " u'500stock',\n",
       " u'51',\n",
       " u'52',\n",
       " u'53',\n",
       " u'54',\n",
       " u'55',\n",
       " u'56',\n",
       " u'57',\n",
       " u'58',\n",
       " u'60',\n",
       " u'600',\n",
       " u'65',\n",
       " u'6month',\n",
       " u'70',\n",
       " u'75',\n",
       " u'80',\n",
       " u'85',\n",
       " u'90',\n",
       " u'a1',\n",
       " u'abil',\n",
       " u'abl',\n",
       " u'abov',\n",
       " u'acceler',\n",
       " u'accept',\n",
       " u'access',\n",
       " u'accord',\n",
       " u'account',\n",
       " u'accus',\n",
       " u'acknowledg',\n",
       " u'acquir',\n",
       " u'acquisit',\n",
       " u'act',\n",
       " u'action',\n",
       " u'activ',\n",
       " u'actual',\n",
       " u'ad',\n",
       " u'add',\n",
       " u'addit',\n",
       " u'address',\n",
       " u'adjust',\n",
       " u'administr',\n",
       " u'adopt',\n",
       " u'advanc',\n",
       " u'advertis',\n",
       " u'advis',\n",
       " u'affect',\n",
       " u'affili',\n",
       " u'age',\n",
       " u'agenc',\n",
       " u'aggress',\n",
       " u'ago',\n",
       " u'agre',\n",
       " u'agreement',\n",
       " u'ahead',\n",
       " u'aid',\n",
       " u'aim',\n",
       " u'air',\n",
       " u'aircraft',\n",
       " u'airlin',\n",
       " u'airport',\n",
       " u'airway',\n",
       " u'alan',\n",
       " u'allianc',\n",
       " u'allow',\n",
       " u'alreadi',\n",
       " u'altern',\n",
       " u'alway',\n",
       " u'america',\n",
       " u'american',\n",
       " u'amid',\n",
       " u'analyst',\n",
       " u'andrew',\n",
       " u'angel',\n",
       " u'ani',\n",
       " u'announc',\n",
       " u'annual',\n",
       " u'anoth',\n",
       " u'answer',\n",
       " u'antitrust',\n",
       " u'aol',\n",
       " u'appeal',\n",
       " u'appear',\n",
       " u'appli',\n",
       " u'applic',\n",
       " u'appoint',\n",
       " u'approach',\n",
       " u'approv',\n",
       " u'april',\n",
       " u'area',\n",
       " u'argu',\n",
       " u'arm',\n",
       " u'art',\n",
       " u'arthur',\n",
       " u'articl',\n",
       " u'asia',\n",
       " u'ask',\n",
       " u'asset',\n",
       " u'assign',\n",
       " u'assist',\n",
       " u'assoc',\n",
       " u'associ',\n",
       " u'assum',\n",
       " u'atlanta',\n",
       " u'att',\n",
       " u'attack',\n",
       " u'attempt',\n",
       " u'attend',\n",
       " u'attent',\n",
       " u'attorney',\n",
       " u'attract',\n",
       " u'auction',\n",
       " u'audit',\n",
       " u'aug',\n",
       " u'august',\n",
       " u'australia',\n",
       " u'australian',\n",
       " u'author',\n",
       " u'auto',\n",
       " u'automak',\n",
       " u'automot',\n",
       " u'avail',\n",
       " u'avenu',\n",
       " u'averag',\n",
       " u'avoid',\n",
       " u'award',\n",
       " u'away',\n",
       " u'bad',\n",
       " u'balanc',\n",
       " u'bank',\n",
       " u'banker',\n",
       " u'bankruptci',\n",
       " u'bar',\n",
       " u'barney',\n",
       " u'barrel',\n",
       " u'base',\n",
       " u'battl',\n",
       " u'bd',\n",
       " u'bds',\n",
       " u'bear',\n",
       " u'beat',\n",
       " u'becam',\n",
       " u'becaus',\n",
       " u'becom',\n",
       " u'befor',\n",
       " u'began',\n",
       " u'begin',\n",
       " u'begun',\n",
       " u'believ',\n",
       " u'belson',\n",
       " u'benchmark',\n",
       " u'benefit',\n",
       " u'best',\n",
       " u'bet',\n",
       " u'better',\n",
       " u'bid',\n",
       " u'big',\n",
       " u'biggest',\n",
       " u'billion',\n",
       " u'billionair',\n",
       " u'biotechnolog',\n",
       " u'black',\n",
       " u'block',\n",
       " u'bloomberg',\n",
       " u'board',\n",
       " u'boe',\n",
       " u'bolster',\n",
       " u'bond',\n",
       " u'bonus',\n",
       " u'book',\n",
       " u'boom',\n",
       " u'borrow',\n",
       " u'boston',\n",
       " u'bought',\n",
       " u'brand',\n",
       " u'brazil',\n",
       " u'break',\n",
       " u'brief',\n",
       " u'bring',\n",
       " u'britain',\n",
       " u'british',\n",
       " u'broad',\n",
       " u'broadcast',\n",
       " u'broker',\n",
       " u'brokerag',\n",
       " u'brother',\n",
       " u'brought',\n",
       " u'budget',\n",
       " u'build',\n",
       " u'built',\n",
       " u'bush',\n",
       " u'busi',\n",
       " u'buy',\n",
       " u'buyer',\n",
       " u'buyout',\n",
       " u'cabl',\n",
       " u'calif',\n",
       " u'california',\n",
       " u'came',\n",
       " u'campaign',\n",
       " u'canada',\n",
       " u'canadian',\n",
       " u'cancel',\n",
       " u'cancer',\n",
       " u'capac',\n",
       " u'capit',\n",
       " u'car',\n",
       " u'card',\n",
       " u'care',\n",
       " u'career',\n",
       " u'carri',\n",
       " u'carrier',\n",
       " u'case',\n",
       " u'cash',\n",
       " u'caus',\n",
       " u'celebr',\n",
       " u'cellphon',\n",
       " u'cent',\n",
       " u'center',\n",
       " u'central',\n",
       " u'certain',\n",
       " u'chain',\n",
       " u'chairman',\n",
       " u'challeng',\n",
       " u'chanc',\n",
       " u'chang',\n",
       " u'channel',\n",
       " u'chapter',\n",
       " u'charg',\n",
       " u'charl',\n",
       " u'chase',\n",
       " u'check',\n",
       " u'chemic',\n",
       " u'chicago',\n",
       " u'chief',\n",
       " u'children',\n",
       " u'china',\n",
       " u'chines',\n",
       " u'chip',\n",
       " u'choic',\n",
       " u'cite',\n",
       " u'citi',\n",
       " u'citigroup',\n",
       " u'civil',\n",
       " u'claim',\n",
       " u'class',\n",
       " u'clear',\n",
       " u'client',\n",
       " u'climb',\n",
       " u'close',\n",
       " u'cloth',\n",
       " u'club',\n",
       " u'collaps',\n",
       " u'collect',\n",
       " u'colleg',\n",
       " u'combin',\n",
       " u'come',\n",
       " u'comment',\n",
       " u'commerc',\n",
       " u'commerci',\n",
       " u'commiss',\n",
       " u'commit',\n",
       " u'committe',\n",
       " u'common',\n",
       " u'communic',\n",
       " u'compani',\n",
       " u'compar',\n",
       " u'compens',\n",
       " u'compet',\n",
       " u'competit',\n",
       " u'competitor',\n",
       " u'complaint',\n",
       " u'complet',\n",
       " u'complex',\n",
       " u'compon',\n",
       " u'composit',\n",
       " u'comput',\n",
       " u'concern',\n",
       " u'conclud',\n",
       " u'condit',\n",
       " u'conduct',\n",
       " u'confer',\n",
       " u'confid',\n",
       " u'confirm',\n",
       " u'conglomer',\n",
       " u'congress',\n",
       " u'conn',\n",
       " u'connect',\n",
       " u'consecut',\n",
       " u'consid',\n",
       " u'consolid',\n",
       " u'construct',\n",
       " u'consult',\n",
       " u'consum',\n",
       " u'contain',\n",
       " u'contend',\n",
       " u'content',\n",
       " u'continu',\n",
       " u'contract',\n",
       " u'contrast',\n",
       " u'contribut',\n",
       " u'control',\n",
       " u'convert',\n",
       " u'cooper',\n",
       " u'copi',\n",
       " u'core',\n",
       " u'corp',\n",
       " u'corpor',\n",
       " u'cost',\n",
       " u'count',\n",
       " u'countri',\n",
       " u'cours',\n",
       " u'court',\n",
       " u'cover',\n",
       " u'creat',\n",
       " u'creativ',\n",
       " u'credit',\n",
       " u'creditor',\n",
       " u'crimin',\n",
       " u'crisi',\n",
       " u'critic',\n",
       " u'crucial',\n",
       " u'crude',\n",
       " u'currenc',\n",
       " u'current',\n",
       " u'custom',\n",
       " u'cut',\n",
       " u'daili',\n",
       " u'dalla',\n",
       " u'damag',\n",
       " u'data',\n",
       " u'date',\n",
       " u'david',\n",
       " u'day',\n",
       " u'deal',\n",
       " u'death',\n",
       " u'debat',\n",
       " u'debt',\n",
       " u'dec',\n",
       " u'decad',\n",
       " u'decemb',\n",
       " u'decid',\n",
       " u'decis',\n",
       " u'declin',\n",
       " u'defend',\n",
       " u'defens',\n",
       " u'deficit',\n",
       " u'delay',\n",
       " u'deliv',\n",
       " u'deliveri',\n",
       " u'demand',\n",
       " u'democrat',\n",
       " u'deni',\n",
       " u'depart',\n",
       " u'departur',\n",
       " u'depend',\n",
       " u'describ',\n",
       " u'design',\n",
       " u'despit',\n",
       " u'determin',\n",
       " u'deutsch',\n",
       " u'develop',\n",
       " u'devic',\n",
       " u'did',\n",
       " u'die',\n",
       " u'differ',\n",
       " u'difficult',\n",
       " u'digit',\n",
       " u'direct',\n",
       " u'director',\n",
       " u'disappoint',\n",
       " u'disclos',\n",
       " u'discount',\n",
       " u'discuss',\n",
       " u'diseas',\n",
       " u'dismiss',\n",
       " u'disney',\n",
       " u'display',\n",
       " u'disput',\n",
       " u'distribut',\n",
       " u'distributor',\n",
       " u'district',\n",
       " u'dividend',\n",
       " u'divis',\n",
       " u'doctor',\n",
       " u'document',\n",
       " u'doe',\n",
       " u'dollar',\n",
       " u'domest',\n",
       " u'domin',\n",
       " u'don',\n",
       " u'dont',\n",
       " u'doubl',\n",
       " u'dow',\n",
       " u'dozen',\n",
       " u'drive',\n",
       " u'drop',\n",
       " u'drug',\n",
       " u'dure',\n",
       " u'dutch',\n",
       " u'duti',\n",
       " u'earli',\n",
       " u'earlier',\n",
       " u'earn',\n",
       " u'eas',\n",
       " u'east',\n",
       " u'econom',\n",
       " u'economi',\n",
       " u'economist',\n",
       " u'editor',\n",
       " u'educ',\n",
       " u'effect',\n",
       " u'effort',\n",
       " u'elect',\n",
       " u'electr',\n",
       " u'electron',\n",
       " u'elimin',\n",
       " u'email',\n",
       " u'emerg',\n",
       " u'employ',\n",
       " u'employe',\n",
       " u'encourag',\n",
       " u'end',\n",
       " u'energi',\n",
       " u'engin',\n",
       " u'enron',\n",
       " u'enter',\n",
       " u'enterpris',\n",
       " u'entertain',\n",
       " u'entir',\n",
       " u'equip',\n",
       " u'equiti',\n",
       " u'especi',\n",
       " u'establish',\n",
       " u'estat',\n",
       " u'estim',\n",
       " u'euro',\n",
       " u'europ',\n",
       " u'european',\n",
       " u'event',\n",
       " u'everi',\n",
       " u'evid',\n",
       " u'exampl',\n",
       " u'exceed',\n",
       " u'exchang',\n",
       " u'exclud',\n",
       " u'execut',\n",
       " u'exist',\n",
       " u'expand',\n",
       " u'expans',\n",
       " u'expect',\n",
       " u'expens',\n",
       " u'experi',\n",
       " u'expert',\n",
       " u'explor',\n",
       " u'export',\n",
       " u'express',\n",
       " u'extend',\n",
       " u'face',\n",
       " u'fact',\n",
       " u'factori',\n",
       " u'fail',\n",
       " u'failur',\n",
       " u'fair',\n",
       " u'fall',\n",
       " u'fallen',\n",
       " u'famili',\n",
       " u'far',\n",
       " u'faster',\n",
       " u'favor',\n",
       " u'fear',\n",
       " u'featur',\n",
       " u'feb',\n",
       " u'februari',\n",
       " u'fed',\n",
       " u'feder',\n",
       " u'fee',\n",
       " u'feel',\n",
       " u'feet',\n",
       " u'fell',\n",
       " u'fewer',\n",
       " u'field',\n",
       " u'fifth',\n",
       " u'fight',\n",
       " u'figur',\n",
       " u'file',\n",
       " u'film',\n",
       " u'final',\n",
       " u'financ',\n",
       " u'financi',\n",
       " u'fine',\n",
       " u'finish',\n",
       " u'firm',\n",
       " u'firstquart',\n",
       " u'fiscal',\n",
       " u'fla',\n",
       " u'fli',\n",
       " u'flight',\n",
       " u'focus',\n",
       " u'follow',\n",
       " u'food',\n",
       " u'forc',\n",
       " u'ford',\n",
       " u'forecast',\n",
       " u'foreign',\n",
       " u'form',\n",
       " u'formal',\n",
       " u'fortun',\n",
       " u'founder',\n",
       " u'fourth',\n",
       " u'fourthquart',\n",
       " u'franc',\n",
       " u'francisco',\n",
       " u'fraud',\n",
       " u'free',\n",
       " u'french',\n",
       " u'friday',\n",
       " u'friend',\n",
       " u'fuel',\n",
       " u'fund',\n",
       " u'futur',\n",
       " u'gain',\n",
       " u'gambl',\n",
       " u'game',\n",
       " u'gas',\n",
       " u'gasolin',\n",
       " u'gather',\n",
       " u'gave',\n",
       " u'general',\n",
       " u'generat',\n",
       " u'georg',\n",
       " u'german',\n",
       " u'germani',\n",
       " u'giant',\n",
       " u'given',\n",
       " u'global',\n",
       " u'gm',\n",
       " u'goal',\n",
       " u'goldman',\n",
       " u'good',\n",
       " u'googl',\n",
       " u'got',\n",
       " u'govern',\n",
       " u'grand',\n",
       " u'grant',\n",
       " u'great',\n",
       " u'greater',\n",
       " u'grew',\n",
       " u'ground',\n",
       " u'group',\n",
       " u'grow',\n",
       " u'growth',\n",
       " u'guilti',\n",
       " u'half',\n",
       " u'hand',\n",
       " u'handl',\n",
       " u'happen',\n",
       " u'hard',\n",
       " u'head',\n",
       " u'headquart',\n",
       " u'health',\n",
       " u'hear',\n",
       " u'heart',\n",
       " u'hedg',\n",
       " u'held',\n",
       " u'help',\n",
       " u'hewlettpackard',\n",
       " u'high',\n",
       " u'higher',\n",
       " u'highest',\n",
       " u'highspe',\n",
       " u'hill',\n",
       " u'hire',\n",
       " u'histori',\n",
       " u'hit',\n",
       " u'hold',\n",
       " u'holiday',\n",
       " u'hollywood',\n",
       " u'home',\n",
       " u'hong',\n",
       " u'hope',\n",
       " u'hospit',\n",
       " u'hostil',\n",
       " u'hotel',\n",
       " u'hour',\n",
       " u'hous',\n",
       " u'houston',\n",
       " u'howev',\n",
       " u'huge',\n",
       " u'human',\n",
       " u'hundr',\n",
       " u'hurt',\n",
       " u'ibm',\n",
       " u'idea',\n",
       " u'identifi',\n",
       " u'ill',\n",
       " u'illeg',\n",
       " u'imag',\n",
       " u'immedi',\n",
       " u'import',\n",
       " u'impos',\n",
       " u'improp',\n",
       " u'improv',\n",
       " u'includ',\n",
       " u'incom',\n",
       " u'increas',\n",
       " u'independ',\n",
       " u'index',\n",
       " u'india',\n",
       " u'indic',\n",
       " u'individu',\n",
       " u'industri',\n",
       " u'inflat',\n",
       " u'inform',\n",
       " u'initi',\n",
       " u'inquiri',\n",
       " u'insid',\n",
       " u'instead',\n",
       " u'institut',\n",
       " u'insur',\n",
       " u'integr',\n",
       " u'intel',\n",
       " u'intend',\n",
       " u'interact',\n",
       " u'intern',\n",
       " u'internet',\n",
       " u'interpubl',\n",
       " u'interview',\n",
       " u'introduc',\n",
       " u'inventori',\n",
       " u'invest',\n",
       " u'investig',\n",
       " u'investor',\n",
       " u'involv',\n",
       " u'iraq',\n",
       " u'island',\n",
       " u'issu',\n",
       " u'itali',\n",
       " u'italian',\n",
       " u'item',\n",
       " u'jame',\n",
       " u'jan',\n",
       " u'januari',\n",
       " u'japan',\n",
       " u'japanes',\n",
       " u'jeffrey',\n",
       " u'jersey',\n",
       " u'jet',\n",
       " u'job',\n",
       " u'john',\n",
       " u'johnson',\n",
       " u'join',\n",
       " u'joint',\n",
       " u'jone',\n",
       " u'journal',\n",
       " u'jr',\n",
       " u'judg',\n",
       " u'juli',\n",
       " u'jump',\n",
       " u'june',\n",
       " u'juri',\n",
       " u'just',\n",
       " u'justic',\n",
       " u'ken',\n",
       " u'kind',\n",
       " u'know',\n",
       " u'known',\n",
       " u'kong',\n",
       " u'korea',\n",
       " u'korean',\n",
       " u'label',\n",
       " u'labor',\n",
       " u'laboratori',\n",
       " u'land',\n",
       " u'larg',\n",
       " u'larger',\n",
       " u'largest',\n",
       " u'late',\n",
       " u'later',\n",
       " u'latest',\n",
       " u'law',\n",
       " u'lawsuit',\n",
       " u'lawyer',\n",
       " u'lay',\n",
       " u'layoff',\n",
       " u'lead',\n",
       " u'leader',\n",
       " u'learn',\n",
       " u'leas',\n",
       " u'leav',\n",
       " u'led',\n",
       " u'left',\n",
       " u'legal',\n",
       " u'legisl',\n",
       " u'lend',\n",
       " u'lender',\n",
       " u'let',\n",
       " u'letter',\n",
       " u'level',\n",
       " u'libor',\n",
       " u'licens',\n",
       " u'life',\n",
       " u'lift',\n",
       " u'light',\n",
       " u'like',\n",
       " u'limit',\n",
       " u'line',\n",
       " u'link',\n",
       " u'list',\n",
       " u'littl',\n",
       " u'live',\n",
       " u'loan',\n",
       " u'local',\n",
       " u'london',\n",
       " u'long',\n",
       " u'longer',\n",
       " u'longterm',\n",
       " u'longtim',\n",
       " u'look',\n",
       " u'los',\n",
       " u'lose',\n",
       " u'loss',\n",
       " u'lost',\n",
       " u'lot',\n",
       " u'loui',\n",
       " u'low',\n",
       " u'lower',\n",
       " u'lowest',\n",
       " u'luxuri',\n",
       " u'lynch',\n",
       " u'machin',\n",
       " u'magazin',\n",
       " u'main',\n",
       " u'maintain',\n",
       " u'major',\n",
       " u'make',\n",
       " u'maker',\n",
       " u'man',\n",
       " u'manag',\n",
       " u'manhattan',\n",
       " u'mani',\n",
       " u'manufactur',\n",
       " u'march',\n",
       " u'margin',\n",
       " u'mark',\n",
       " u'market',\n",
       " u'martin',\n",
       " u'mass',\n",
       " u'match',\n",
       " u'materi',\n",
       " u'matter',\n",
       " u'mean',\n",
       " u'measur',\n",
       " u'media',\n",
       " u'medic',\n",
       " u'medicin',\n",
       " u'meet',\n",
       " u'member',\n",
       " u'memori',\n",
       " u'men',\n",
       " u'merg',\n",
       " u'merger',\n",
       " u'merril',\n",
       " u'messag',\n",
       " u'met',\n",
       " u'mexico',\n",
       " u'mich',\n",
       " u'michael',\n",
       " u'microsoft',\n",
       " u'middl',\n",
       " u'mile',\n",
       " u'militari',\n",
       " u'million',\n",
       " u'minist',\n",
       " u'minor',\n",
       " u'minut',\n",
       " u'miss',\n",
       " u'mobil',\n",
       " u'model',\n",
       " u'modest',\n",
       " u'monday',\n",
       " u'monetari',\n",
       " u'money',\n",
       " u'month',\n",
       " u'morgan',\n",
       " u'morn',\n",
       " u'mortgag',\n",
       " u'motor',\n",
       " u'movi',\n",
       " u'mr',\n",
       " u'ms',\n",
       " u'municip',\n",
       " u'music',\n",
       " u'mutual',\n",
       " u'narrow',\n",
       " u'nasdaq',\n",
       " u'nation',\n",
       " u'natur',\n",
       " u'nc',\n",
       " u'near',\n",
       " u'need',\n",
       " u'negoti',\n",
       " u'net',\n",
       " u'network',\n",
       " u'new',\n",
       " u'news',\n",
       " u'newspap',\n",
       " u'night',\n",
       " u'nj',\n",
       " u'north',\n",
       " u'note',\n",
       " u'noth',\n",
       " u'nov',\n",
       " u'novemb',\n",
       " u'number',\n",
       " u'ny',\n",
       " u'nyt',\n",
       " u'obtain',\n",
       " u'oct',\n",
       " u'octob',\n",
       " u'offer',\n",
       " u'offic',\n",
       " u'offici',\n",
       " u'offset',\n",
       " u'ohio',\n",
       " u'oil',\n",
       " u'old',\n",
       " u'omnicom',\n",
       " u'onc',\n",
       " u'onetim',\n",
       " u'onli',\n",
       " u'onlin',\n",
       " u'open',\n",
       " u'oper',\n",
       " u'opportun',\n",
       " u'optic',\n",
       " u'option',\n",
       " u'order',\n",
       " u'organ',\n",
       " u'origin',\n",
       " u'outlook',\n",
       " u'output',\n",
       " u'outsid',\n",
       " u'outstand',\n",
       " u'overal',\n",
       " u'overse',\n",
       " u'oversea',\n",
       " u'owner',\n",
       " u'pa',\n",
       " u'pace',\n",
       " u'pacif',\n",
       " u'packag',\n",
       " u'page',\n",
       " u'paid',\n",
       " u'panel',\n",
       " u'paper',\n",
       " u'parent',\n",
       " u'pari',\n",
       " u'park',\n",
       " u'parti',\n",
       " u'particip',\n",
       " u'particular',\n",
       " u'partner',\n",
       " u'partnership',\n",
       " u'pass',\n",
       " u'passeng',\n",
       " u'past',\n",
       " u'patent',\n",
       " u'patient',\n",
       " u'paul',\n",
       " u'pay',\n",
       " u'payment',\n",
       " u'pension',\n",
       " u'peopl',\n",
       " u'percent',\n",
       " u'percentag',\n",
       " u'perform',\n",
       " u'perhap',\n",
       " u'period',\n",
       " u'person',\n",
       " u'peter',\n",
       " u'petroleum',\n",
       " u'pharmaceut',\n",
       " u'philip',\n",
       " u'phone',\n",
       " u'pick',\n",
       " u'pictur',\n",
       " u'pipelin',\n",
       " u'place',\n",
       " u'plan',\n",
       " u'plane',\n",
       " u'plant',\n",
       " u'play',\n",
       " u'player',\n",
       " u'plc',\n",
       " u'plead',\n",
       " u'plung',\n",
       " u'point',\n",
       " u'polici',\n",
       " u'polit',\n",
       " u'poor',\n",
       " u'popular',\n",
       " u'portfolio',\n",
       " u'posit',\n",
       " u'possibl',\n",
       " u'post',\n",
       " u'potenti',\n",
       " u'pound',\n",
       " u'power',\n",
       " u'practic',\n",
       " u'predict',\n",
       " u'prefer',\n",
       " u'preliminari',\n",
       " u'premium',\n",
       " u'prepar',\n",
       " u'present',\n",
       " u'presid',\n",
       " u'press',\n",
       " u'pressur',\n",
       " u'prevent',\n",
       " u'previous',\n",
       " u'price',\n",
       " u'prime',\n",
       " u'print',\n",
       " u'privat',\n",
       " u'probabl',\n",
       " u'problem',\n",
       " u'proceed',\n",
       " u'process',\n",
       " u'produc',\n",
       " u'product',\n",
       " u'profession',\n",
       " ...]"
      ]
     },
     "execution_count": 409,
     "metadata": {},
     "output_type": "execute_result"
    }
   ],
   "source": [
    "totalVocab"
   ]
  },
  {
   "cell_type": "code",
   "execution_count": 475,
   "metadata": {
    "collapsed": false
   },
   "outputs": [],
   "source": [
    "tfidfAll = TfidfVectorizer(ngram_range = (1,2), vocabulary = totalVocab)\n",
    "wordMatrixTfidf = tfidfAll.fit_transform(data.leadstems)"
   ]
  },
  {
   "cell_type": "code",
   "execution_count": 476,
   "metadata": {
    "collapsed": true
   },
   "outputs": [],
   "source": [
    "tfidfByMonth = np.zeros((len(grouped.groups.keys()),wordMatrixTfidf.shape[1]))\n",
    "for i, month in enumerate(np.sort(grouped.groups.keys())):\n",
    "    tfidfByMonth[i] = np.sum(wordMatrixTfidf[grouped.get_group(month).index], axis=0)"
   ]
  },
  {
   "cell_type": "code",
   "execution_count": 486,
   "metadata": {
    "collapsed": false
   },
   "outputs": [
    {
     "data": {
      "text/plain": [
       "[<matplotlib.lines.Line2D at 0x2fcc17b90>]"
      ]
     },
     "execution_count": 486,
     "metadata": {},
     "output_type": "execute_result"
    },
    {
     "data": {
      "image/png": "[encoded data removed]",
      "text/plain": [
       "<matplotlib.figure.Figure at 0x2fcb6bd10>"
      ]
     },
     "metadata": {},
     "output_type": "display_data"
    }
   ],
   "source": [
    "plt.plot(tfidfByMonth[:,1101])"
   ]
  },
  {
   "cell_type": "code",
   "execution_count": 487,
   "metadata": {
    "collapsed": false
   },
   "outputs": [
    {
     "data": {
      "text/plain": [
       "u'royal'"
      ]
     },
     "execution_count": 487,
     "metadata": {},
     "output_type": "execute_result"
    }
   ],
   "source": [
    "countVecAll.get_feature_names()[1101]"
   ]
  },
  {
   "cell_type": "code",
   "execution_count": null,
   "metadata": {
    "collapsed": true
   },
   "outputs": [],
   "source": []
  }
 ],
 "metadata": {
  "anaconda-cloud": {},
  "kernelspec": {
   "display_name": "Python [conda env:AC209]",
   "language": "python",
   "name": "conda-env-AC209-py"
  },
  "language_info": {
   "codemirror_mode": {
    "name": "ipython",
    "version": 2
   },
   "file_extension": ".py",
   "mimetype": "text/x-python",
   "name": "python",
   "nbconvert_exporter": "python",
   "pygments_lexer": "ipython2",
   "version": "2.7.12"
  }
 },
 "nbformat": 4,
 "nbformat_minor": 0
}
