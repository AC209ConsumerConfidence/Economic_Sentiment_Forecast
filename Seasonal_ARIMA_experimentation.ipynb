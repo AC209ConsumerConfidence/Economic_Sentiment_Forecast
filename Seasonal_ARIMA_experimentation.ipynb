{
 "cells": [
  {
   "cell_type": "code",
   "execution_count": 87,
   "metadata": {
    "collapsed": false
   },
   "outputs": [],
   "source": [
    "import numpy as np\n",
    "import matplotlib\n",
    "import matplotlib.pyplot as plt\n",
    "import pandas as pd\n",
    "%matplotlib inline\n",
    "import datetime\n",
    "import csv\n",
    "import math\n",
    "import time\n",
    "from ProgressBar import ProgressBar\n",
    "\n",
    "import nltk\n",
    "import string\n",
    "from collections import defaultdict\n",
    "from sklearn.feature_extraction.text import CountVectorizer\n",
    "from sklearn.feature_extraction.text import TfidfVectorizer\n",
    "import warnings\n",
    "warnings.filterwarnings('ignore')\n",
    "\n",
    "from sklearn.linear_model import LinearRegression\n",
    "from sklearn.linear_model import Lasso"
   ]
  },
  {
   "cell_type": "code",
   "execution_count": 29,
   "metadata": {
    "collapsed": false
   },
   "outputs": [
    {
     "data": {
      "text/html": [
       "<div>\n",
       "<table border=\"1\" class=\"dataframe\">\n",
       "  <thead>\n",
       "    <tr style=\"text-align: right;\">\n",
       "      <th></th>\n",
       "      <th>Value</th>\n",
       "    </tr>\n",
       "    <tr>\n",
       "      <th>TIME</th>\n",
       "      <th></th>\n",
       "    </tr>\n",
       "  </thead>\n",
       "  <tbody>\n",
       "    <tr>\n",
       "      <th>1960-01</th>\n",
       "      <td>101.5840</td>\n",
       "    </tr>\n",
       "    <tr>\n",
       "      <th>1960-02</th>\n",
       "      <td>101.3255</td>\n",
       "    </tr>\n",
       "    <tr>\n",
       "      <th>1960-03</th>\n",
       "      <td>101.1023</td>\n",
       "    </tr>\n",
       "    <tr>\n",
       "      <th>1960-04</th>\n",
       "      <td>100.9791</td>\n",
       "    </tr>\n",
       "    <tr>\n",
       "      <th>1960-05</th>\n",
       "      <td>101.0102</td>\n",
       "    </tr>\n",
       "  </tbody>\n",
       "</table>\n",
       "</div>"
      ],
      "text/plain": [
       "            Value\n",
       "TIME             \n",
       "1960-01  101.5840\n",
       "1960-02  101.3255\n",
       "1960-03  101.1023\n",
       "1960-04  100.9791\n",
       "1960-05  101.0102"
      ]
     },
     "execution_count": 29,
     "metadata": {},
     "output_type": "execute_result"
    }
   ],
   "source": [
    "CCI = pd.read_csv('CCI.csv')[['TIME','Value']]\n",
    "CCI.set_index('TIME', inplace=True)\n",
    "CCI.head()"
   ]
  },
  {
   "cell_type": "code",
   "execution_count": 32,
   "metadata": {
    "collapsed": false
   },
   "outputs": [],
   "source": [
    "CCIlimited = CCI.iloc[np.where(CCI.index=='2000-01')[0][0]:(np.where(CCI.index=='2006-12')[0]+1)[0]]"
   ]
  },
  {
   "cell_type": "code",
   "execution_count": 33,
   "metadata": {
    "collapsed": false
   },
   "outputs": [
    {
     "data": {
      "text/html": [
       "<div>\n",
       "<table border=\"1\" class=\"dataframe\">\n",
       "  <thead>\n",
       "    <tr style=\"text-align: right;\">\n",
       "      <th></th>\n",
       "      <th>Value</th>\n",
       "    </tr>\n",
       "    <tr>\n",
       "      <th>TIME</th>\n",
       "      <th></th>\n",
       "    </tr>\n",
       "  </thead>\n",
       "  <tbody>\n",
       "    <tr>\n",
       "      <th>2000-01</th>\n",
       "      <td>102.7499</td>\n",
       "    </tr>\n",
       "    <tr>\n",
       "      <th>2000-02</th>\n",
       "      <td>102.8026</td>\n",
       "    </tr>\n",
       "    <tr>\n",
       "      <th>2000-03</th>\n",
       "      <td>102.7220</td>\n",
       "    </tr>\n",
       "    <tr>\n",
       "      <th>2000-04</th>\n",
       "      <td>102.7036</td>\n",
       "    </tr>\n",
       "    <tr>\n",
       "      <th>2000-05</th>\n",
       "      <td>102.6784</td>\n",
       "    </tr>\n",
       "  </tbody>\n",
       "</table>\n",
       "</div>"
      ],
      "text/plain": [
       "            Value\n",
       "TIME             \n",
       "2000-01  102.7499\n",
       "2000-02  102.8026\n",
       "2000-03  102.7220\n",
       "2000-04  102.7036\n",
       "2000-05  102.6784"
      ]
     },
     "execution_count": 33,
     "metadata": {},
     "output_type": "execute_result"
    }
   ],
   "source": [
    "CCIlimited.head()"
   ]
  },
  {
   "cell_type": "code",
   "execution_count": 53,
   "metadata": {
    "collapsed": false
   },
   "outputs": [
    {
     "data": {
      "text/html": [
       "<div>\n",
       "<table border=\"1\" class=\"dataframe\">\n",
       "  <thead>\n",
       "    <tr style=\"text-align: right;\">\n",
       "      <th></th>\n",
       "      <th>Value</th>\n",
       "      <th>Value_lag1</th>\n",
       "      <th>Value_lag2</th>\n",
       "      <th>Value_lag3</th>\n",
       "      <th>Value_lag12</th>\n",
       "    </tr>\n",
       "    <tr>\n",
       "      <th>TIME</th>\n",
       "      <th></th>\n",
       "      <th></th>\n",
       "      <th></th>\n",
       "      <th></th>\n",
       "      <th></th>\n",
       "    </tr>\n",
       "  </thead>\n",
       "  <tbody>\n",
       "    <tr>\n",
       "      <th>2001-01</th>\n",
       "      <td>101.05250</td>\n",
       "      <td>101.57510</td>\n",
       "      <td>102.10260</td>\n",
       "      <td>102.35390</td>\n",
       "      <td>102.7499</td>\n",
       "    </tr>\n",
       "    <tr>\n",
       "      <th>2001-02</th>\n",
       "      <td>100.67050</td>\n",
       "      <td>101.05250</td>\n",
       "      <td>101.57510</td>\n",
       "      <td>102.10260</td>\n",
       "      <td>102.8026</td>\n",
       "    </tr>\n",
       "    <tr>\n",
       "      <th>2001-03</th>\n",
       "      <td>100.50560</td>\n",
       "      <td>100.67050</td>\n",
       "      <td>101.05250</td>\n",
       "      <td>101.57510</td>\n",
       "      <td>102.7220</td>\n",
       "    </tr>\n",
       "    <tr>\n",
       "      <th>2001-04</th>\n",
       "      <td>100.47250</td>\n",
       "      <td>100.50560</td>\n",
       "      <td>100.67050</td>\n",
       "      <td>101.05250</td>\n",
       "      <td>102.7036</td>\n",
       "    </tr>\n",
       "    <tr>\n",
       "      <th>2001-05</th>\n",
       "      <td>100.59540</td>\n",
       "      <td>100.47250</td>\n",
       "      <td>100.50560</td>\n",
       "      <td>100.67050</td>\n",
       "      <td>102.6784</td>\n",
       "    </tr>\n",
       "    <tr>\n",
       "      <th>2001-06</th>\n",
       "      <td>100.67430</td>\n",
       "      <td>100.59540</td>\n",
       "      <td>100.47250</td>\n",
       "      <td>100.50560</td>\n",
       "      <td>102.5800</td>\n",
       "    </tr>\n",
       "    <tr>\n",
       "      <th>2001-07</th>\n",
       "      <td>100.58840</td>\n",
       "      <td>100.67430</td>\n",
       "      <td>100.59540</td>\n",
       "      <td>100.47250</td>\n",
       "      <td>102.5467</td>\n",
       "    </tr>\n",
       "    <tr>\n",
       "      <th>2001-08</th>\n",
       "      <td>100.28710</td>\n",
       "      <td>100.58840</td>\n",
       "      <td>100.67430</td>\n",
       "      <td>100.59540</td>\n",
       "      <td>102.5120</td>\n",
       "    </tr>\n",
       "    <tr>\n",
       "      <th>2001-09</th>\n",
       "      <td>99.85295</td>\n",
       "      <td>100.28710</td>\n",
       "      <td>100.58840</td>\n",
       "      <td>100.67430</td>\n",
       "      <td>102.4624</td>\n",
       "    </tr>\n",
       "    <tr>\n",
       "      <th>2001-10</th>\n",
       "      <td>99.69643</td>\n",
       "      <td>99.85295</td>\n",
       "      <td>100.28710</td>\n",
       "      <td>100.58840</td>\n",
       "      <td>102.3539</td>\n",
       "    </tr>\n",
       "    <tr>\n",
       "      <th>2001-11</th>\n",
       "      <td>99.84406</td>\n",
       "      <td>99.69643</td>\n",
       "      <td>99.85295</td>\n",
       "      <td>100.28710</td>\n",
       "      <td>102.1026</td>\n",
       "    </tr>\n",
       "    <tr>\n",
       "      <th>2001-12</th>\n",
       "      <td>100.20130</td>\n",
       "      <td>99.84406</td>\n",
       "      <td>99.69643</td>\n",
       "      <td>99.85295</td>\n",
       "      <td>101.5751</td>\n",
       "    </tr>\n",
       "    <tr>\n",
       "      <th>2002-01</th>\n",
       "      <td>100.54680</td>\n",
       "      <td>100.20130</td>\n",
       "      <td>99.84406</td>\n",
       "      <td>99.69643</td>\n",
       "      <td>101.0525</td>\n",
       "    </tr>\n",
       "    <tr>\n",
       "      <th>2002-02</th>\n",
       "      <td>100.75370</td>\n",
       "      <td>100.54680</td>\n",
       "      <td>100.20130</td>\n",
       "      <td>99.84406</td>\n",
       "      <td>100.6705</td>\n",
       "    </tr>\n",
       "    <tr>\n",
       "      <th>2002-03</th>\n",
       "      <td>100.94090</td>\n",
       "      <td>100.75370</td>\n",
       "      <td>100.54680</td>\n",
       "      <td>100.20130</td>\n",
       "      <td>100.5056</td>\n",
       "    </tr>\n",
       "  </tbody>\n",
       "</table>\n",
       "</div>"
      ],
      "text/plain": [
       "             Value  Value_lag1  Value_lag2  Value_lag3  Value_lag12\n",
       "TIME                                                               \n",
       "2001-01  101.05250   101.57510   102.10260   102.35390     102.7499\n",
       "2001-02  100.67050   101.05250   101.57510   102.10260     102.8026\n",
       "2001-03  100.50560   100.67050   101.05250   101.57510     102.7220\n",
       "2001-04  100.47250   100.50560   100.67050   101.05250     102.7036\n",
       "2001-05  100.59540   100.47250   100.50560   100.67050     102.6784\n",
       "2001-06  100.67430   100.59540   100.47250   100.50560     102.5800\n",
       "2001-07  100.58840   100.67430   100.59540   100.47250     102.5467\n",
       "2001-08  100.28710   100.58840   100.67430   100.59540     102.5120\n",
       "2001-09   99.85295   100.28710   100.58840   100.67430     102.4624\n",
       "2001-10   99.69643    99.85295   100.28710   100.58840     102.3539\n",
       "2001-11   99.84406    99.69643    99.85295   100.28710     102.1026\n",
       "2001-12  100.20130    99.84406    99.69643    99.85295     101.5751\n",
       "2002-01  100.54680   100.20130    99.84406    99.69643     101.0525\n",
       "2002-02  100.75370   100.54680   100.20130    99.84406     100.6705\n",
       "2002-03  100.94090   100.75370   100.54680   100.20130     100.5056"
      ]
     },
     "execution_count": 53,
     "metadata": {},
     "output_type": "execute_result"
    }
   ],
   "source": [
    "CCIlags = CCIlimited.iloc[12:]\n",
    "CCIlags['Value_lag1'] = CCIlimited.iloc[11:-1].Value.values\n",
    "CCIlags['Value_lag2'] = CCIlimited.iloc[10:-2].Value.values\n",
    "CCIlags['Value_lag3'] = CCIlimited.iloc[9:-3].Value.values\n",
    "CCIlags['Value_lag12'] = CCIlimited.iloc[0:-12].Value.values\n",
    "CCIlags.head(15)"
   ]
  },
  {
   "cell_type": "code",
   "execution_count": 69,
   "metadata": {
    "collapsed": false
   },
   "outputs": [],
   "source": [
    "X = CCIlags.iloc[:,[1,2]].values\n",
    "y = CCIlags.iloc[:,[0]].values"
   ]
  },
  {
   "cell_type": "code",
   "execution_count": 70,
   "metadata": {
    "collapsed": false
   },
   "outputs": [
    {
     "data": {
      "text/plain": [
       "0.94373203689952523"
      ]
     },
     "execution_count": 70,
     "metadata": {},
     "output_type": "execute_result"
    }
   ],
   "source": [
    "lr = LinearRegression()\n",
    "lr.fit(X[:-5],y[:-5])\n",
    "lr.score(X[-5:],y[-5:])"
   ]
  },
  {
   "cell_type": "markdown",
   "metadata": {},
   "source": [
    "# With news"
   ]
  },
  {
   "cell_type": "code",
   "execution_count": 79,
   "metadata": {
    "collapsed": false
   },
   "outputs": [
    {
     "data": {
      "text/html": [
       "<div>\n",
       "<table border=\"1\" class=\"dataframe\">\n",
       "  <thead>\n",
       "    <tr style=\"text-align: right;\">\n",
       "      <th></th>\n",
       "      <th>10</th>\n",
       "      <th>100</th>\n",
       "      <th>1000</th>\n",
       "      <th>10yr</th>\n",
       "      <th>11</th>\n",
       "      <th>12</th>\n",
       "      <th>125</th>\n",
       "      <th>13</th>\n",
       "      <th>14</th>\n",
       "      <th>15</th>\n",
       "      <th>...</th>\n",
       "      <th>data storag</th>\n",
       "      <th>govern said</th>\n",
       "      <th>bankruptci file</th>\n",
       "      <th>dresdner kleinwort</th>\n",
       "      <th>ernst young</th>\n",
       "      <th>report today</th>\n",
       "      <th>accus them</th>\n",
       "      <th>casualti insur</th>\n",
       "      <th>presid at</th>\n",
       "      <th>secondquart net</th>\n",
       "    </tr>\n",
       "  </thead>\n",
       "  <tbody>\n",
       "    <tr>\n",
       "      <th>2000-01</th>\n",
       "      <td>6.810996</td>\n",
       "      <td>4.722850</td>\n",
       "      <td>1.554004</td>\n",
       "      <td>5.287402</td>\n",
       "      <td>3.835503</td>\n",
       "      <td>3.921624</td>\n",
       "      <td>0.489312</td>\n",
       "      <td>3.474001</td>\n",
       "      <td>1.605717</td>\n",
       "      <td>6.355880</td>\n",
       "      <td>...</td>\n",
       "      <td>0.000000</td>\n",
       "      <td>0.935871</td>\n",
       "      <td>0.181887</td>\n",
       "      <td>0.199304</td>\n",
       "      <td>0.000000</td>\n",
       "      <td>0.984635</td>\n",
       "      <td>0.000000</td>\n",
       "      <td>0.000000</td>\n",
       "      <td>2.324393</td>\n",
       "      <td>0.0</td>\n",
       "    </tr>\n",
       "    <tr>\n",
       "      <th>2000-02</th>\n",
       "      <td>6.583431</td>\n",
       "      <td>4.742737</td>\n",
       "      <td>1.332398</td>\n",
       "      <td>6.180199</td>\n",
       "      <td>3.889084</td>\n",
       "      <td>4.531573</td>\n",
       "      <td>1.027934</td>\n",
       "      <td>3.044583</td>\n",
       "      <td>3.051015</td>\n",
       "      <td>4.035100</td>\n",
       "      <td>...</td>\n",
       "      <td>0.528561</td>\n",
       "      <td>0.631476</td>\n",
       "      <td>0.000000</td>\n",
       "      <td>0.000000</td>\n",
       "      <td>0.229263</td>\n",
       "      <td>0.989657</td>\n",
       "      <td>0.219338</td>\n",
       "      <td>1.037755</td>\n",
       "      <td>0.283823</td>\n",
       "      <td>0.0</td>\n",
       "    </tr>\n",
       "    <tr>\n",
       "      <th>2000-03</th>\n",
       "      <td>8.076472</td>\n",
       "      <td>5.783177</td>\n",
       "      <td>0.494058</td>\n",
       "      <td>6.885387</td>\n",
       "      <td>4.302596</td>\n",
       "      <td>5.320889</td>\n",
       "      <td>3.089404</td>\n",
       "      <td>2.892607</td>\n",
       "      <td>3.573562</td>\n",
       "      <td>5.835880</td>\n",
       "      <td>...</td>\n",
       "      <td>0.000000</td>\n",
       "      <td>0.901069</td>\n",
       "      <td>0.186887</td>\n",
       "      <td>0.000000</td>\n",
       "      <td>0.555234</td>\n",
       "      <td>0.396185</td>\n",
       "      <td>0.000000</td>\n",
       "      <td>0.178143</td>\n",
       "      <td>0.774355</td>\n",
       "      <td>0.0</td>\n",
       "    </tr>\n",
       "    <tr>\n",
       "      <th>2000-04</th>\n",
       "      <td>8.999574</td>\n",
       "      <td>3.264970</td>\n",
       "      <td>1.242531</td>\n",
       "      <td>5.909117</td>\n",
       "      <td>7.005908</td>\n",
       "      <td>7.803033</td>\n",
       "      <td>1.600608</td>\n",
       "      <td>3.841745</td>\n",
       "      <td>6.092838</td>\n",
       "      <td>5.710357</td>\n",
       "      <td>...</td>\n",
       "      <td>0.000000</td>\n",
       "      <td>0.421062</td>\n",
       "      <td>0.000000</td>\n",
       "      <td>0.562987</td>\n",
       "      <td>0.187342</td>\n",
       "      <td>0.934242</td>\n",
       "      <td>0.573487</td>\n",
       "      <td>0.526850</td>\n",
       "      <td>1.104481</td>\n",
       "      <td>0.0</td>\n",
       "    </tr>\n",
       "    <tr>\n",
       "      <th>2000-05</th>\n",
       "      <td>8.199903</td>\n",
       "      <td>4.102355</td>\n",
       "      <td>1.358301</td>\n",
       "      <td>5.982233</td>\n",
       "      <td>4.287039</td>\n",
       "      <td>4.297308</td>\n",
       "      <td>2.112467</td>\n",
       "      <td>3.094332</td>\n",
       "      <td>3.251916</td>\n",
       "      <td>6.452769</td>\n",
       "      <td>...</td>\n",
       "      <td>0.000000</td>\n",
       "      <td>1.251087</td>\n",
       "      <td>0.167923</td>\n",
       "      <td>0.000000</td>\n",
       "      <td>0.911436</td>\n",
       "      <td>0.704819</td>\n",
       "      <td>0.192804</td>\n",
       "      <td>0.000000</td>\n",
       "      <td>2.481364</td>\n",
       "      <td>0.0</td>\n",
       "    </tr>\n",
       "  </tbody>\n",
       "</table>\n",
       "<p>5 rows × 5956 columns</p>\n",
       "</div>"
      ],
      "text/plain": [
       "               10       100      1000      10yr        11        12       125  \\\n",
       "2000-01  6.810996  4.722850  1.554004  5.287402  3.835503  3.921624  0.489312   \n",
       "2000-02  6.583431  4.742737  1.332398  6.180199  3.889084  4.531573  1.027934   \n",
       "2000-03  8.076472  5.783177  0.494058  6.885387  4.302596  5.320889  3.089404   \n",
       "2000-04  8.999574  3.264970  1.242531  5.909117  7.005908  7.803033  1.600608   \n",
       "2000-05  8.199903  4.102355  1.358301  5.982233  4.287039  4.297308  2.112467   \n",
       "\n",
       "               13        14        15       ...         data storag  \\\n",
       "2000-01  3.474001  1.605717  6.355880       ...            0.000000   \n",
       "2000-02  3.044583  3.051015  4.035100       ...            0.528561   \n",
       "2000-03  2.892607  3.573562  5.835880       ...            0.000000   \n",
       "2000-04  3.841745  6.092838  5.710357       ...            0.000000   \n",
       "2000-05  3.094332  3.251916  6.452769       ...            0.000000   \n",
       "\n",
       "         govern said  bankruptci file  dresdner kleinwort  ernst young  \\\n",
       "2000-01     0.935871         0.181887            0.199304     0.000000   \n",
       "2000-02     0.631476         0.000000            0.000000     0.229263   \n",
       "2000-03     0.901069         0.186887            0.000000     0.555234   \n",
       "2000-04     0.421062         0.000000            0.562987     0.187342   \n",
       "2000-05     1.251087         0.167923            0.000000     0.911436   \n",
       "\n",
       "         report today  accus them  casualti insur  presid at  secondquart net  \n",
       "2000-01      0.984635    0.000000        0.000000   2.324393              0.0  \n",
       "2000-02      0.989657    0.219338        1.037755   0.283823              0.0  \n",
       "2000-03      0.396185    0.000000        0.178143   0.774355              0.0  \n",
       "2000-04      0.934242    0.573487        0.526850   1.104481              0.0  \n",
       "2000-05      0.704819    0.192804        0.000000   2.481364              0.0  \n",
       "\n",
       "[5 rows x 5956 columns]"
      ]
     },
     "execution_count": 79,
     "metadata": {},
     "output_type": "execute_result"
    }
   ],
   "source": [
    "tfidfDF = pd.read_csv('tfidfDF.csv', index_col=0)\n",
    "tfidfDF.head()"
   ]
  },
  {
   "cell_type": "code",
   "execution_count": 80,
   "metadata": {
    "collapsed": false
   },
   "outputs": [],
   "source": [
    "tfidfLag1 = tfidfDF.iloc[11:-1].values\n",
    "tfidfLag2 = tfidfDF.iloc[10:-2].values\n",
    "tfidfLag12 = tfidfDF.iloc[0:-12].values"
   ]
  },
  {
   "cell_type": "code",
   "execution_count": 83,
   "metadata": {
    "collapsed": false
   },
   "outputs": [
    {
     "data": {
      "text/plain": [
       "(72, 5956)"
      ]
     },
     "execution_count": 83,
     "metadata": {},
     "output_type": "execute_result"
    }
   ],
   "source": [
    "tfidfLag12.shape"
   ]
  },
  {
   "cell_type": "code",
   "execution_count": 197,
   "metadata": {
    "collapsed": true
   },
   "outputs": [],
   "source": [
    "X_news = np.hstack((X, tfidfLag1, tfidfLag2))"
   ]
  },
  {
   "cell_type": "code",
   "execution_count": 198,
   "metadata": {
    "collapsed": false
   },
   "outputs": [
    {
     "data": {
      "text/plain": [
       "array([[ 101.5751    ,  102.1026    ,    8.63333711, ...,    0.40604087,\n",
       "           1.19570396,    0.        ],\n",
       "       [ 101.0525    ,  101.5751    ,    6.51194681, ...,    0.21246151,\n",
       "           1.72852165,    0.        ],\n",
       "       [ 100.6705    ,  101.0525    ,    6.38861777, ...,    0.        ,\n",
       "           2.04200127,    0.        ],\n",
       "       ..., \n",
       "       [ 100.0757    ,   99.76016   ,    9.05202296, ...,    0.6954616 ,\n",
       "           2.70079311,    0.16939271],\n",
       "       [ 100.4959    ,  100.0757    ,   11.60090168, ...,    0.40604087,\n",
       "           1.52436876,    0.        ],\n",
       "       [ 100.7271    ,  100.4959    ,   10.66908092, ...,    0.21246151,\n",
       "           2.19692662,    0.        ]])"
      ]
     },
     "execution_count": 198,
     "metadata": {},
     "output_type": "execute_result"
    }
   ],
   "source": [
    "X_news"
   ]
  },
  {
   "cell_type": "code",
   "execution_count": 203,
   "metadata": {
    "collapsed": false
   },
   "outputs": [
    {
     "data": {
      "text/plain": [
       "-1.5539535692668971"
      ]
     },
     "execution_count": 203,
     "metadata": {},
     "output_type": "execute_result"
    }
   ],
   "source": [
    "lasso = Lasso(alpha=.2)\n",
    "lasso.fit(X_news[:-10,2:],y[:-10])\n",
    "lasso.score(X_news[-10:,2:],y[-10:])"
   ]
  },
  {
   "cell_type": "code",
   "execution_count": 204,
   "metadata": {
    "collapsed": false
   },
   "outputs": [
    {
     "data": {
      "text/plain": [
       "[<matplotlib.lines.Line2D at 0x11946a110>]"
      ]
     },
     "execution_count": 204,
     "metadata": {},
     "output_type": "execute_result"
    },
    {
     "data": {
      "image/png": "[encoded data removed]",
      "text/plain": [
       "<matplotlib.figure.Figure at 0x11980e9d0>"
      ]
     },
     "metadata": {},
     "output_type": "display_data"
    }
   ],
   "source": [
    "pred = lasso.predict(X_news[:,2:])\n",
    "plt.plot(range(len(y)), y)\n",
    "plt.plot(range(len(y)), pred)"
   ]
  },
  {
   "cell_type": "code",
   "execution_count": 128,
   "metadata": {
    "collapsed": false
   },
   "outputs": [
    {
     "data": {
      "text/plain": [
       "4"
      ]
     },
     "execution_count": 128,
     "metadata": {},
     "output_type": "execute_result"
    }
   ],
   "source": [
    "len(np.where(lasso.coef_!=0)[0])"
   ]
  },
  {
   "cell_type": "code",
   "execution_count": 129,
   "metadata": {
    "collapsed": false
   },
   "outputs": [
    {
     "data": {
      "text/plain": [
       "array([  1.23035248e+00,  -4.01381422e-01,   0.00000000e+00,\n",
       "        -0.00000000e+00,  -0.00000000e+00,  -1.15466209e-03,\n",
       "         2.08317663e-02])"
      ]
     },
     "execution_count": 129,
     "metadata": {},
     "output_type": "execute_result"
    }
   ],
   "source": [
    "lasso.coef_"
   ]
  },
  {
   "cell_type": "code",
   "execution_count": 118,
   "metadata": {
    "collapsed": false
   },
   "outputs": [
    {
     "data": {
      "text/plain": [
       "array([[ 101.5751    ,  102.1026    ,    8.63333711,    6.15588702,\n",
       "           1.58967116],\n",
       "       [ 101.0525    ,  101.5751    ,    6.51194681,    4.92652169,\n",
       "           1.69892868],\n",
       "       [ 100.6705    ,  101.0525    ,    6.38861777,    4.10902438,\n",
       "           1.18747298],\n",
       "       [ 100.5056    ,  100.6705    ,    8.45248603,    5.75864973,\n",
       "           0.62080147],\n",
       "       [ 100.4725    ,  100.5056    ,    9.79396429,    4.16093603,\n",
       "           1.12295369],\n",
       "       [ 100.5954    ,  100.4725    ,    8.16007492,    4.42274197,\n",
       "           1.47714711],\n",
       "       [ 100.6743    ,  100.5954    ,    7.17823693,    3.56210057,\n",
       "           1.04963056],\n",
       "       [ 100.5884    ,  100.6743    ,    6.33590342,    5.47905487,\n",
       "           1.16161694],\n",
       "       [ 100.2871    ,  100.5884    ,    7.75840742,    2.96000653,\n",
       "           1.13792621],\n",
       "       [  99.85295   ,  100.2871    ,    6.04053458,    2.2914646 ,\n",
       "           0.75196816],\n",
       "       [  99.69643   ,   99.85295   ,    7.53946631,    5.1231662 ,\n",
       "           0.80929416],\n",
       "       [  99.84406   ,   99.69643   ,    7.23899037,    4.05208947,\n",
       "           0.76762405],\n",
       "       [ 100.2013    ,   99.84406   ,    8.11681457,    5.91074111,\n",
       "           1.86897212],\n",
       "       [ 100.5468    ,  100.2013    ,    7.72936959,    4.93200876,\n",
       "           1.55203405],\n",
       "       [ 100.7537    ,  100.5468    ,    7.42771737,    5.90643071,\n",
       "           1.47191179],\n",
       "       [ 100.9409    ,  100.7537    ,    9.95471695,    5.38312102,\n",
       "           0.48325729],\n",
       "       [ 100.9936    ,  100.9409    ,    9.94245861,    4.55858722,\n",
       "           1.38478383],\n",
       "       [ 100.9676    ,  100.9936    ,    7.84201048,    4.20764527,\n",
       "           1.53270262],\n",
       "       [ 100.717     ,  100.9676    ,    6.16148267,    4.14643683,\n",
       "           1.19176455],\n",
       "       [ 100.3816    ,  100.717     ,    8.61724614,    5.55279888,\n",
       "           1.24735253],\n",
       "       [ 100.1052    ,  100.3816    ,    7.36210461,    2.86763765,\n",
       "           1.55155914],\n",
       "       [  99.86337   ,  100.1052    ,    7.97568515,    4.44948306,\n",
       "           0.45819817],\n",
       "       [  99.68081   ,   99.86337   ,    9.55492866,    5.52292465,\n",
       "           1.3713178 ],\n",
       "       [  99.69585   ,   99.68081   ,    7.49330381,    5.88046873,\n",
       "           1.83463226],\n",
       "       [  99.69331   ,   99.69585   ,    8.67838823,    4.16906995,\n",
       "           1.60024845],\n",
       "       [  99.51478   ,   99.69331   ,    7.31598286,    4.93200876,\n",
       "           1.55203405],\n",
       "       [  99.35643   ,   99.51478   ,    7.66455815,    5.64146767,\n",
       "           1.47191179],\n",
       "       [  99.43961   ,   99.35643   ,   10.12486255,    5.64808406,\n",
       "           0.48325729],\n",
       "       [  99.87387   ,   99.43961   ,    8.86232399,    4.02496501,\n",
       "           1.2635429 ],\n",
       "       [ 100.302     ,   99.87387   ,    7.97759929,    4.63836574,\n",
       "           1.46256988],\n",
       "       [ 100.4582    ,  100.302     ,    6.66325222,    3.95097604,\n",
       "           1.21102613],\n",
       "       [ 100.4605    ,  100.4582    ,    8.81757008,    5.00257772,\n",
       "           1.22521937],\n",
       "       [ 100.371     ,  100.4605    ,    7.51927737,    3.02293134,\n",
       "           1.24508194],\n",
       "       [ 100.3356    ,  100.371     ,    6.50463165,    4.63148249,\n",
       "           0.95892062],\n",
       "       [ 100.484     ,  100.3356    ,    8.20161645,    4.10468148,\n",
       "           0.58709056],\n",
       "       [ 100.7764    ,  100.484     ,    7.32599015,    5.43468457,\n",
       "           1.77956776],\n",
       "       [ 101.0798    ,  100.7764    ,    8.15786301,    4.86869459,\n",
       "           1.12127899],\n",
       "       [ 101.3594    ,  101.0798    ,    6.29894229,    5.19518291,\n",
       "           1.55400413],\n",
       "       [ 101.2457    ,  101.3594    ,    8.10736194,    4.63553218,\n",
       "           1.33239753],\n",
       "       [ 101.0777    ,  101.2457    ,    7.41177629,    5.62202467,\n",
       "           0.62080147],\n",
       "       [ 100.9065    ,  101.0777    ,   10.20260541,    3.96062816,\n",
       "           1.12295369],\n",
       "       [ 100.828     ,  100.9065    ,    7.28640389,    4.36867805,\n",
       "           1.47714711],\n",
       "       [ 100.9661    ,  100.828     ,    6.4127795 ,    3.26409889,\n",
       "           0.80389652],\n",
       "       [ 101.0776    ,  100.9661    ,    7.11111491,    5.13568786,\n",
       "           1.00188592],\n",
       "       [ 101.0529    ,  101.0776    ,    6.35260436,    2.69122658,\n",
       "           1.25775121],\n",
       "       [ 100.9339    ,  101.0529    ,    7.77102954,    3.05027413,\n",
       "           1.24452821],\n",
       "       [ 100.8446    ,  100.9339    ,    6.82337071,    5.03009551,\n",
       "           0.73699719],\n",
       "       [ 100.9088    ,  100.8446    ,    7.28857208,    3.93066689,\n",
       "           0.91230199],\n",
       "       [ 101.0447    ,  100.9088    ,    7.40701595,    4.76017547,\n",
       "           1.28957325],\n",
       "       [ 101.03      ,  101.0447    ,    5.66347196,    4.92652169,\n",
       "           1.69892868],\n",
       "       [ 100.8742    ,  101.03      ,    6.49541411,    3.15562279,\n",
       "           1.18747298],\n",
       "       [ 100.6444    ,  100.8742    ,    7.96252688,    6.25574864,\n",
       "           0.13754418],\n",
       "       [ 100.4558    ,  100.6444    ,    8.05689335,    3.74883054,\n",
       "           1.14679836],\n",
       "       [ 100.5238    ,  100.4558    ,    6.99596109,    3.14225941,\n",
       "           0.75919706],\n",
       "       [ 100.7743    ,  100.5238    ,    6.15635053,    2.85788232,\n",
       "           1.30337465],\n",
       "       [ 100.6807    ,  100.7743    ,    3.9372114 ,    2.46535975,\n",
       "           0.92361858],\n",
       "       [ 100.0887    ,  100.6807    ,    4.85054616,    3.55970852,\n",
       "           0.4051419 ],\n",
       "       [  99.36924   ,  100.0887    ,    5.1802587 ,    2.99827841,\n",
       "           1.10748502],\n",
       "       [  99.13574   ,   99.36924   ,    4.22010508,    1.96891743,\n",
       "           0.36329569],\n",
       "       [  99.52271   ,   99.13574   ,    5.09036021,    1.91319149,\n",
       "           1.38250869],\n",
       "       [ 100.1001    ,   99.52271   ,    5.31532805,    3.46313936,\n",
       "           0.28258529],\n",
       "       [ 100.3606    ,  100.1001    ,    4.87224046,    3.8740346 ,\n",
       "           1.25933739],\n",
       "       [ 100.3119    ,  100.3606    ,    4.12633689,    2.90710989,\n",
       "           0.77328405],\n",
       "       [ 100.1804    ,  100.3119    ,    8.68090533,    5.83117   ,\n",
       "           0.9913244 ],\n",
       "       [  99.92864   ,  100.1804    ,   12.53914929,    5.76949167,\n",
       "           1.45845597],\n",
       "       [  99.64642   ,   99.92864   ,   11.42940983,    6.12914106,\n",
       "           1.7509141 ],\n",
       "       [  99.62564   ,   99.64642   ,    9.61242584,    6.29002683,\n",
       "           1.50087256]])"
      ]
     },
     "execution_count": 118,
     "metadata": {},
     "output_type": "execute_result"
    }
   ],
   "source": [
    "X_news[:-5,[0,1,2,3,4]]"
   ]
  },
  {
   "cell_type": "markdown",
   "metadata": {},
   "source": [
    "# Correlated words"
   ]
  },
  {
   "cell_type": "code",
   "execution_count": 205,
   "metadata": {
    "collapsed": false
   },
   "outputs": [
    {
     "data": {
      "text/html": [
       "<div>\n",
       "<table border=\"1\" class=\"dataframe\">\n",
       "  <thead>\n",
       "    <tr style=\"text-align: right;\">\n",
       "      <th></th>\n",
       "      <th>10</th>\n",
       "      <th>100</th>\n",
       "      <th>1000</th>\n",
       "      <th>10yr</th>\n",
       "      <th>11</th>\n",
       "      <th>12</th>\n",
       "      <th>125</th>\n",
       "      <th>13</th>\n",
       "      <th>14</th>\n",
       "      <th>15</th>\n",
       "      <th>...</th>\n",
       "      <th>data storag</th>\n",
       "      <th>govern said</th>\n",
       "      <th>bankruptci file</th>\n",
       "      <th>dresdner kleinwort</th>\n",
       "      <th>ernst young</th>\n",
       "      <th>report today</th>\n",
       "      <th>accus them</th>\n",
       "      <th>casualti insur</th>\n",
       "      <th>presid at</th>\n",
       "      <th>secondquart net</th>\n",
       "    </tr>\n",
       "  </thead>\n",
       "  <tbody>\n",
       "    <tr>\n",
       "      <th>2000-01</th>\n",
       "      <td>6.810996</td>\n",
       "      <td>4.722850</td>\n",
       "      <td>1.554004</td>\n",
       "      <td>5.287402</td>\n",
       "      <td>3.835503</td>\n",
       "      <td>3.921624</td>\n",
       "      <td>0.489312</td>\n",
       "      <td>3.474001</td>\n",
       "      <td>1.605717</td>\n",
       "      <td>6.355880</td>\n",
       "      <td>...</td>\n",
       "      <td>0.000000</td>\n",
       "      <td>0.935871</td>\n",
       "      <td>0.181887</td>\n",
       "      <td>0.199304</td>\n",
       "      <td>0.000000</td>\n",
       "      <td>0.984635</td>\n",
       "      <td>0.000000</td>\n",
       "      <td>0.000000</td>\n",
       "      <td>2.324393</td>\n",
       "      <td>0.0</td>\n",
       "    </tr>\n",
       "    <tr>\n",
       "      <th>2000-02</th>\n",
       "      <td>6.583431</td>\n",
       "      <td>4.742737</td>\n",
       "      <td>1.332398</td>\n",
       "      <td>6.180199</td>\n",
       "      <td>3.889084</td>\n",
       "      <td>4.531573</td>\n",
       "      <td>1.027934</td>\n",
       "      <td>3.044583</td>\n",
       "      <td>3.051015</td>\n",
       "      <td>4.035100</td>\n",
       "      <td>...</td>\n",
       "      <td>0.528561</td>\n",
       "      <td>0.631476</td>\n",
       "      <td>0.000000</td>\n",
       "      <td>0.000000</td>\n",
       "      <td>0.229263</td>\n",
       "      <td>0.989657</td>\n",
       "      <td>0.219338</td>\n",
       "      <td>1.037755</td>\n",
       "      <td>0.283823</td>\n",
       "      <td>0.0</td>\n",
       "    </tr>\n",
       "    <tr>\n",
       "      <th>2000-03</th>\n",
       "      <td>8.076472</td>\n",
       "      <td>5.783177</td>\n",
       "      <td>0.494058</td>\n",
       "      <td>6.885387</td>\n",
       "      <td>4.302596</td>\n",
       "      <td>5.320889</td>\n",
       "      <td>3.089404</td>\n",
       "      <td>2.892607</td>\n",
       "      <td>3.573562</td>\n",
       "      <td>5.835880</td>\n",
       "      <td>...</td>\n",
       "      <td>0.000000</td>\n",
       "      <td>0.901069</td>\n",
       "      <td>0.186887</td>\n",
       "      <td>0.000000</td>\n",
       "      <td>0.555234</td>\n",
       "      <td>0.396185</td>\n",
       "      <td>0.000000</td>\n",
       "      <td>0.178143</td>\n",
       "      <td>0.774355</td>\n",
       "      <td>0.0</td>\n",
       "    </tr>\n",
       "    <tr>\n",
       "      <th>2000-04</th>\n",
       "      <td>8.999574</td>\n",
       "      <td>3.264970</td>\n",
       "      <td>1.242531</td>\n",
       "      <td>5.909117</td>\n",
       "      <td>7.005908</td>\n",
       "      <td>7.803033</td>\n",
       "      <td>1.600608</td>\n",
       "      <td>3.841745</td>\n",
       "      <td>6.092838</td>\n",
       "      <td>5.710357</td>\n",
       "      <td>...</td>\n",
       "      <td>0.000000</td>\n",
       "      <td>0.421062</td>\n",
       "      <td>0.000000</td>\n",
       "      <td>0.562987</td>\n",
       "      <td>0.187342</td>\n",
       "      <td>0.934242</td>\n",
       "      <td>0.573487</td>\n",
       "      <td>0.526850</td>\n",
       "      <td>1.104481</td>\n",
       "      <td>0.0</td>\n",
       "    </tr>\n",
       "    <tr>\n",
       "      <th>2000-05</th>\n",
       "      <td>8.199903</td>\n",
       "      <td>4.102355</td>\n",
       "      <td>1.358301</td>\n",
       "      <td>5.982233</td>\n",
       "      <td>4.287039</td>\n",
       "      <td>4.297308</td>\n",
       "      <td>2.112467</td>\n",
       "      <td>3.094332</td>\n",
       "      <td>3.251916</td>\n",
       "      <td>6.452769</td>\n",
       "      <td>...</td>\n",
       "      <td>0.000000</td>\n",
       "      <td>1.251087</td>\n",
       "      <td>0.167923</td>\n",
       "      <td>0.000000</td>\n",
       "      <td>0.911436</td>\n",
       "      <td>0.704819</td>\n",
       "      <td>0.192804</td>\n",
       "      <td>0.000000</td>\n",
       "      <td>2.481364</td>\n",
       "      <td>0.0</td>\n",
       "    </tr>\n",
       "  </tbody>\n",
       "</table>\n",
       "<p>5 rows × 5956 columns</p>\n",
       "</div>"
      ],
      "text/plain": [
       "               10       100      1000      10yr        11        12       125  \\\n",
       "2000-01  6.810996  4.722850  1.554004  5.287402  3.835503  3.921624  0.489312   \n",
       "2000-02  6.583431  4.742737  1.332398  6.180199  3.889084  4.531573  1.027934   \n",
       "2000-03  8.076472  5.783177  0.494058  6.885387  4.302596  5.320889  3.089404   \n",
       "2000-04  8.999574  3.264970  1.242531  5.909117  7.005908  7.803033  1.600608   \n",
       "2000-05  8.199903  4.102355  1.358301  5.982233  4.287039  4.297308  2.112467   \n",
       "\n",
       "               13        14        15       ...         data storag  \\\n",
       "2000-01  3.474001  1.605717  6.355880       ...            0.000000   \n",
       "2000-02  3.044583  3.051015  4.035100       ...            0.528561   \n",
       "2000-03  2.892607  3.573562  5.835880       ...            0.000000   \n",
       "2000-04  3.841745  6.092838  5.710357       ...            0.000000   \n",
       "2000-05  3.094332  3.251916  6.452769       ...            0.000000   \n",
       "\n",
       "         govern said  bankruptci file  dresdner kleinwort  ernst young  \\\n",
       "2000-01     0.935871         0.181887            0.199304     0.000000   \n",
       "2000-02     0.631476         0.000000            0.000000     0.229263   \n",
       "2000-03     0.901069         0.186887            0.000000     0.555234   \n",
       "2000-04     0.421062         0.000000            0.562987     0.187342   \n",
       "2000-05     1.251087         0.167923            0.000000     0.911436   \n",
       "\n",
       "         report today  accus them  casualti insur  presid at  secondquart net  \n",
       "2000-01      0.984635    0.000000        0.000000   2.324393              0.0  \n",
       "2000-02      0.989657    0.219338        1.037755   0.283823              0.0  \n",
       "2000-03      0.396185    0.000000        0.178143   0.774355              0.0  \n",
       "2000-04      0.934242    0.573487        0.526850   1.104481              0.0  \n",
       "2000-05      0.704819    0.192804        0.000000   2.481364              0.0  \n",
       "\n",
       "[5 rows x 5956 columns]"
      ]
     },
     "execution_count": 205,
     "metadata": {},
     "output_type": "execute_result"
    }
   ],
   "source": [
    "tfidfDF.head()"
   ]
  },
  {
   "cell_type": "code",
   "execution_count": 218,
   "metadata": {
    "collapsed": false
   },
   "outputs": [],
   "source": [
    "corrs = np.corrcoef(np.hstack((CCIlimited.values , tfidfDF.values)), rowvar=0)"
   ]
  },
  {
   "cell_type": "code",
   "execution_count": 221,
   "metadata": {
    "collapsed": false
   },
   "outputs": [
    {
     "data": {
      "text/plain": [
       "array([ 1.        , -0.07720349, -0.01705099, ..., -0.04960686,\n",
       "       -0.0456907 , -0.05670581])"
      ]
     },
     "execution_count": 221,
     "metadata": {},
     "output_type": "execute_result"
    }
   ],
   "source": [
    "corrs[0]"
   ]
  },
  {
   "cell_type": "code",
   "execution_count": 225,
   "metadata": {
    "collapsed": false
   },
   "outputs": [
    {
     "data": {
      "text/plain": [
       "[<matplotlib.lines.Line2D at 0x12cbf1190>]"
      ]
     },
     "execution_count": 225,
     "metadata": {},
     "output_type": "execute_result"
    },
    {
     "data": {
      "image/png": "[encoded data removed]",
      "text/plain": [
       "<matplotlib.figure.Figure at 0x12ca20d90>"
      ]
     },
     "metadata": {},
     "output_type": "display_data"
    }
   ],
   "source": [
    "plt.plot(corrs[0][1:])"
   ]
  },
  {
   "cell_type": "code",
   "execution_count": 217,
   "metadata": {
    "collapsed": false
   },
   "outputs": [
    {
     "data": {
      "text/plain": [
       "(84, 5957)"
      ]
     },
     "execution_count": 217,
     "metadata": {},
     "output_type": "execute_result"
    }
   ],
   "source": [
    "np.hstack((CCIlimited.values , tfidfDF.values)).shape"
   ]
  },
  {
   "cell_type": "code",
   "execution_count": 243,
   "metadata": {
    "collapsed": false
   },
   "outputs": [
    {
     "data": {
      "text/plain": [
       "(20,)"
      ]
     },
     "execution_count": 243,
     "metadata": {},
     "output_type": "execute_result"
    }
   ],
   "source": [
    "corrs[0][1:][np.argsort(-np.abs(corrs[0][1:]))[:20]].shape"
   ]
  },
  {
   "cell_type": "code",
   "execution_count": 245,
   "metadata": {
    "collapsed": false
   },
   "outputs": [
    {
     "data": {
      "text/html": [
       "<div>\n",
       "<table border=\"1\" class=\"dataframe\">\n",
       "  <thead>\n",
       "    <tr style=\"text-align: right;\">\n",
       "      <th></th>\n",
       "      <th>0</th>\n",
       "    </tr>\n",
       "  </thead>\n",
       "  <tbody>\n",
       "    <tr>\n",
       "      <th>offici</th>\n",
       "      <td>-0.189569</td>\n",
       "    </tr>\n",
       "    <tr>\n",
       "      <th>bloomberg</th>\n",
       "      <td>-0.189236</td>\n",
       "    </tr>\n",
       "    <tr>\n",
       "      <th>problem</th>\n",
       "      <td>-0.184792</td>\n",
       "    </tr>\n",
       "    <tr>\n",
       "      <th>parent</th>\n",
       "      <td>-0.182394</td>\n",
       "    </tr>\n",
       "    <tr>\n",
       "      <th>cost</th>\n",
       "      <td>-0.181717</td>\n",
       "    </tr>\n",
       "    <tr>\n",
       "      <th>copyright infring</th>\n",
       "      <td>-0.178841</td>\n",
       "    </tr>\n",
       "    <tr>\n",
       "      <th>vehicl</th>\n",
       "      <td>-0.174455</td>\n",
       "    </tr>\n",
       "    <tr>\n",
       "      <th>regul</th>\n",
       "      <td>-0.174011</td>\n",
       "    </tr>\n",
       "    <tr>\n",
       "      <th>motor</th>\n",
       "      <td>-0.171876</td>\n",
       "    </tr>\n",
       "    <tr>\n",
       "      <th>lower</th>\n",
       "      <td>-0.171193</td>\n",
       "    </tr>\n",
       "    <tr>\n",
       "      <th>bloomberg news</th>\n",
       "      <td>-0.169638</td>\n",
       "    </tr>\n",
       "    <tr>\n",
       "      <th>publici group</th>\n",
       "      <td>-0.169374</td>\n",
       "    </tr>\n",
       "    <tr>\n",
       "      <th>util vehicl</th>\n",
       "      <td>-0.168738</td>\n",
       "    </tr>\n",
       "    <tr>\n",
       "      <th>truck</th>\n",
       "      <td>-0.168646</td>\n",
       "    </tr>\n",
       "    <tr>\n",
       "      <th>miki tanikawa</th>\n",
       "      <td>-0.166785</td>\n",
       "    </tr>\n",
       "    <tr>\n",
       "      <th>news</th>\n",
       "      <td>-0.166766</td>\n",
       "    </tr>\n",
       "    <tr>\n",
       "      <th>expect to</th>\n",
       "      <td>-0.166329</td>\n",
       "    </tr>\n",
       "    <tr>\n",
       "      <th>resign</th>\n",
       "      <td>-0.166223</td>\n",
       "    </tr>\n",
       "    <tr>\n",
       "      <th>statement</th>\n",
       "      <td>-0.165852</td>\n",
       "    </tr>\n",
       "    <tr>\n",
       "      <th>model</th>\n",
       "      <td>-0.165585</td>\n",
       "    </tr>\n",
       "  </tbody>\n",
       "</table>\n",
       "</div>"
      ],
      "text/plain": [
       "                          0\n",
       "offici            -0.189569\n",
       "bloomberg         -0.189236\n",
       "problem           -0.184792\n",
       "parent            -0.182394\n",
       "cost              -0.181717\n",
       "copyright infring -0.178841\n",
       "vehicl            -0.174455\n",
       "regul             -0.174011\n",
       "motor             -0.171876\n",
       "lower             -0.171193\n",
       "bloomberg news    -0.169638\n",
       "publici group     -0.169374\n",
       "util vehicl       -0.168738\n",
       "truck             -0.168646\n",
       "miki tanikawa     -0.166785\n",
       "news              -0.166766\n",
       "expect to         -0.166329\n",
       "resign            -0.166223\n",
       "statement         -0.165852\n",
       "model             -0.165585"
      ]
     },
     "execution_count": 245,
     "metadata": {},
     "output_type": "execute_result"
    }
   ],
   "source": [
    "pd.DataFrame(data = corrs[0][1:][np.argsort(-np.abs(corrs[0][1:]))[:20]], index = tfidfDF.columns[np.argsort(-np.abs(corrs[0][1:]))[:20]])"
   ]
  },
  {
   "cell_type": "code",
   "execution_count": 246,
   "metadata": {
    "collapsed": false
   },
   "outputs": [
    {
     "data": {
      "text/html": [
       "<div>\n",
       "<table border=\"1\" class=\"dataframe\">\n",
       "  <thead>\n",
       "    <tr style=\"text-align: right;\">\n",
       "      <th></th>\n",
       "      <th>0</th>\n",
       "    </tr>\n",
       "  </thead>\n",
       "  <tbody>\n",
       "    <tr>\n",
       "      <th>survey releas</th>\n",
       "      <td>0.125359</td>\n",
       "    </tr>\n",
       "    <tr>\n",
       "      <th>floyd norri</th>\n",
       "      <td>0.124450</td>\n",
       "    </tr>\n",
       "    <tr>\n",
       "      <th>nasdaq trade</th>\n",
       "      <td>0.122161</td>\n",
       "    </tr>\n",
       "    <tr>\n",
       "      <th>gold produc</th>\n",
       "      <td>0.120078</td>\n",
       "    </tr>\n",
       "    <tr>\n",
       "      <th>statist canada</th>\n",
       "      <td>0.117666</td>\n",
       "    </tr>\n",
       "    <tr>\n",
       "      <th>invest firm</th>\n",
       "      <td>0.116817</td>\n",
       "    </tr>\n",
       "    <tr>\n",
       "      <th>eke out</th>\n",
       "      <td>0.114455</td>\n",
       "    </tr>\n",
       "    <tr>\n",
       "      <th>technolog inc</th>\n",
       "      <td>0.114289</td>\n",
       "    </tr>\n",
       "    <tr>\n",
       "      <th>media conglomer</th>\n",
       "      <td>0.113966</td>\n",
       "    </tr>\n",
       "    <tr>\n",
       "      <th>vodafon airtouch</th>\n",
       "      <td>0.113395</td>\n",
       "    </tr>\n",
       "    <tr>\n",
       "      <th>alexandria va</th>\n",
       "      <td>0.113067</td>\n",
       "    </tr>\n",
       "    <tr>\n",
       "      <th>new hampshir</th>\n",
       "      <td>0.111161</td>\n",
       "    </tr>\n",
       "    <tr>\n",
       "      <th>would creat</th>\n",
       "      <td>0.107899</td>\n",
       "    </tr>\n",
       "    <tr>\n",
       "      <th>intel corpor</th>\n",
       "      <td>0.107600</td>\n",
       "    </tr>\n",
       "    <tr>\n",
       "      <th>regard as</th>\n",
       "      <td>0.103712</td>\n",
       "    </tr>\n",
       "    <tr>\n",
       "      <th>41 percent</th>\n",
       "      <td>0.102834</td>\n",
       "    </tr>\n",
       "    <tr>\n",
       "      <th>jetblu airway</th>\n",
       "      <td>0.102818</td>\n",
       "    </tr>\n",
       "    <tr>\n",
       "      <th>25 million</th>\n",
       "      <td>0.102510</td>\n",
       "    </tr>\n",
       "    <tr>\n",
       "      <th>will retain</th>\n",
       "      <td>0.100856</td>\n",
       "    </tr>\n",
       "    <tr>\n",
       "      <th>37 billion</th>\n",
       "      <td>0.100656</td>\n",
       "    </tr>\n",
       "  </tbody>\n",
       "</table>\n",
       "</div>"
      ],
      "text/plain": [
       "                         0\n",
       "survey releas     0.125359\n",
       "floyd norri       0.124450\n",
       "nasdaq trade      0.122161\n",
       "gold produc       0.120078\n",
       "statist canada    0.117666\n",
       "invest firm       0.116817\n",
       "eke out           0.114455\n",
       "technolog inc     0.114289\n",
       "media conglomer   0.113966\n",
       "vodafon airtouch  0.113395\n",
       "alexandria va     0.113067\n",
       "new hampshir      0.111161\n",
       "would creat       0.107899\n",
       "intel corpor      0.107600\n",
       "regard as         0.103712\n",
       "41 percent        0.102834\n",
       "jetblu airway     0.102818\n",
       "25 million        0.102510\n",
       "will retain       0.100856\n",
       "37 billion        0.100656"
      ]
     },
     "execution_count": 246,
     "metadata": {},
     "output_type": "execute_result"
    }
   ],
   "source": [
    "pd.DataFrame(data = corrs[0][1:][np.argsort(-(corrs[0][1:]))[:20]], index = tfidfDF.columns[np.argsort(-(corrs[0][1:]))[:20]])"
   ]
  },
  {
   "cell_type": "code",
   "execution_count": 231,
   "metadata": {
    "collapsed": false
   },
   "outputs": [
    {
     "data": {
      "text/plain": [
       "nan"
      ]
     },
     "execution_count": 231,
     "metadata": {},
     "output_type": "execute_result"
    }
   ],
   "source": [
    "corrs[0][2349]"
   ]
  },
  {
   "cell_type": "code",
   "execution_count": 233,
   "metadata": {
    "collapsed": false
   },
   "outputs": [
    {
     "data": {
      "text/plain": [
       "nan"
      ]
     },
     "execution_count": 233,
     "metadata": {},
     "output_type": "execute_result"
    }
   ],
   "source": [
    "-np.nan"
   ]
  },
  {
   "cell_type": "code",
   "execution_count": null,
   "metadata": {
    "collapsed": true
   },
   "outputs": [],
   "source": []
  }
 ],
 "metadata": {
  "kernelspec": {
   "display_name": "Python [conda env:AC209]",
   "language": "python",
   "name": "conda-env-AC209-py"
  },
  "language_info": {
   "codemirror_mode": {
    "name": "ipython",
    "version": 2
   },
   "file_extension": ".py",
   "mimetype": "text/x-python",
   "name": "python",
   "nbconvert_exporter": "python",
   "pygments_lexer": "ipython2",
   "version": "2.7.12"
  }
 },
 "nbformat": 4,
 "nbformat_minor": 0
}
